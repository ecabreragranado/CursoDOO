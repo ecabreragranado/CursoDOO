{
 "cells": [
  {
   "cell_type": "markdown",
   "metadata": {},
   "source": [
    "## Introducción\n",
    "\n",
    "La dependencia del índice de refracción con la longitud de onda de la radiación incidente tiene consecuencias en la formación de la imagen dada por los diferentes sistemas ópticos. En el presente ejercicio vamos a trabajar con un modelo de ojo reducido consistente en un único dioptrio.\n",
    "\n",
    "El presente ejercicio tiene como objetivo trabajar con vectores en Numpy y avanzar en la representación de datos mediante el módulo Matplotlib."
   ]
  },
  {
   "cell_type": "code",
   "execution_count": 2,
   "metadata": {
    "collapsed": true
   },
   "outputs": [],
   "source": [
    "import numpy as np\n",
    "import matplotlib.pyplot as plt\n",
    "%matplotlib inline"
   ]
  },
  {
   "cell_type": "markdown",
   "metadata": {
    "collapsed": true
   },
   "source": [
    "Consideremos un modelo de ojo reducido en donde el radio de la córnea es igual a $R = 5.7$ mm. Vamos a representar la aberración cromática en este ojo, considerando que el índice de refracción varía con la longitud de onda de la radiación como, \n",
    "\n",
    "$$n(\\lambda) = 1.326 + \\frac{2108.899}{\\lambda^2}$$\n",
    "\n",
    "donde la longitud de onda ha de introducirse en nm."
   ]
  },
  {
   "cell_type": "markdown",
   "metadata": {},
   "source": [
    "### Ejercicio 1\n",
    "\n",
    "Generar un array de 100 longitudes de onda entre 400 y 700 nm. Asignar este array a una variable denominada `Lambda` (Nota: no utilizar este nombre en minúsculas -`lambda`-  pues es una palabra reservada por Python). A continuación, generar otra variable que denominaremos `n` y que contenga los valores del índice de refracción para cada uno de los valores de `Lambda` según la fórmula anterior. Finalmente, representar `n` frente a `Lambda` en una gráfica añadiendo etiquetas a los ejes."
   ]
  },
  {
   "cell_type": "markdown",
   "metadata": {},
   "source": [
    "### Ejercicio 2\n",
    "\n",
    "En vez de aplicar la fórmula del índice de refracción directamente, definir una función que llamaremos `indice` con un argumento `x`. La función ha de devolver el valor del índice de refracción según la expresión comentada anteriormente. Utilizar esta función para calcular el valor del número de Abbe de este dioptrio, definido como, \n",
    "\n",
    "$$\\nu_d = \\frac{n_d -1}{n_F - n_C}$$\n",
    "\n",
    "donde $d, F$ y $C$ indican distintas líneas espectrales con las siguientes longitudes de onda: $d = 587.6$ nm, $F = 486.1$ nm y $C = 656.3$ nm. Almacenar el valor del número de Abbe en la variable `nu_d`."
   ]
  },
  {
   "cell_type": "markdown",
   "metadata": {},
   "source": [
    "La aberración cromática la vamos a definir como, \n",
    "\n",
    "$$ACL = \\frac{1}{s'_e} - \\frac{1}{s'_{\\lambda}}$$\n",
    "\n",
    "donde $e$ indica que se utiliza como referencia paraxial la línea del verde $e = 550$ nm y $s'$ indica la distancia imagen con respecto al vértice del dioptrio.\n",
    "\n",
    "Por otro lado, $s'$ puede calcularse en un dioptrio mediante el invariante de Abbe, \n",
    "\n",
    "$$\\frac{n}{s} + \\frac{n'}{s'} = \\frac{n'-n}{R}$$\n",
    "\n",
    "es decir, \n",
    "\n",
    "$$\\frac{1}{s'} = - \\frac{n}{n' s} + \\frac{n'-n}{n' R}$$\n",
    "\n",
    "### Ejercicio 3\n",
    "\n",
    "Definir una variable `R` con el valor del radio previamente comentado. A continuación, definir una variable `sprim_l` que contenga el valor de $1/s'$ considerando $s = - \\infty$ y para todas las longitudes de onda definidas en el apartado 1. Para ello deberemos introducir adecuadamente en la expresión anterior de esta magnitud el índice `n` calculado en el ejercicio 1. \n",
    "\n",
    "En la siguiente línea, definir una variable `sprim_e` que contenga el valor de $1/s'$ particularizado para la longitud de onda de 550 nm. Para ello utilizar la función `indice` definida en el ejercicio 2 y particularizar el cálculo del índice para dicha longitud de onda.\n",
    "\n",
    "Finalmente, almacenar en la variable `ACL` el valor de la aberración cromática para todas las longitudes de onda, y representar esta magnitud en función de la variable `Lambda`, añadiendo etiquetas a los ejes."
   ]
  }
 ],
 "metadata": {
  "kernelspec": {
   "display_name": "Python 3",
   "language": "python",
   "name": "python3"
  },
  "language_info": {
   "codemirror_mode": {
    "name": "ipython",
    "version": 3
   },
   "file_extension": ".py",
   "mimetype": "text/x-python",
   "name": "python",
   "nbconvert_exporter": "python",
   "pygments_lexer": "ipython3",
   "version": "3.4.4"
  },
  "toc": {
   "toc_cell": true,
   "toc_number_sections": true,
   "toc_threshold": 6,
   "toc_window_display": true
  }
 },
 "nbformat": 4,
 "nbformat_minor": 0
}
