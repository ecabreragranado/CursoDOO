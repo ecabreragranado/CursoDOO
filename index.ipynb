{
 "cells": [
  {
   "cell_type": "markdown",
   "metadata": {},
   "source": [
    "## Introducción a Python en Óptica. "
   ]
  },
  {
   "cell_type": "markdown",
   "metadata": {},
   "source": [
    "Este repositorio contiene diferentes ejercicios utilizados en la asignatura Diseño Óptico y Optométrico del Grado de Óptica y Optometría impartido en la Universidad Complutense de Madrid.\n",
    "\n",
    "El curso está orientado a estudiantes a partir de segundo año de Grado, sin conocimiento anterior de programación. Los presentes ejercicios se ofrecen como un medio para aprender a utilizar una herramienta de cálculo numérico mediante aplicaciones en el ámbito de la Óptica. Para más información, consultar el archivo [README](.README.md).\n",
    "\n",
    "*Autor:* \n",
    "\n",
    "*Dr. Eduardo Cabrera Granado. Prof. Contratado Doctor.Departamento de Óptica de la Universidad Complutense de Madrid.*\n",
    "\n"
   ]
  },
  {
   "cell_type": "markdown",
   "metadata": {
    "collapsed": true
   },
   "source": [
    "## Índice de contenidos"
   ]
  },
  {
   "cell_type": "markdown",
   "metadata": {},
   "source": [
    "**Corregir enlaces y títulos si es necesario**\n",
    "\n",
    "1. **Introducción a Python.**\n",
    "    * [Introducción a Python y Jupyter Notebook](./IntroduccionPython_1.ipynb)\n",
    "    * [Introducción a Python II](./IntroduccionPython_2_nbgrader.ipynb) \n",
    "    * [Ejercicio sobre Listas y Bucles](./EjercicioListasyBucles_nbgrader.ipynb) \n",
    "      \n",
    "2. **Cálculo científico con Python. Módulos**\n",
    "\n",
    "    * [Modulos de Cálculo Científico en Python](Modulos_de_calculo_cientifico_nbgrader.ipynb) \n",
    "    * [Ejercicio sobre Representación de Datos](EjercicioRepresentacionRelacionConjugacion.ipynb) \n",
    "    * [Ejercicio sobre el oscilador armónico](EjercicioOscArm.ipynb) \n",
    "    * [Ejercicio sobre coherencia longitudinal](./EjercicioCoherenciaLongitudinal/Ejercicio sobre Transformada de Fourier. Coherencia longitudinal.ipynb) \n",
    "    * [Ejercicio sobre aberración esférica](./AberracionEsferica/Aberracion Esferica.ipynb) \n",
    "    * [Ejercicio sobre aberración cromática](./AberracionCromatica/Aberración Cromática.ipynb) \n",
    "\n",
    "3. **Trabajo con Datos**\n",
    "    * [Ajuste de datos a modelos en Python](./Ajuste/Ajuste de datos con Python.ipynb) \n",
    "    * [Ejercicio ajuste de datos. Coef. de scattering de la piel](./EjercicioAjusteNoLineal/Ejercicio de Ajuste No Lineal.ipynb) \n",
    "    * [Ejercicio sobre Tratamientos Antirreflectantes](./EjercicioInterferenciaLamina/Interferencia en una lamina delgada.ipynb)\n",
    "    * [Representación en 3D](Matplotlib. Mapas de Color, Gráficas en 3D e Imágenes.ipynb) \n",
    "    * [Ejercicio sobre medida de tamaño de estructuras](Tamaño de partículas fluorescentes.ipynb) \n",
    "    * [Introducción a la Estadística en Python](Trabajando con funciones estadísticas en Python.ipynb) \n",
    "    * [Transformada de Fourier 1D](Transformada de Fourier.ipynb)\n",
    "    * [Transformada de Fourier 2D](Transformada de Fourier 2D.ipynb)\n",
    "    \n",
    "4. **Óptica Matricial**\n",
    "\n",
    "    * [Manejo de matrices](Manejo de matrices en Python.ipynb)\n",
    "    * [Introducción a la Óptica Matricial I](Introduccion_a_la_Optica_Matricial I.ipynb)\n",
    "    * [Introducción a la Óptica Matricial II](Introduccion_a_la_Optica_Matricial II.ipynb) \n",
    "    * [Tratamiento matricial de la polarización](Tratamiento matricial de la polarización.ipynb) \n",
    "    * [Ejercicio sobre tratamiento matricial de la polarización](EjerciciosPolarizacion.ipynb) \n",
    "   \n",
    "\n",
    "    \n",
    "\n",
    "   \n"
   ]
  },
  {
   "cell_type": "markdown",
   "metadata": {},
   "source": [
    "\n",
    "**Copyright**\n",
    "\n",
    "\n",
    "Todos los notebooks se proporcionan como Recurso Educativo Abierto (*Open Educational Resource*). Se permite el uso de todo el material mostrado como recurso educativo, pudiendo ser copiado y modificado según las necesidades. Si se utiliza, el autor agradecería que el trabajo sea referenciado, por ejemplo como *Notas y ejercicios de Introducción a Python en Óptica por Eduardo Cabrera Granado.*"
   ]
  }
 ],
 "metadata": {
  "kernelspec": {
   "display_name": "Python 3",
   "language": "python",
   "name": "python3"
  },
  "language_info": {
   "codemirror_mode": {
    "name": "ipython",
    "version": 3
   },
   "file_extension": ".py",
   "mimetype": "text/x-python",
   "name": "python",
   "nbconvert_exporter": "python",
   "pygments_lexer": "ipython3",
   "version": "3.4.5"
  },
  "toc": {
   "toc_cell": false,
   "toc_number_sections": true,
   "toc_threshold": 6,
   "toc_window_display": false
  }
 },
 "nbformat": 4,
 "nbformat_minor": 0
}
