{
 "cells": [
  {
   "cell_type": "markdown",
   "metadata": {},
   "source": [
    "## Introducción\n",
    "\n",
    "Las siguientes notas están basadas en el capítulo 14 (*Matrix treatment of polarization*) del libro **Pedrotti F.L., Pedrotti L.S. Introduction to Optics (2ed, Prentice-Hall, 1993).**\n",
    "\n",
    "------------\n",
    "\n",
    "El tratamiento matricial de la polarización realizado por R. Clark Jones se basa en describir la amplitud de las ondas electromagnéticas como un vector de dos componentes, el cual nos da su polarización, mientras que el efecto de los distintos elementos ópticos sobre este estado de polarización de la luz es descrito mediante matrices que actuarán sobre dichos vectores. \n",
    "\n",
    "En un primer apartado vamos a ver cómo definir unos vectores que representen la polarización de la luz, dejando para una segunda parte la definición de las matrices que caracterizarán elementos como polarizadores o retardadores. Es necesario indicar por otra parte que este análisis de la polarización deja fuera la descripción de la luz *parcialmente polarizada*. Para poder incluirla dentro de un tratamiento matricial sería necesario acudir a [los vectores de Stokes](https://en.wikipedia.org/wiki/Stokes_parameters) y [matrices de Mueller](https://en.wikipedia.org/wiki/Mueller_calculus), quedando fuera del objeto de estas notas."
   ]
  },
  {
   "cell_type": "markdown",
   "metadata": {},
   "source": [
    "### Vectores de Jones\n",
    "\n",
    "El caracter transversal de las ondas electromagnéticas permite asociar a la amplitud del campo eléctrico de la luz un vector de dos componentes que, si consideramos el eje **Z** como dirección de propagación, estará contenido en el plano **X-Y**.\n",
    "\n",
    "Por tanto, podemos expresar el vector campo eléctrico **E** de la luz como:\n",
    "\n",
    "$$ \\vec{E} = (E_{x} \\vec{i} + E_{y} \\vec{j}) $$\n",
    "\n",
    "donde $E_{x,y}$ son las componentes a lo largo del eje **X** e **Y** respectivamente. Si incluimos la evolución temporal y consideramos una onda monocromática, tendremos:\n",
    "\n",
    "$$ E_{x} = E_{0x} e^{i(kz - \\omega t + \\phi_x)}$$\n",
    "$$ E_{y} = E_{0y} e^{i(kz - \\omega t + \\phi_y)}$$\n",
    "\n",
    "o escrito de otro modo:\n",
    "\n",
    "$$\\vec{E} = (E_{0x} e^{\\phi_x} \\vec{i} + E_{0y} e^{\\phi_y} \\vec{j}) e^{i(kz - \\omega t)}$$\n",
    "\n",
    "donde $i$ es la unidad imaginaria $i = \\sqrt{-1}$. Podemos por tanto definir un vector de 2 componentes que contenga la amplitud y la fase de la componente x y la componente y:\n",
    "\n",
    "$$ \\vec{E_0} = \\left[ \\begin{array}{c}\n",
    "E_{0x} e^{\\phi_x} \\\\\n",
    "E_{0y} e^{\\phi_y} \\\\ \\end{array} \\right]$$\n",
    "\n",
    "Este vector nos permite describir la polarización de la luz. Además, la intensidad del haz vendría dada por la suma de los cuadrados de los módulos de las componentes. \n",
    "\n",
    "$$I = |E_{0x} e^{\\phi_x}|^2 + |E_{0y} e^{\\phi_y}|^2 = |E_{0x}|^2 + |E_{0y}|^2$$\n",
    "\n",
    "Veamos algunos ejemplos:\n",
    "\n",
    "* **Polarización lineal a lo largo del eje Y**\n",
    "\n",
    "En este caso, tendríamos que $E_{0x} = 0$. Además, normalmente se elige $\\phi_y = 0$ por conveniencia. Es decir, \n",
    "\n",
    "$$ \\vec{E_0} = \\left[ \\begin{array}{c}\n",
    "0 \\\\\n",
    "E_{0} \\\\ \\end{array} \\right]$$\n",
    "\n",
    "* **Polarización lineal a lo largo de un eje arbitrario**\n",
    "\n",
    "En este caso, si llamamos $\\alpha$ al ángulo que forma la dirección de polarización con el eje **X**, tendremos que\n",
    "\n",
    "\n",
    "$$ \\vec{E_0} = \\left[ \\begin{array}{c}\n",
    "E_0 \\cos(\\alpha) \\\\\n",
    "E_0 \\sin(\\alpha) \\\\ \\end{array} \\right]$$\n",
    "\n",
    "Se puede demostrar que si tenemos un vector de Jones $ \\vec{E_0} = \\left[ \\begin{array}{c}\n",
    "a \\\\\n",
    "b \\\\ \\end{array} \\right]$ con $a$ y $b$ reales, este vector representa un estado de polarización lineal a lo largo de un eje con un ángulo $\\alpha =$ arctan$(b/a)$ con respecto al eje **X**\n",
    "\n",
    "\n",
    "* **Polarización circular**\n",
    "\n",
    "En este caso, podemos tener dos posibilidades:\n",
    "\n",
    "  * Dextrógira (a derechas). El vector campo eléctrico describe una circunferencia a medida que se propaga donde el sentido de recorrido es el de las agujas del reloj. En este caso, la diferencia de fase $\\phi_y - \\phi_x = - \\pi/2$ y escogiendo $\\phi_x = 0$, tenemos que $\\phi_y = -\\pi/2$. Además, las amplitudes de ambas componentes han de ser iguales.\n",
    "    \n",
    "$$\\vec{E_0} = E_0 \\left[ \\begin{array}{c}\n",
    "1 \\\\\n",
    "-i \\\\ \\end{array} \\right]$$\n",
    "\n",
    "donde se ha tenido en cuenta que $e^{-i \\pi/2} = -i$\n",
    "\n",
    "  * Levógira (a izquierdas). El vector campo eléctrico describe una circunferencia a medida que se propaga donde el sentido de recorrido es el contrario al de las agujas del reloj.E n este caso, la diferencia de fase $\\phi_y - \\phi_x = \\pi/2$ y escogiendo $\\phi_x = 0$, tenemos que $\\phi_y =  \\pi/2$. Además, las amplitudes de ambas componentes han de ser iguales.\n",
    "\n",
    " $$ \\vec{E_0} = E_0 \\left[ \\begin{array}{c}\n",
    "1 \\\\\n",
    "i \\\\ \\end{array} \\right]$$\n",
    "\n",
    "**Nota: En Numpy el número imaginario $i$ se escribe mediante `1.0j`**\n",
    "\n",
    "* **Polarización elíptica**\n",
    "\n",
    "Igual que en el caso de polarización circular pero con amplitudes diferentes para las dos componentes."
   ]
  },
  {
   "cell_type": "code",
   "execution_count": 1,
   "metadata": {
    "collapsed": false
   },
   "outputs": [],
   "source": [
    "import numpy as np\n",
    "%matplotlib inline\n",
    "import matplotlib.pyplot as plt\n",
    "plt.style.use('ggplot')"
   ]
  },
  {
   "cell_type": "markdown",
   "metadata": {},
   "source": [
    "### Ejercicio 1\n",
    "\n",
    "Vamos a comprobar que, efectivamente, el vector campo eléctrico $\\vec{E}$ vibra describiendo la polarización comentada en los apartados anteriores. Para ello, \n",
    "\n",
    "1.1 Definir una variable `Lambda` que contenga una longitud de onda de 500 nm expresada en metros. A continuación, definir una variable `t` que almacene un array de 100 puntos equiespaciados desde 0 hasta el valor de un periodo de la oscilación del campo eléctrico asociado a la radiación con esa longitud de onda (recordar que $\\nu = c/\\lambda$ y $c$ es la velocidad de la luz en el vacío igual a $3 \\times 10^8$ m/s). "
   ]
  },
  {
   "cell_type": "markdown",
   "metadata": {},
   "source": [
    "1.2. Definir una variable `ex` que contenga la componente x del vector campo eléctrico para el caso de polarización lineal a 60º con respecto al eje **X** (recordar que los ejemplos anteriores sólo consideraban la amplitud del campo, estos vectores han de multiplicarse por $e^{i(-\\omega t)}$ para obtener la componente del campo eléctrico $\\vec{E}$). **Considerar una intensidad igual a 1.**\n",
    "\n",
    "Definir a continuación una variable `ey` que contenga la componente y del vector campo eléctrico para la misma polarización.\n",
    "\n",
    "Nota1: No estamos interesados en ver la evolución del campo con $z$ por lo que tomaremos $z = 0$ en este ejercicio.\n",
    "\n",
    "Nota2: La unidad imaginaria $i = \\sqrt{-1}$ se escribe en Python como `1.0j`. Así, $-i w t$ se escribe `-1.0j*w*t`."
   ]
  },
  {
   "cell_type": "markdown",
   "metadata": {},
   "source": [
    "1.3. Dibujar la parte real de `ey` frente a la parte real de `ex` en una figura. Añadir etiquetas a los ejes.\n",
    "\n",
    "Nota3: Para tomar la parte real de un número complejo `c` utilizar la función `np.real(c)`."
   ]
  },
  {
   "cell_type": "markdown",
   "metadata": {},
   "source": [
    "### Ejercicio 2\n",
    "\n",
    "Este ejercicio consiste en repetir el ejercicio anterior para el caso de polarización circular.\n",
    "\n",
    "2.1 Definir una variable `ex_c` que contenga la componente x del vector campo eléctrico para el caso de polarización circular dextrógira (recordar que los ejemplos anteriores sólo consideraban la amplitud del campo, estos vectores han de multiplicarse por $e^{-i\\omega t}$ para obtener la componente del campo eléctrico $\\vec{E}$).**Considerar una intensidad igual a 1**.\n",
    "\n",
    "Definir a continuación una variable `ey_c` que contenga la componente y del vector campo eléctrico para la misma polarización."
   ]
  },
  {
   "cell_type": "markdown",
   "metadata": {},
   "source": [
    "2.2. Dibujar la parte real de `ey` frente a la parte real de `ex` en una figura. Añadir etiquetas a los ejes \n",
    "\n",
    "Nota3: Para tomar la parte real de un número complejo `c` utilizar la función `np.real(c)`."
   ]
  },
  {
   "cell_type": "markdown",
   "metadata": {},
   "source": [
    "### Ejercicio 3\n",
    "\n",
    "3.1 Almacena en una variable `circl` el vector de Jones para la polarización circular a izquierdas y en una variable `circr` el vector de Jones para la polarización circular a derechas. A continuación almacena en la variable `superposicion` el resultado de la superposición (incoherente) de estos dos estados de polarización. Indicar en la variable de texto `estado` el estado de polarización de esta superposición (`lineal`, `circular`, `eliptico`)"
   ]
  },
  {
   "cell_type": "markdown",
   "metadata": {},
   "source": [
    "3.2 Almacenar en una variable `linh` el vector de Jones para la polarización lineal horizontal (eje **X**) y en una variable `linv` el vector de Jones para la polarización lineal vertical (eje **Y**). Considerar la intensidad total igual a 1 en ambos casos. A continuación calcula qué polarización tiene la superposición (incoherente) de estos dos estados de polarización almacenando esta superposición en la variable `sup_lin`. Indicar en la variable de texto `estado_sup` el estado de polarización de esta superposición (lineal, circular, eliptico)"
   ]
  },
  {
   "cell_type": "markdown",
   "metadata": {
    "collapsed": false
   },
   "source": [
    "## Matrices asociadas a elementos ópticos\n",
    "\n"
   ]
  },
  {
   "cell_type": "markdown",
   "metadata": {},
   "source": [
    "Podemos describir la acción de elementos ópticos como polarizadores o retardadores sobre el estado de polarización de la luz por medio de matrices 2x2 que actúan sobre los vectores de Jones."
   ]
  },
  {
   "cell_type": "markdown",
   "metadata": {},
   "source": [
    "### Ejercicio 4\n",
    "\n",
    "Vamos a hallar la matriz asociada a un polarizador con eje a 45$^o$ siguiendo el método anteriormente expuesto.\n",
    "\n",
    "\n",
    "4.1 Almacena en la variable `lin45` el vector de Jones para una polarización lineal a 45$^o$ con respecto al eje **X** y en la variable `lin135` el vector de Jones para una polarización lineal a 135º con respecto al eje **X**. En ambos casos fijar la intensidad a 1."
   ]
  },
  {
   "cell_type": "markdown",
   "metadata": {},
   "source": [
    "4.2 La matriz asociada al polarizador buscado dejará inalterado el vector `lin45` mientras que al multiplicar la matriz por el vector `lin135` el resultado ha de ser nulo. Escribe en forma matricial $$A x = b$$ el sistema de ecuaciones resultante, definiendo la matriz `A` 4x4 de coeficientes y el vector `b` de términos independientes."
   ]
  },
  {
   "cell_type": "markdown",
   "metadata": {},
   "source": [
    "4.3 Resuelve el anterior sistema de ecuaciones y almacena la solución en la variable `x`, la cual será un array 4x1. A continuación define la variable `MP45` como la matriz 2x2 asociada al polarizador buscado a partir de los elementos de `x`. Para ello, buscar cómo cambiar la forma (*shape*) de una matriz (número de filas y columnas manteniendo los elementos)."
   ]
  },
  {
   "cell_type": "markdown",
   "metadata": {},
   "source": [
    "### Retardador\n",
    "\n",
    "Un retardador introduce una diferencia de fase entre las dos componentes del campo eléctrico debido a que se propagan con velocidades diferentes a lo largo del material (índices de refracción distintos). La matriz general para un retardador es, \n",
    "\n",
    "$$M_R = \\left[ \\begin{array}{c c}\n",
    "e^{i\\varepsilon_x} & 0 \\\\\n",
    "0 & e^{i\\varepsilon_y} \\\\ \\end{array} \\right]$$\n",
    "\n",
    "En esta matriz lo importante es la diferencia $\\Delta \\varepsilon = \\varepsilon_x - \\varepsilon_y$ más que los valores concretos de cada desfase. Los casos más importantes son, \n",
    "\n",
    "\n",
    "* Lámina $\\lambda/4$. En este caso $\\Delta \\varepsilon = \\pi/2$. La elección de la matriz más usual es, \n",
    "\n",
    "$$M_4 = \\left[ \\begin{array}{c c}\n",
    "e^{-i\\pi/4} & 0 \\\\\n",
    "0 & e^{i\\pi/4} \\\\ \\end{array} \\right]$$\n",
    "\n",
    "para el caso en el que el eje con velocidad más lenta sea el horizontal. O bien, \n",
    "\n",
    "$$M_4 = \\left[ \\begin{array}{c c}\n",
    "e^{i\\pi/4} & 0 \\\\\n",
    "0 & e^{-i\\pi/4} \\\\ \\end{array} \\right]$$\n",
    "\n",
    "para el caso en el que el eje con velocidad más lenta sea el vertical.\n",
    "\n",
    "\n",
    "* Lámina $\\lambda/2$. En este caso $\\Delta \\varepsilon = \\pi$. La elección de la matriz más usual es, \n",
    "\n",
    "$$M_4 = \\left[ \\begin{array}{c c}\n",
    "e^{-i\\pi/2} & 0 \\\\\n",
    "0 & e^{i\\pi/2} \\\\ \\end{array} \\right]$$"
   ]
  },
  {
   "cell_type": "markdown",
   "metadata": {},
   "source": [
    "### Ejercicio 5\n",
    "\n",
    "Vamos a tratar una disposición de polarizador + lámina $\\lambda/4$ que permite aislar un sistema de posibles reflexiones (*aislador óptico*). \n",
    "\n",
    "Para ello, al igual que se realiza en el análisis maticial de la propagación de un rayo a través de un sistema óptico, cada matriz que caracteriza a un elemento óptico actúa sobre el vector $que representa el estado de polarización mediante una multiplicación matricial,\n",
    "\n",
    "$${\\bf v_p^{final}} = M_p \\times {\\bf v_p^{inicial}}$$\n",
    "\n",
    "Recordar que la multiplicación matricial se realiza en Numpy mediante la función `np.dot`.\n",
    "\n",
    "5.1 Almacenar en la variable `lin30` un vector de Jones que describa un estado de polarización lineal a 30$^o$ con intensidad unidad. En la misma celda, almacenar la matriz de un polarizador con su eje de transmisión a 45$^o$ con respecto al eje **X** en la variable `P_45` y la matriz de una lámina $\\lambda/4$ con su eje *lento* a lo largo de la dirección vertical en la variable `R4`."
   ]
  },
  {
   "cell_type": "markdown",
   "metadata": {},
   "source": [
    "5.2 Almacenar en la variable `reflec` el vector de Jones resultado de hacer incidir un haz con polarización a 30$^o$ sobre la combinación de polarizador a 45$^o$ más lámina $\\lambda/4$ (almacenadas en las variables `P_45` y `R4` del apartado anterior), ser reflejado por alguna superficie y pasar de nuevo por la misma combinación en sentido inverso. Demostrar que la reflexión es eliminada con este sistema"
   ]
  },
  {
   "cell_type": "markdown",
   "metadata": {},
   "source": [
    "### Ejercicio 6\n",
    "\n",
    "Vamos a demostrar ahora que el efecto de una lámina $\\lambda/2$ sobre un haz polarizado linealmente a un ángulo $\\alpha$ es rotar el eje de polarización un ángulo 2$\\alpha$.\n",
    "\n",
    "6.1 Almacenar en la variable `lin40` un vector de Jones que describa un estado de polarización lineal a 40$^o$ con intensidad unidad. En la misma celda, almacenar  la matriz de una lámina $\\lambda/2$ en la variable `R2`."
   ]
  },
  {
   "cell_type": "markdown",
   "metadata": {},
   "source": [
    "6.2 Almacenar en la variable `result` el vector de Jones resultado de hacer incidir un haz polarizado linealmente a 40$^o$ sobre una lámina $\\lambda/2$. Inspeccionando al variable `result` escribir en la variable `ang` el ángulo, en grados, al que está linealmente polarizado este resultado"
   ]
  }
 ],
 "metadata": {
  "kernelspec": {
   "display_name": "Python 3",
   "language": "python",
   "name": "python3"
  },
  "language_info": {
   "codemirror_mode": {
    "name": "ipython",
    "version": 3
   },
   "file_extension": ".py",
   "mimetype": "text/x-python",
   "name": "python",
   "nbconvert_exporter": "python",
   "pygments_lexer": "ipython3",
   "version": "3.4.4"
  },
  "toc": {
   "toc_cell": false,
   "toc_number_sections": true,
   "toc_threshold": 6,
   "toc_window_display": false
  }
 },
 "nbformat": 4,
 "nbformat_minor": 0
}
