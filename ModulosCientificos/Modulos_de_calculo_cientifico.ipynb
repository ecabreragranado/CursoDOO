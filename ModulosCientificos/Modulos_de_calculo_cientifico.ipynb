{
 "cells": [
  {
   "cell_type": "markdown",
   "metadata": {},
   "source": [
    "## Numpy, Scipy y Matplotlib"
   ]
  },
  {
   "cell_type": "markdown",
   "metadata": {},
   "source": [
    "Como hemos comentado en otras clases, Python tiene una gran cantidad de módulos o librerías de funciones que le dan una gran versatilidad. Entre todos estos módulos, hay 3 esenciales a la hora de realizar cálculos científicos en Python. \n",
    "\n",
    "* Numpy\n",
    "\n",
    "* Scipy \n",
    "\n",
    "* Matplotlib\n",
    "\n",
    "El primero de ellos, Numpy, proporciona las operaciones básicas para tratar con vectores y matrices, así como algunas funciones para realizar la transformada de Fourier o álgebra lineal por ejemplo. Scipy es un conjunto de submódulos cada uno de los cuales se dedica a un tema distinto de cálculo numérico. Por ejemplo, encontramos en él un submódulo dedicado al procesado de imágenes, otro dedicado a la optimización, otro distinto dedicado a estadística. Cada uno de estos submódulos contienen una gran cantidad de funciones útiles en estos campos. Para alguien familiarizado con Matlab, podríamos decir que Scipy es como las toolboxes de este programa comercial, que extienden la funcionalidad del programa en distintos ámbitos.\n",
    "\n",
    "Finalmente, el módulo Matplotlib es el módulo más utilizado para obtener figuras en Python y es el que utilizaremos para dibujar nuestros resultados."
   ]
  },
  {
   "cell_type": "markdown",
   "metadata": {},
   "source": [
    "### Numpy"
   ]
  },
  {
   "cell_type": "markdown",
   "metadata": {},
   "source": [
    "Lo primero para trabajar con cualquier módulo es importarlo"
   ]
  },
  {
   "cell_type": "code",
   "execution_count": 2,
   "metadata": {
    "collapsed": false
   },
   "outputs": [],
   "source": [
    "import numpy as np"
   ]
  },
  {
   "cell_type": "markdown",
   "metadata": {},
   "source": [
    "En este caso, para acceder a las funciones de numpy tenemos que escribir `np.nombre_funcion`. Por ejemplo, para acceder a la función coseno, escribiremos `np.cos`. \n",
    "\n",
    "Podemos ver la lista de funciones contenidas en el módulo Numpy presionando la tecla TAB después de haber escrito `np.`. Hazlo en la siguiente celda"
   ]
  },
  {
   "cell_type": "code",
   "execution_count": 1,
   "metadata": {
    "collapsed": true
   },
   "outputs": [
    {
     "ename": "SyntaxError",
     "evalue": "invalid syntax (<ipython-input-1-a58a88215da2>, line 1)",
     "output_type": "error",
     "traceback": [
      "\u001b[1;36m  File \u001b[1;32m\"<ipython-input-1-a58a88215da2>\"\u001b[1;36m, line \u001b[1;32m1\u001b[0m\n\u001b[1;33m    np.\u001b[0m\n\u001b[1;37m       ^\u001b[0m\n\u001b[1;31mSyntaxError\u001b[0m\u001b[1;31m:\u001b[0m invalid syntax\n"
     ]
    }
   ],
   "source": [
    "np."
   ]
  },
  {
   "cell_type": "markdown",
   "metadata": {},
   "source": [
    "**Definición de vectores y matrices**\n",
    "\n",
    "La diferencia entre un vector y una lista es que en ésta podemos agrupar elementos de distinto tipo, es decir, un número y una cadena de caracteres por ejemplo.Sin embargo, en un vector todos los elementos han de ser del mismo tipo. Normalmente trabajaremos con números,ya sea enteros (1, 2, -1, -10...), o reales (3.141519, ...).\n",
    "\n",
    "Para definir un vector, lo podemos hacer de varias formas. Vamos a ver algunas de ellas.\n",
    "\n",
    "Con la función `np.array`:"
   ]
  },
  {
   "cell_type": "code",
   "execution_count": 6,
   "metadata": {
    "collapsed": false
   },
   "outputs": [
    {
     "data": {
      "text/plain": [
       "array([1, 2, 3, 4])"
      ]
     },
     "execution_count": 6,
     "metadata": {},
     "output_type": "execute_result"
    }
   ],
   "source": [
    "np.array([1,2,3,4])"
   ]
  },
  {
   "cell_type": "markdown",
   "metadata": {},
   "source": [
    "Con la función `np.linspace` (Nota: esta función también se encuentra en Matlab y Octave)"
   ]
  },
  {
   "cell_type": "code",
   "execution_count": 7,
   "metadata": {
    "collapsed": false
   },
   "outputs": [
    {
     "data": {
      "text/plain": [
       "array([  4.        ,   4.66666667,   5.33333333,   6.        ,\n",
       "         6.66666667,   7.33333333,   8.        ,   8.66666667,\n",
       "         9.33333333,  10.        ])"
      ]
     },
     "execution_count": 7,
     "metadata": {},
     "output_type": "execute_result"
    }
   ],
   "source": [
    "np.linspace(4, 10, 10) # Crea un vector de 10 elementos, desde el 4 hasta el 10"
   ]
  },
  {
   "cell_type": "markdown",
   "metadata": {},
   "source": [
    "Con la función `np.arange`. Esta función es análoga a la función `range` básica de Python. La única diferencia es que la función `np.arange` nos da un vector de Numpy"
   ]
  },
  {
   "cell_type": "code",
   "execution_count": 8,
   "metadata": {
    "collapsed": false
   },
   "outputs": [
    {
     "data": {
      "text/plain": [
       "array([0, 1, 2, 3, 4, 5, 6, 7, 8, 9])"
      ]
     },
     "execution_count": 8,
     "metadata": {},
     "output_type": "execute_result"
    }
   ],
   "source": [
    "np.arange(10)"
   ]
  },
  {
   "cell_type": "code",
   "execution_count": 9,
   "metadata": {
    "collapsed": false
   },
   "outputs": [
    {
     "data": {
      "text/plain": [
       "array([3, 5, 7, 9])"
      ]
     },
     "execution_count": 9,
     "metadata": {},
     "output_type": "execute_result"
    }
   ],
   "source": [
    "np.arange(3,11,2) # vector de números desde 3 hasta 11 con paso 2"
   ]
  },
  {
   "cell_type": "markdown",
   "metadata": {},
   "source": [
    "Otras funciones interesantes que nos crean vectores especiales son, "
   ]
  },
  {
   "cell_type": "code",
   "execution_count": 10,
   "metadata": {
    "collapsed": false
   },
   "outputs": [
    {
     "data": {
      "text/plain": [
       "array([ 0.,  0.,  0.,  0.,  0.,  0.,  0.,  0.,  0.,  0.])"
      ]
     },
     "execution_count": 10,
     "metadata": {},
     "output_type": "execute_result"
    }
   ],
   "source": [
    "np.zeros(10) # Crea un vector de 10 ceros"
   ]
  },
  {
   "cell_type": "code",
   "execution_count": 11,
   "metadata": {
    "collapsed": false
   },
   "outputs": [
    {
     "data": {
      "text/plain": [
       "array([ 1.,  1.,  1.,  1.,  1.])"
      ]
     },
     "execution_count": 11,
     "metadata": {},
     "output_type": "execute_result"
    }
   ],
   "source": [
    "np.ones(5) # Crea un vector de 5 unos"
   ]
  },
  {
   "cell_type": "markdown",
   "metadata": {},
   "source": [
    "Al igual que con las listas, podemos acceder a cada uno de los elementos de un array mediante su posición (índice) recordando que en Python, el índice del primer elemento es 0. También podemos seleccionar una parte del array indicando el primer índice y el último índice más uno de los elementos que queremos seleccionar."
   ]
  },
  {
   "cell_type": "code",
   "execution_count": 3,
   "metadata": {
    "collapsed": false
   },
   "outputs": [
    {
     "name": "stdout",
     "output_type": "stream",
     "text": [
      "-3.0\n",
      "[ 7.8 -3. ]\n"
     ]
    }
   ],
   "source": [
    "a = np.array([5.6, 7.8, -3])\n",
    "print(a[2])\n",
    "print(a[1:3])"
   ]
  },
  {
   "cell_type": "markdown",
   "metadata": {},
   "source": [
    "La multiplicación de un escalar por un array resulta en otro array en donde cada elemento es igual al producto del escalar por ese mismo elemento del array original. "
   ]
  },
  {
   "cell_type": "code",
   "execution_count": 4,
   "metadata": {
    "collapsed": false
   },
   "outputs": [
    {
     "name": "stdout",
     "output_type": "stream",
     "text": [
      "[ 16.8  23.4  -9. ]\n"
     ]
    }
   ],
   "source": [
    "print(3*a)"
   ]
  },
  {
   "cell_type": "markdown",
   "metadata": {},
   "source": [
    "### Ejercicio 1"
   ]
  },
  {
   "cell_type": "markdown",
   "metadata": {},
   "source": [
    "a) Genera un vector de 120 elementos entre los valores -2.1 y 5.65 y almacénalo en la variable `ej1_a`\n",
    "\n",
    "b) Multiplica este vector por 0.5 y almacénalo en la variable `ej1_b`\n",
    "\n",
    "c) Crea otro vector `ej1_c` que sea el resultado de restar los elementos de `ej1_b` a los de `ej1_a`\n",
    "\n",
    "d) Calcula otro vector que sea el resultado de seleccionar de `ej1_a` los elementos con índices desde el 3 al 99, y elevar al cuadrado cada uno de ellos."
   ]
  },
  {
   "cell_type": "markdown",
   "metadata": {},
   "source": [
    "**Matrices**\n",
    "\n",
    "Numpy define las matrices como vectores bidimensionales. También podemos ampliar las dimensiones a 3, 4, etc. Las mismas funciones que hemos visto antes nos sirven, aunque la sintaxis varía ligeramente para adaptarla a las dimensiones de la matriz"
   ]
  },
  {
   "cell_type": "code",
   "execution_count": 13,
   "metadata": {
    "collapsed": false
   },
   "outputs": [
    {
     "data": {
      "text/plain": [
       "array([[1, 2, 3],\n",
       "       [3, 2, 1]])"
      ]
     },
     "execution_count": 13,
     "metadata": {},
     "output_type": "execute_result"
    }
   ],
   "source": [
    "np.array([[1,2,3],[3,2,1]]) #Podemos dar cada una de las filas de la matriz como vectores"
   ]
  },
  {
   "cell_type": "code",
   "execution_count": 16,
   "metadata": {
    "collapsed": false
   },
   "outputs": [
    {
     "data": {
      "text/plain": [
       "array([[ 0.,  0.,  0.],\n",
       "       [ 0.,  0.,  0.]])"
      ]
     },
     "execution_count": 16,
     "metadata": {},
     "output_type": "execute_result"
    }
   ],
   "source": [
    "np.zeros((2,3)) # Matriz de ceros de 2 filas y 3 columnas"
   ]
  },
  {
   "cell_type": "code",
   "execution_count": 17,
   "metadata": {
    "collapsed": false
   },
   "outputs": [
    {
     "data": {
      "text/plain": [
       "array([[ 1.,  1.,  1.],\n",
       "       [ 1.,  1.,  1.],\n",
       "       [ 1.,  1.,  1.]])"
      ]
     },
     "execution_count": 17,
     "metadata": {},
     "output_type": "execute_result"
    }
   ],
   "source": [
    "np.ones((3,3)) # Matriz de unos de 3 filas y 3 columnas"
   ]
  },
  {
   "cell_type": "markdown",
   "metadata": {},
   "source": [
    "Otras funciones interesantes para crear matrices son, "
   ]
  },
  {
   "cell_type": "code",
   "execution_count": 20,
   "metadata": {
    "collapsed": false
   },
   "outputs": [
    {
     "data": {
      "text/plain": [
       "array([[3, 0],\n",
       "       [0, 2]])"
      ]
     },
     "execution_count": 20,
     "metadata": {},
     "output_type": "execute_result"
    }
   ],
   "source": [
    "np.diag([3,2]) # Matriz diagonal donde en la diagonal tenemos un 3 y un 2"
   ]
  },
  {
   "cell_type": "code",
   "execution_count": 21,
   "metadata": {
    "collapsed": false
   },
   "outputs": [
    {
     "data": {
      "text/plain": [
       "array([[ 1.,  0.,  0.],\n",
       "       [ 0.,  1.,  0.],\n",
       "       [ 0.,  0.,  1.]])"
      ]
     },
     "execution_count": 21,
     "metadata": {},
     "output_type": "execute_result"
    }
   ],
   "source": [
    "np.identity(3) # Matriz identidad (matriz donde los únicos elementos distintos de cero \n",
    "               # están en la diagonal y son unos."
   ]
  },
  {
   "cell_type": "markdown",
   "metadata": {},
   "source": [
    "Una vez tengamos una matriz o un vector, podemos inspeccionar su tamaño, el número total de elementos, así como el número de dimensiones que tiene, "
   ]
  },
  {
   "cell_type": "code",
   "execution_count": 24,
   "metadata": {
    "collapsed": false
   },
   "outputs": [],
   "source": [
    "M = np.array([[3,4,5],[-1,0,2]])"
   ]
  },
  {
   "cell_type": "code",
   "execution_count": 25,
   "metadata": {
    "collapsed": false
   },
   "outputs": [
    {
     "data": {
      "text/plain": [
       "(2, 3)"
      ]
     },
     "execution_count": 25,
     "metadata": {},
     "output_type": "execute_result"
    }
   ],
   "source": [
    "np.shape(M) # Nos da el número de filas y de columnas de la matriz"
   ]
  },
  {
   "cell_type": "code",
   "execution_count": 27,
   "metadata": {
    "collapsed": false
   },
   "outputs": [
    {
     "data": {
      "text/plain": [
       "6"
      ]
     },
     "execution_count": 27,
     "metadata": {},
     "output_type": "execute_result"
    }
   ],
   "source": [
    "np.size(M) # Nos da el número total de elementos de la matriz"
   ]
  },
  {
   "cell_type": "code",
   "execution_count": 28,
   "metadata": {
    "collapsed": false
   },
   "outputs": [
    {
     "data": {
      "text/plain": [
       "2"
      ]
     },
     "execution_count": 28,
     "metadata": {},
     "output_type": "execute_result"
    }
   ],
   "source": [
    "np.ndim(M) # Nos da el número de dimensiones de la matriz"
   ]
  },
  {
   "cell_type": "markdown",
   "metadata": {},
   "source": [
    "También podemos acceder a cada uno de sus elementos al igual que en un array 1D"
   ]
  },
  {
   "cell_type": "code",
   "execution_count": null,
   "metadata": {
    "collapsed": true
   },
   "outputs": [],
   "source": [
    "M[0,0]"
   ]
  },
  {
   "cell_type": "code",
   "execution_count": null,
   "metadata": {
    "collapsed": true
   },
   "outputs": [],
   "source": [
    "M[1,2]"
   ]
  },
  {
   "cell_type": "markdown",
   "metadata": {},
   "source": [
    "### Ejercicio 2\n",
    "\n",
    "1. En la siguiente celda, genera la matriz  $ A = \\left[ \\begin{array}{ccc} 0 & 0.5 & 3 \\\\ 2 & -1 & 1 \\\\ 1 & 2.5 & 0.56 \\end{array} \\right]$\n",
    "\n",
    "2. En la misma celda, guarda en la variable `A12` elemento correspondiente a la primera fila y segunda columna de la anterior matriz. Guarda en la variable `A11` el elemento correspondiente a la primera fila y a la primera columna."
   ]
  },
  {
   "cell_type": "markdown",
   "metadata": {},
   "source": [
    "**Lectura de datos de un fichero**\n",
    "\n",
    "Normalmente tenemos un fichero con datos que queremos analizar. Para ello, tenemos que asignar una variable a estos datos, la cual será un vector o una matriz (Numpy no distingue entre ambos, los llama vectores N-dimensionales)\n",
    "\n",
    "Para ello disponemos de varias funciones. Nosotros vamos a centrarnos en el uso de `np.loadtxt`"
   ]
  },
  {
   "cell_type": "code",
   "execution_count": null,
   "metadata": {
    "collapsed": false
   },
   "outputs": [],
   "source": [
    "y = np.loadtxt()"
   ]
  },
  {
   "cell_type": "markdown",
   "metadata": {},
   "source": [
    "**Salvar los datos a un fichero**\n",
    "\n",
    "Esta operación se realiza con la función `np.savetxt`. Tenemos que escribir el nombre del fichero y la variable que queremos salvar."
   ]
  },
  {
   "cell_type": "code",
   "execution_count": null,
   "metadata": {
    "collapsed": false
   },
   "outputs": [],
   "source": []
  },
  {
   "cell_type": "markdown",
   "metadata": {},
   "source": [
    "**Operaciones con los datos**\n",
    "\n",
    "El módulo Numpy proporciona algunas funciones que nos permiten operar con los vectores sin acudir al módulo Scipy, más especializado en distintos ámbitos. Por ejemplo, podemos hacer la suma de todos los elementos (o de parte de ellos) de un vector, calcular la media, la desviación estándar, etc."
   ]
  },
  {
   "cell_type": "code",
   "execution_count": 11,
   "metadata": {
    "collapsed": false
   },
   "outputs": [
    {
     "name": "stdout",
     "output_type": "stream",
     "text": [
      "Desviación estandar de a =  2.91576465129\n",
      "Media de los elementos de a =  5.0\n",
      "Suma de todos los elementos de a =  500.0\n"
     ]
    }
   ],
   "source": [
    "a = np.linspace(0,10,100)\n",
    "print('Desviación estandar de a = ', np.std(a))\n",
    "print('Media de los elementos de a = ', np.mean(a))\n",
    "print('Suma de todos los elementos de a = ', np.sum(a))"
   ]
  },
  {
   "cell_type": "markdown",
   "metadata": {},
   "source": [
    "También dispone de multitud de funciones matemáticas adaptadas para operar sobre cada uno de los elementos de un array"
   ]
  },
  {
   "cell_type": "code",
   "execution_count": 13,
   "metadata": {
    "collapsed": false
   },
   "outputs": [
    {
     "data": {
      "text/plain": [
       "array([ 0.10135505,  0.20481411,  0.31265964,  0.42756404,  0.5528785 ,\n",
       "        0.69307119,  0.85444802,  1.04642632,  1.28395879])"
      ]
     },
     "execution_count": 13,
     "metadata": {},
     "output_type": "execute_result"
    }
   ],
   "source": [
    "np.tan(a[1:10]) # realiza la tangente de los elementos de un array asumiendo que son ángulos expresados en radianes."
   ]
  },
  {
   "cell_type": "markdown",
   "metadata": {},
   "source": [
    "### Ejercicio 3\n",
    "\n",
    "3.1. Carga los datos del fichero `prueba1.dat` en una variable `y`. A continuación, almacena en la variable `tam_y` el tamaño de esa variable."
   ]
  },
  {
   "cell_type": "markdown",
   "metadata": {},
   "source": [
    "3.2 Calcula la media mediante el uso de su fórmula ($ media = \\frac{y_1 + y_2 + \\ldots + y_N}{N}$) y almacena este resultado en la variable `media_calc`. Calcula la media mediante la función de Numpy apropiada para ello y almacena el resultado en la variable `media_numpy`.Compara el resultado almacenando la división entre `media_calc` y `media_numpy` en la variable `compar_medias`. Muestra el valor de esta variable en el notebook"
   ]
  },
  {
   "cell_type": "markdown",
   "metadata": {},
   "source": [
    "3.3.  Crea una variable `ymod` que tenga los valores de `y` menos la media calculada anteriormente y almacenada en `media_numpy`. Salva esa variable en un fichero `prueba2.dat`"
   ]
  },
  {
   "cell_type": "markdown",
   "metadata": {},
   "source": [
    "### Matplotlib"
   ]
  },
  {
   "cell_type": "markdown",
   "metadata": {},
   "source": [
    "El módulo Matplotlib proporciona las funciones necesarias para visualizar los datos. Podemos generar figuras, modificar su tamaño, poner etiquetas a los ejes, etc.\n",
    "\n",
    "Las posibilidades y funciones del módulo son demasiado amplias para ser tratadas en este curso. Vamos a ver funcionalidades básicas: dibujar una curva, manejar el rango en el que queremos mostrar la curva, y finalmente, cómo dibujar mapas de color y figuras en 3D.\n",
    "\n",
    "Lo primero que tenemos que hacer es importar el módulo que nos permitirá dibujar las curvas. También tendremos que elegir entre que nos muestre las figuras incrustadas en el notebook, o que nos genere una ventanta flotante por cada figura que representemos. Esta opción permite una hacer zoom con el ratón y manejar interactivamente la figura. Sin embargo, después no la tendremos salvada en el notebook. Por ello vamos a elegir en este curso la opción de mantener las figuras incrustadas junto al resto del documento. Para ello debemos añadir la línea, \n",
    "\n",
    "`%matplotlib inline`\n",
    "\n",
    "(si quisiésemos las figuras en ventanas flotantes escribiríamos %matplotlib qt)\n",
    "\n",
    "En las últimas versiones de matplotlib se ha añadido la posibilidad de mostrar las figuras dentro del notebook permitiendo a su vez algunas funciones interactivas como hacer zoom. Para ello escribiríamos %matplotlib notebook."
   ]
  },
  {
   "cell_type": "code",
   "execution_count": 1,
   "metadata": {
    "collapsed": false
   },
   "outputs": [],
   "source": [
    "%matplotlib inline\n",
    "import matplotlib.pyplot as plt"
   ]
  },
  {
   "cell_type": "markdown",
   "metadata": {},
   "source": [
    "Empecemos viendo cómo se dibuja una función `y = f(x)`, por ejemplo, la función seno, "
   ]
  },
  {
   "cell_type": "code",
   "execution_count": 4,
   "metadata": {
    "collapsed": false
   },
   "outputs": [
    {
     "data": {
      "text/plain": [
       "[<matplotlib.lines.Line2D at 0x271a210>]"
      ]
     },
     "execution_count": 4,
     "metadata": {},
     "output_type": "execute_result"
    },
    {
     "data": {
      "image/png": "[encoded data removed]",
      "text/plain": [
       "<matplotlib.figure.Figure at 0x26a1950>"
      ]
     },
     "metadata": {},
     "output_type": "display_data"
    }
   ],
   "source": [
    "t = np.linspace(0,10,200)\n",
    "y = np.sin(2.0*np.pi*0.8*t)  # frecuencia de 0.8 Hz. Nota: np.pi = 3.1415...\n",
    "fig = plt.figure(figsize=(9,8)) # Esta línea es opcional. Permite fijar el tamaño global de la figura\n",
    "plt.plot(t,y)"
   ]
  },
  {
   "cell_type": "markdown",
   "metadata": {},
   "source": [
    "En esta figura podemos cambiar muchos párametros para mostrarla a nuestro gusto. Aquí resumimos algunas opciones, \n",
    "\n",
    "Por ejemplo, podemos poner etiquetas a los ejes y un título, "
   ]
  },
  {
   "cell_type": "code",
   "execution_count": 5,
   "metadata": {
    "collapsed": false
   },
   "outputs": [
    {
     "data": {
      "text/plain": [
       "<matplotlib.text.Text at 0x283e810>"
      ]
     },
     "execution_count": 5,
     "metadata": {},
     "output_type": "execute_result"
    },
    {
     "data": {
      "image/png": "[encoded data removed]",
      "text/plain": [
       "<matplotlib.figure.Figure at 0x2702190>"
      ]
     },
     "metadata": {},
     "output_type": "display_data"
    }
   ],
   "source": [
    "plt.plot(t,y)\n",
    "plt.xlabel('Tiempo (s)')\n",
    "plt.ylabel('Irradiancia (W/m^2)')\n",
    "plt.title('Franjas de interferencia')"
   ]
  },
  {
   "cell_type": "markdown",
   "metadata": {},
   "source": [
    "Podemos cambiar el color de la línea, así como su grosor, "
   ]
  },
  {
   "cell_type": "code",
   "execution_count": 6,
   "metadata": {
    "collapsed": false
   },
   "outputs": [
    {
     "data": {
      "text/plain": [
       "<matplotlib.text.Text at 0x31ea090>"
      ]
     },
     "execution_count": 6,
     "metadata": {},
     "output_type": "execute_result"
    },
    {
     "data": {
      "image/png": "[encoded data removed]",
      "text/plain": [
       "<matplotlib.figure.Figure at 0x31bb2d0>"
      ]
     },
     "metadata": {},
     "output_type": "display_data"
    }
   ],
   "source": [
    "plt.plot(t,y, 'r', linewidth=2) # 'r' significa que la línea tendrá color rojo\n",
    "plt.xlabel('Tiempo (s)')\n",
    "plt.ylabel('Irradiancia (W/m^2)')\n",
    "plt.title('Franjas de interferencia')"
   ]
  },
  {
   "cell_type": "markdown",
   "metadata": {},
   "source": [
    "O bien cambiar su estilo"
   ]
  },
  {
   "cell_type": "code",
   "execution_count": null,
   "metadata": {
    "collapsed": true
   },
   "outputs": [],
   "source": [
    "plt.plot(t,y, 'r', style='dashed') # también podemos conseguir esto con plt.plot(t,y,'r--')\n",
    "plt.xlabel('Tiempo (s)')\n",
    "plt.ylabel('Irradiancia (W/m^2)')\n",
    "plt.title('Franjas de interferencia')"
   ]
  },
  {
   "cell_type": "markdown",
   "metadata": {},
   "source": [
    "También podemos cambiar el rango que se muestra en cada eje, "
   ]
  },
  {
   "cell_type": "code",
   "execution_count": 6,
   "metadata": {
    "collapsed": false
   },
   "outputs": [
    {
     "data": {
      "text/plain": [
       "(-0.5, 0.5)"
      ]
     },
     "execution_count": 6,
     "metadata": {},
     "output_type": "execute_result"
    },
    {
     "data": {
      "image/png": "[encoded data removed]",
      "text/plain": [
       "<matplotlib.figure.Figure at 0x2855990>"
      ]
     },
     "metadata": {},
     "output_type": "display_data"
    }
   ],
   "source": [
    "plt.plot(t,y, 'r', linewidth=2)\n",
    "plt.xlabel('Tiempo (s)')\n",
    "plt.ylabel('Irradiancia (W/m^2)')\n",
    "plt.title('Franjas de interferencia')\n",
    "\n",
    "plt.xlim(0,5)\n",
    "plt.ylim(-0.5,0.5)"
   ]
  },
  {
   "cell_type": "markdown",
   "metadata": {},
   "source": [
    "Podemos dibujar dos figuras a la vez, una al lado de la otra con el comando `subplot`. También podemos cambiar el tamaño de una figura utilizando el comando `plt.figure(figsize=(10,3))` antes de dibujar nada."
   ]
  },
  {
   "cell_type": "code",
   "execution_count": 7,
   "metadata": {
    "collapsed": false
   },
   "outputs": [
    {
     "data": {
      "text/plain": [
       "[<matplotlib.lines.Line2D at 0x2c34d90>]"
      ]
     },
     "execution_count": 7,
     "metadata": {},
     "output_type": "execute_result"
    },
    {
     "data": {
      "image/png": "[encoded data removed]",
      "text/plain": [
       "<matplotlib.figure.Figure at 0x2c13750>"
      ]
     },
     "metadata": {},
     "output_type": "display_data"
    }
   ],
   "source": [
    "plt.figure(figsize=(10,3))\n",
    "plt.subplot(1,2,1) # plt.subplot(numero filas, numero columnas, figura en la que dibujaremos)\n",
    "plt.plot(t,y, 'r', linewidth=2)\n",
    "\n",
    "plt.subplot(1,2,2) # ahora cambiando el último argumento elegimos la segunda figura para dibujar\n",
    "plt.plot(t,y**2, 'r', linewidth=2) # dibujamos el cuadrado de y"
   ]
  },
  {
   "cell_type": "markdown",
   "metadata": {},
   "source": [
    "También podemos representar más de una curva dentro de una misma figura. Para ello tenemos dos opciones:"
   ]
  },
  {
   "cell_type": "code",
   "execution_count": null,
   "metadata": {
    "collapsed": true
   },
   "outputs": [],
   "source": [
    "plt.plot(x,y,x,y**2)"
   ]
  },
  {
   "cell_type": "code",
   "execution_count": null,
   "metadata": {
    "collapsed": true
   },
   "outputs": [],
   "source": [
    "plt.plot(x,y)\n",
    "plt.plot(x,y**2)"
   ]
  },
  {
   "cell_type": "markdown",
   "metadata": {},
   "source": [
    "Cuando dibujamos más de una curva dentro de una misma gráfica, resulta muchas veces imprescindible indicar qué representa cada línea mediante una leyenda que se incrusta en la figura. Esta leyenda la podemos conseguir con el comando plt.legend"
   ]
  },
  {
   "cell_type": "code",
   "execution_count": null,
   "metadata": {
    "collapsed": true
   },
   "outputs": [],
   "source": [
    "plt.plot(x,y)\n",
    "plt.plot(x,y**2)\n",
    "plt.legend(('x-y','x-y^2'))"
   ]
  },
  {
   "cell_type": "markdown",
   "metadata": {},
   "source": [
    "Al igual que podemos salvar los datos en un fichero, también podemos salvar la figura generada mediante la función `plt.savefig`. En esta función, pondremos el nombre del archivo que queremos generar, y opcionalmente, el formato (jpg, eps, pdf...), la resolución (dpi, puntos por pulgada) y otros parámetros que se pueden consultar en la ayuda de la función."
   ]
  },
  {
   "cell_type": "code",
   "execution_count": 8,
   "metadata": {
    "collapsed": false
   },
   "outputs": [],
   "source": [
    "plt.savefig?"
   ]
  },
  {
   "cell_type": "markdown",
   "metadata": {},
   "source": [
    "### Ejercicio 4\n",
    "\n",
    "Genera un vector de datos `x` con 100 puntos entre 0.1 y 8. A continuación crea una variable `tangente` que contenga la tangente de los elementos de ese vector. Crea una figura de tamaño (14,5) y dibuja en ella la variable `tangente` frente a `x`. Salva a continuación la gráfica en un fichero denominado `graf_ej4.jpg`.\n",
    "\n"
   ]
  }
 ],
 "metadata": {
  "kernelspec": {
   "display_name": "Python 3",
   "language": "python",
   "name": "python3"
  },
  "language_info": {
   "codemirror_mode": {
    "name": "ipython",
    "version": 3
   },
   "file_extension": ".py",
   "mimetype": "text/x-python",
   "name": "python",
   "nbconvert_exporter": "python",
   "pygments_lexer": "ipython3",
   "version": "3.4.4"
  },
  "toc": {
   "toc_cell": false,
   "toc_number_sections": true,
   "toc_threshold": 6,
   "toc_window_display": false
  }
 },
 "nbformat": 4,
 "nbformat_minor": 0
}
