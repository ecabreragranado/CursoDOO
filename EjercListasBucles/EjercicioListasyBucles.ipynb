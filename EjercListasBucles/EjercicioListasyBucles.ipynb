{
 "cells": [
  {
   "cell_type": "markdown",
   "metadata": {},
   "source": [
    "## Ejercicio Listas y Bucles"
   ]
  },
  {
   "cell_type": "markdown",
   "metadata": {},
   "source": [
    "1 Generar una lista de los números enteros desde el 1 al 67 (incluídos). Almacenar esta lista en la variable `ej1a`."
   ]
  },
  {
   "cell_type": "markdown",
   "metadata": {},
   "source": [
    "2 Crear un bucle for que recorra los primeros 45 índices de la lista anteriormente generada. Dentro del bucle asignar a los primeros 15 elementos de la lista un nuevo valor igual a 2.567 elevado a 5 y al elemento con índice 35 el valor 100 (utilizar dos condiciones con `if` dentro del bucle para seleccionar los distintos elementos)."
   ]
  },
  {
   "cell_type": "markdown",
   "metadata": {},
   "source": [
    "3 Vamos a encontrar el índice de la lista generada en el apartado 1 con valor 100 (Tendremos que obtener el valor 35 de acuerdo al anterior apartado). \n",
    "\n",
    "Crear un bucle for que recorra los índices y los valores de la lista generada en el apartado 1 (recordar la función `enumerate`). Dentro de dicho bucle incluir una condición con el comando `if` en donde si el valor es igual a 100, almacenar el índice correspondiente en la variable `elemento100`. Mostrar a continuación el valor de la variable `elemento100`"
   ]
  }
 ],
 "metadata": {
  "kernelspec": {
   "display_name": "Python 3",
   "language": "python",
   "name": "python3"
  },
  "language_info": {
   "codemirror_mode": {
    "name": "ipython",
    "version": 3
   },
   "file_extension": ".py",
   "mimetype": "text/x-python",
   "name": "python",
   "nbconvert_exporter": "python",
   "pygments_lexer": "ipython3",
   "version": "3.4.4"
  },
  "toc": {
   "toc_cell": false,
   "toc_number_sections": true,
   "toc_threshold": 6,
   "toc_window_display": false
  }
 },
 "nbformat": 4,
 "nbformat_minor": 0
}
