{
 "cells": [
  {
   "cell_type": "markdown",
   "metadata": {},
   "source": [
    "### Introducción"
   ]
  },
  {
   "cell_type": "markdown",
   "metadata": {},
   "source": [
    "Vamos a reproducir la curva de reflectancia en función de la longitud de onda para una lámina delgada en la que fijamos el espesor y el índice de refracción. Veremos que se produce un mínimo para una longitud de onda determinada. También cambiaremos el ángulo de incidencia y observaremos el efecto que tiene dicho cambio en la curva calculada. Este trabajo se relaciona directamente con el diseño de tratamientos antirreflectantes mediante el aprovechamiento de la interferencia entre las ondas reflejadas en la lámina. \n",
    "\n",
    "El objetivo es manejar las funciones de Numpy para generar vectores, así como para encontrar su máximo y mínimo. También seguir profundizando en la representación de datos y análisis de los resultados mediante las gráficas generadas por Matplotlib."
   ]
  },
  {
   "cell_type": "markdown",
   "metadata": {},
   "source": [
    "### Ejercicio 1"
   ]
  },
  {
   "cell_type": "markdown",
   "metadata": {},
   "source": [
    "Importar el módulo Numpy y denominarlo como `np`. Importar a continuación el módulo Matpltolib.pyplot y denominarlo como  `plt`. Finalmente, escribir la instrucción que permite obtener las figuras incrustadas en el notebook."
   ]
  },
  {
   "cell_type": "markdown",
   "metadata": {},
   "source": [
    "### Ejercicio 2"
   ]
  },
  {
   "cell_type": "markdown",
   "metadata": {},
   "source": [
    "Generar un vector de longitudes de onda expresadas en nanómetros y dentro del rango visible (escoger adecuadamente el valor inicial y final de dicho vector) con un tamaño de 100 elementos. Denominar a este vector `long_onda`."
   ]
  },
  {
   "cell_type": "markdown",
   "metadata": {},
   "source": [
    "### Ejercicio 3"
   ]
  },
  {
   "cell_type": "markdown",
   "metadata": {},
   "source": [
    "Vamos a considerar que el índice de refracción de nuestra lámina es igual a 1.38 y que tiene un grosor igual a 101 nm. \n",
    "\n",
    "a) Almacenar en la variable `ncapa` este valor del índice y en la variable `espesor` el grosor de la lámina.\n",
    "\n",
    "Vamos a considerar además que la luz incide polarizada perpendicular al plano de incidencia con la lámina desde el aire. Teniendo en cuenta que el coeficiente de reflexión para esta polarización es igual a:\n",
    "\n",
    "$$r  = \\frac{n_i \\cos(\\theta_i) - n_t \\cos(\\theta_t)}{n_i \\cos(\\theta_i) + n_t \\cos(\\theta_t)}$$\n",
    "\n",
    "donde $n_i$ es el índice de refracción del medio desde el que incide la luz, $n_t$ el índice de refracción del medio al que se transmite (en nuestro caso, la lámina), $\\theta_i$ es el ángulo de incidencia y $\\theta_t$ el ángulo de transmisión o refracción, el cual se puede calcular gracias a la Ley de Snell:\n",
    "\n",
    "$$n_i \\sin(\\theta_i) = n_t \\sin(\\theta_t)$$\n",
    "\n",
    "b) Almacenar en la variable `R1` la reflectancia de la lámina para todas las longitudes de onda en el vector `long_onda` considerando únicamente la reflexión en la primera cara e incidencia normal a la lámina. Representar esta reflectancia en función de la longitud de onda. (Nota: Recordar la función `np.ones(N)` para generar un vector de N unos.)."
   ]
  },
  {
   "cell_type": "markdown",
   "metadata": {},
   "source": [
    "### Ejercicio 4"
   ]
  },
  {
   "cell_type": "markdown",
   "metadata": {},
   "source": [
    "Vamos a introducir ahora la contribución a la reflectancia de la reflexión en la segunda cara de la lámina. Consideraremos que el medio que se sitúa tras la lámina es un vidrio de índice de refracción 1.8\n",
    "\n",
    "a) Almacenar en la variable `nv` este índice\n",
    "\n",
    "Para obtener la contribución de la segunda reflexión no sólo necesitamos el coeficiente de reflexión en la segunda cara, sino el coeficiente de transmisión en la primera interfase desde el aire al interior de la lámina y en la vuelta, desde el interior hasta el aire. Este coeficiente de transmisión toma la forma:\n",
    "\n",
    "$$t = \\frac{2 n_i \\cos(\\theta_i)}{n_i \\cos(\\theta_i) + n_t \\cos(\\theta_t)}$$\n",
    "\n",
    "donde seguimos con el mismo criterio que en la definición del coeficiente de reflexión y seguimos considerando la misma polarización del haz. De este modo, la reflectancia queda,\n",
    "\n",
    "$$R =  |r_1^2| + |t_1|^2 |r_2|^2 |t_1'|^2$$\n",
    "\n",
    "En la anterior expresión $r_{1,2}$ es el coeficiente de reflexión en la primera/segunda cara respectivamente, $t_1$ es el coeficiente de transmisión en la primera cara incidiendo desde el aire y finalmente, $t_1'$ es el coeficiente de transmisión en la primera cara pero incidiendo desde la lámina.\n",
    "\n",
    "b) Almacenar en la variable `R2` la reflectancia de la lámina considerando las dos reflexiones en ambas caras de la lámina. Representar esta variable frente a `long_onda`."
   ]
  },
  {
   "cell_type": "markdown",
   "metadata": {},
   "source": [
    "### Ejercicio 5\n",
    "\n",
    "Vamos a considerar ahora que las dos ondas que se producen en ambas reflexiones (primera y segunda cara de la lámina) interfieren entre sí. En este caso, la reflectancia toma la siguiente expresión:\n",
    "\n",
    "$$R =  |r_1^2| + |t_1|^2 |r_2|^2 |t_1'|^2  + 2 |r_1 t_1 r_2 t_1'|\\cos(\\delta)$$\n",
    "\n",
    "donde $\\delta$ es el desfase entre las dos ondas, el cual vale:\n",
    "\n",
    "$$\\delta = \\frac{4 \\pi}{\\lambda} h n \\cos(\\theta_t)$$\n",
    "\n",
    "donde $h$ es el grosor de la lámina y $n$ su índice de refracción.\n",
    "\n",
    "a) Almacenar en la variable `delta` el desfase entre las dos ondas reflejadas cuando la incidencia es normal y para todas las longitudes de onda del vector `long_onda`.\n",
    "\n",
    "\n",
    "b) Almacenar en la variable `R3` la reflectancia de la lámina cuando las dos ondas interfieren y en incidencia normal para todas las longitudes de onda del vector  `long_onda`. Representar esta reflectancia frente a la longitud de onda."
   ]
  },
  {
   "cell_type": "markdown",
   "metadata": {},
   "source": [
    "### Ejercicio 6\n",
    "\n",
    "Calcular el mínimo de reflectancia y la longitud de onda a la que ocurre. Almacenar estos valores en las variables `Rmin` y `long_onda_min` respectivamente."
   ]
  },
  {
   "cell_type": "markdown",
   "metadata": {},
   "source": [
    "### Ejercicio 7\n",
    "\n",
    "Calcular la longitud de onda que provoca un desfase de $\\pi$ por medio de la expresión del desfase comentada en el Ejercicio 5. Almacenar este valor en la variable `long_onda_pi`.Comparar este valor con el obtenido anteriormente."
   ]
  },
  {
   "cell_type": "markdown",
   "metadata": {},
   "source": [
    "### Ejercicio 8\n",
    "\n",
    "Repetir los Ejercicios 5 y 6 para un espesor de 707 nm, salvando la reflectancia en la variable `R4`, su mínimo en la variable `Rmin2` y la longitud de onda a la que ocurre en la variable `long_onda_min2`. "
   ]
  },
  {
   "cell_type": "markdown",
   "metadata": {},
   "source": [
    "### Ejercicio 9\n",
    "\n",
    "Repetir los Ejercicios 5 y 6 para el espesor de 101 nm pero con un ángulo de incidencia de 30 grados. Para ello, definir de nuevo los coeficientes de reflexión y transmisión incluyendo el ángulo de incidencia y de refracción. Este ángulo ha de calcularse previamente por medio de la ley de Snell. Almacenar la reflectancia en la variable R5, su mínimo en la variable Rmin3 y la longitud de onda a la que ocurre en la variable long_onda_min3. \n",
    "\n",
    "Notas:\n",
    "\n",
    "* El ángulo de incidencia en la segunda cara es igual al ángulo de refracción (o de transmisión) en la primera cara.\n",
    "\n",
    "* El ángulo de incidencia de la luz al volver a incidir en la primera cara después de la reflexión interna es igual al ángulo de refracción en la primera cara."
   ]
  }
 ],
 "metadata": {
  "kernelspec": {
   "display_name": "Python 3",
   "language": "python",
   "name": "python3"
  },
  "language_info": {
   "codemirror_mode": {
    "name": "ipython",
    "version": 3
   },
   "file_extension": ".py",
   "mimetype": "text/x-python",
   "name": "python",
   "nbconvert_exporter": "python",
   "pygments_lexer": "ipython3",
   "version": "3.4.4"
  },
  "toc": {
   "toc_cell": false,
   "toc_number_sections": true,
   "toc_threshold": 6,
   "toc_window_display": false
  }
 },
 "nbformat": 4,
 "nbformat_minor": 0
}
