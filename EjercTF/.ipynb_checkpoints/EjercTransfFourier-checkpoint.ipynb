{
 "cells": [
  {
   "cell_type": "code",
   "execution_count": 2,
   "metadata": {
    "collapsed": false
   },
   "outputs": [],
   "source": [
    "import numpy as np\n",
    "import matplotlib.pyplot as plt\n",
    "from scipy.fftpack import fft,fft2,ifft,ifft2,fftshift,fftfreq\n",
    "%matplotlib inline\n",
    "plt.style.use('seaborn-poster')"
   ]
  },
  {
   "cell_type": "markdown",
   "metadata": {},
   "source": [
    "# Transformada de Fourier y Difracción de Fraunhofer"
   ]
  },
  {
   "cell_type": "markdown",
   "metadata": {},
   "source": [
    "El régimen de Fraunhofer lo podemos obtener cuando se cumple, \n",
    "\n",
    "$$min(z,z_0) > \\frac{a^2}{\\lambda}$$\n",
    "\n",
    "donde en la expresión anterior, $z$ es la distancia entre la apertura y el punto de observación $P$, $z_0$ la distancia entre $P_0$ y la apertura, $a$ es la dimensión de la apertura, y finalmente $\\lambda$ es la longitud de onda de la luz.\n",
    "\n",
    "Bajo esta condición, se puede demostrar que el campo resultante en $P$ viene dado por la siguiente expresión, \n",
    "\n",
    "$$E_P = C \\int_{\\Sigma} E_0(\\chi, \\eta) e^{i 2 \\pi (f_x \\chi + f_y \\eta)} d\\chi d\\eta$$\n",
    "\n",
    "donde recordamos que $\\chi, \\eta$ son las variables cartesianas en el plano de la apertura (estamos sumando todas las contribuciones de los elementos de superficie en los que dividimos la apertura). Además, \n",
    "\n",
    "$$f_x = \\frac{x_0}{z_0 \\lambda} + \\frac{x}{z \\lambda}$$\n",
    "y\n",
    "$$f_y = \\frac{y_0}{z_0 \\lambda} + \\frac{y}{z \\lambda}$$\n",
    "\n",
    "La expresión de $E_P$ escrita de la manera anterior no es nada más que la transformada de Fourier del campo en la apertura $E_0(\\chi, \\eta)$.\n",
    "\n",
    "En el presente ejercicio, vamos a extraer información del patrón de difracción de una red de difracción y de una rendija mediante la transformada de Fourier del campo en ambos elementos ópticos. Para nosotros, la fuente que ilumina tanto la red como la rendija va a estar situada en el infinito. De este modo, las expresiones de las frecuencias espaciales serán:\n",
    "\n",
    "$$f_x = \\frac{x}{z \\lambda}$$\n",
    "y\n",
    "$$f_y = \\frac{y}{z \\lambda}$$"
   ]
  },
  {
   "cell_type": "markdown",
   "metadata": {},
   "source": [
    "## Transformada de Fourier 1D. Red de difracción"
   ]
  },
  {
   "cell_type": "markdown",
   "metadata": {},
   "source": [
    "Vamos a extraer los órdenes de difracción producidas por una red de difracción mediante el uso de la transformada de Fourier. Aunque la red de difracción es bidimensional, vamos a considerar un corte en la dirección en la que varía la transmitancia (perpendicular a la dirección marcada por cada una de las franjas). De este modo, tomaremos como campo en la red una función cuadrada que varíe entre 0 y 1, con el paso de la red adecuado."
   ]
  },
  {
   "cell_type": "markdown",
   "metadata": {},
   "source": [
    "### Ejercicio 1\n",
    "\n",
    "En la siguiente celda, \n",
    "\n",
    "(a) Importar del módulo scipy.signal la función `square`. \n",
    "\n",
    "(b) Definir un vector `x` de 10$^4$ puntos desde 0 hasta 0.5 mm y una variable `pasored` igual a 0.01 mm. Calcular en la variable `lineas_mm` el número de líneas por mm de esta red de difracción. Mostrar el resultado en el notebook.\n",
    "\n",
    "(c) Definir una variable `red` resultado de aplicar la función `square` a x con un periodo igual a `pasored` y un tamaño de rendijas pequeño, el cual fijaremos a una décima parte del paso de la red (Nota: esta última condición se consigue indicando el argumento `duty` = 0.1)\n",
    "\n",
    "(d) Crear una figura con el comando `fig = plt.figure(figsize=(9,5))`. Dibujar la red de difracción en dicha figura, añadiendo etiquetas a los ejes."
   ]
  },
  {
   "cell_type": "markdown",
   "metadata": {},
   "source": [
    "### Ejercicio 2\n",
    "\n",
    "(a) Calcular la transformada de Fourier de `red` (transformada de Fourier del campo justo después de la red de difracción) y almacenarla en la variable `tfred`.\n",
    "\n",
    "(b) Crear una figura con el comando `fig = plt.figure(figsize=(9,5))`.Dibujar el valor absoluto al cuadrado de la transformada de Fourier frente al vector de frecuencias, que previamente ha de ser calculado. Representar únicamente la parte de frecuencias positivas."
   ]
  },
  {
   "cell_type": "markdown",
   "metadata": {},
   "source": [
    "### Ejercicio 3\n",
    "\n",
    "Según lo expuesto en la introducción, las frecuencias espaciales son directamente proporcionales a las posiciones en la pantalla de observación (Nota: $f_{x,y} = {x,y}/(2*z*\\lambda)$). Vamos a representar el módulo al cuadrado de la transformada de Fourier (que nos daría la irradiancia), frente a un vector de posiciones en la pantalla.\n",
    "\n",
    "(a) Definir una variable `Lambda` y una variable `z` que almacenen la longitud de onda y la distancia entre la red de difracción y la pantalla de observación. Utilizar la longitud de onda del láser de He-Ne y una distancia de 1 m entre red y pantalla.\n",
    "\n",
    "(b) Calcular un vector `xpantalla` que almacene las posiciones (**en cm**) \n",
    "a las que se corresponden los valores de las frecuencias calculadas en el apartado anterior, mediante el uso de la expresión que las relaciona.\n",
    "\n",
    "(c) Generar una figura con el comando `fig = plt.figure(figsize=(9,5))`. Representar el módulo al cuadrado de la transformada frente a esta variable espacial `xpantalla`, utilizando el modo `notebook` para obtener una figura interactiva.\n",
    "\n",
    "\n"
   ]
  },
  {
   "cell_type": "markdown",
   "metadata": {},
   "source": [
    "\n",
    "(d) Mediante inspección directa de la figura, hallar la posición de los primeros 5 máximos en la pantalla (para valores positivos de `xnew`). Almacenar estos valores en la lista `maximos_red`.\n",
    "\n",
    "(e) Comparar estos valores con la predicción de la posición de los máximos dada por la teoría ondulatoria de la luz (ecuación de la red):\n",
    "\n",
    "$$ x_{max} = \\frac{m \\lambda z}{d}$$\n",
    "\n",
    "donde $d$ es el paso de la red, y $m$ es el orden de difracción. Almacenar estos valores teóricos en la variable `maximos_red_teoricos` y el valor del error relativo entre `maximos_red` y `maximos_red_teoricos`  en la variable `errores_maximos`.\n"
   ]
  },
  {
   "cell_type": "markdown",
   "metadata": {},
   "source": [
    "## Transformada de Fourier 2D. Difracción por una rendija"
   ]
  },
  {
   "cell_type": "markdown",
   "metadata": {},
   "source": [
    "En este ejercicio vamos a visualizar el patrón de difracción en régimen de Fraunhofer producido por una rendija. "
   ]
  },
  {
   "cell_type": "markdown",
   "metadata": {},
   "source": [
    "### Ejercicio 4\n",
    "\n",
    "En la siguiente celda, \n",
    "\n",
    "(a)  Generar con la función `np.mgrid` una malla de puntos `x,y` entre -10$^{-3}$ m y 10$^{-3}$ m con paso espacial 10$^{-5}$ m en ambas direcciones. \n",
    "\n",
    "(b) Definir una variable `a` que será el tamaño de la rendija. La fijaremos a un valor de 10$^{-4}$ m\n",
    "\n",
    "(c) Para generar el campo justo después de la rendija, éste será igual a 1 cuando `x` sea menor que `a`/2 y cero en caso contrario. Almacenar este campo en la variable `rendija`.\n",
    "\n",
    "(d) Dibujar en una nueva figura la variable `rendija` frente a `x` e `y`."
   ]
  },
  {
   "cell_type": "markdown",
   "metadata": {},
   "source": [
    "### Ejercicio 5\n",
    "\n",
    "(a) Genera los vectores de frecuencias espaciales en las direcciones X e Y, denominándolos `frecx` y `frecy` respectivamente.\n",
    "\n",
    "(b) Genera los vectores de posición en la pantalla de observación `xnew` e `ynew` al igual que en el apartado anterior (Transformada 1D). Redifinir en esta celda la variable `z` (distancia de la rendija a la pantalla) con un valor igual a 3 m.\n",
    "\n",
    "(c) Definir una variable `irradiancia` igual al cuadrado del módulo de la transformada **transpuesta** y representar esta variable con respecto a `xnew` e `ynew`."
   ]
  },
  {
   "cell_type": "markdown",
   "metadata": {
    "collapsed": false
   },
   "source": [
    "### Ejercicio 6\n",
    "\n",
    "A continuación, vamos a comparar las posiciones en las que encontramos mínimos de irradiancia en la representación realizada en el ejercicio anterior con los valores que nos da la teoría de la difracción. Para ello primero representaremos un corte de la anterior imagen, a lo largo del eje X. Como los valores distintos de cero se sitúan en `ynew`= 0, haremos un corte de la anterior \n",
    "\n",
    "(a) Almacenar en la variable `corte` un corte de la variable `irradiancia` a lo largo del eje X para la posición marcada opr `ynew`= 0. Representar a continuación este corte con respecto a `xnew`. Utilizar en esta representación el modo `notebook` de matplotlib para obtener una figura interactiva.\n",
    "\n",
    "(b) Mediante inspección de la figura, almacenar en la variable `minimos` un array con los valores de `xnew` correspondientes a los 4 primeros mínimos en la dirección positiva del eje X."
   ]
  },
  {
   "cell_type": "markdown",
   "metadata": {},
   "source": [
    "### Ejercicio 7\n",
    "\n",
    "(a) Los valores de las posiciones de los mínimos de irradiancia dados por la teoría de la difracción en el caso de una rendija de anchura `a` y una distancia de observación `z` vienen dados por la expresión:\n",
    "\n",
    "$$ x_{min} = \\frac{m \\lambda z}{a}$$\n",
    "\n",
    "Almacenar en la variable `minimos_teoricos` una lista con los cinco primeros mínimos positivos y en la lista `dif_minimos` el error relativo cometido al medir los mínimos mediante la inspección de la figura anterior."
   ]
  }
 ],
 "metadata": {
  "kernelspec": {
   "display_name": "Python 3",
   "language": "python",
   "name": "python3"
  },
  "language_info": {
   "codemirror_mode": {
    "name": "ipython",
    "version": 3
   },
   "file_extension": ".py",
   "mimetype": "text/x-python",
   "name": "python",
   "nbconvert_exporter": "python",
   "pygments_lexer": "ipython3",
   "version": "3.4.4"
  },
  "toc": {
   "toc_cell": false,
   "toc_number_sections": true,
   "toc_threshold": 6,
   "toc_window_display": false
  }
 },
 "nbformat": 4,
 "nbformat_minor": 0
}
