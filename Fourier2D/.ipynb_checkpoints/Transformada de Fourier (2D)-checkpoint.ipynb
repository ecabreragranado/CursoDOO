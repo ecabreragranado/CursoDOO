{
 "cells": [
  {
   "cell_type": "markdown",
   "metadata": {},
   "source": [
    "## Ordenación de los elementos de la función fft. Definición alternativa del vector frecuencias."
   ]
  },
  {
   "cell_type": "markdown",
   "metadata": {},
   "source": [
    "Hasta este momento hemos representado la transformada de Fourier junto al vector de frecuencias generado por la función `fftfreq`. \n",
    "\n",
    "Veamos qué ocurre si representamos la transformada (su valor absoluto, concretamente) sola. El siguiente código muestra las diferencias"
   ]
  },
  {
   "cell_type": "code",
   "execution_count": 3,
   "metadata": {
    "collapsed": false
   },
   "outputs": [
    {
     "data": {
      "text/plain": [
       "[<matplotlib.lines.Line2D at 0x7f97ad466240>]"
      ]
     },
     "execution_count": 3,
     "metadata": {},
     "output_type": "execute_result"
    },
    {
     "data": {
      "image/png": "[encoded data removed]",
      "text/plain": [
       "<matplotlib.figure.Figure at 0x7f97adae9320>"
      ]
     },
     "metadata": {},
     "output_type": "display_data"
    }
   ],
   "source": [
    "import numpy as np\n",
    "%matplotlib inline\n",
    "import matplotlib.pyplot as plt\n",
    "from scipy.fftpack import fft,fftfreq\n",
    "t = np.linspace(0,10,1000)\n",
    "y = np.cos(2.0*np.pi*0.3*t)\n",
    "tfy = fft(y)\n",
    "frec = fftfreq(np.size(y),t[1]-t[0])\n",
    "fig = plt.figure(figsize=(12,4))\n",
    "plt.subplot(121)\n",
    "plt.plot(frec,np.abs(tfy))\n",
    "plt.subplot(122)\n",
    "plt.plot(np.abs(tfy))"
   ]
  },
  {
   "cell_type": "markdown",
   "metadata": {},
   "source": [
    "Vemos en la figura de la derecha, que los picos que nos da la transformada aparecen en los extremos, en vez de cerca del centro, como en la izquierda. Esto ocurre porque la función `fft` nos devuelve la transformada ordenada de la siguiente forma: los primeros elementos corresponden a las frecuencias positivas, empezando en la frecuencia cero, mientras que a partir de la mitad del vector los siguientes elementos corresponden a las frecuencias negativas. \n",
    "\n",
    "Al representar la transformada con las frecuencias obtenidas por la función `fftfreq` se obtiene una representación más intuitiva, con la frecuencia cero en el centro porque la función `fftfreq` genera el vector de frecuencias ordenado de la misma forma que la salida de `fft`. De este modo, la representación queda correcta.\n",
    "\n",
    "Otra forma alternativa de generar el vector de frecuencias es la siguiente, \n",
    "\n",
    "`frec = np.arange(-1/(2*ht),1/(2*ht),1.0/(N*ht))`\n",
    "\n",
    "Es decir, generar un vector desde que tenga como extremos la frecuencia de Nyquist $\\pm 1/(2*ht)$ y un paso en frecuencias de $1/(N*ht)$, es decir, el inverso del producto del número de elementos por el paso (es decir, el valor máximo del intervalo temporal/espacial utilizado). La única diferencia entre este vector así generado y el obtenido a través de `fftfreq` es la ordenación de sus elementos.\n",
    "\n",
    "Si queremos representar la transformada de Fourier con respecto a este vector `frec` nos encontramos con el problema de que el orden no es el mismo. Para resolver este problema, Python dispone de una función, denominada `fftshift` que ordena la transformada para ser representada con el vector generado sin `fftfreq`. Así, representaríamos `fftshift(fft(y))` en función de `frec`. \n",
    "\n",
    "Veamos un ejemplo con un pequeño ejercicio."
   ]
  },
  {
   "cell_type": "markdown",
   "metadata": {},
   "source": [
    "### Ejercicio"
   ]
  },
  {
   "cell_type": "markdown",
   "metadata": {},
   "source": [
    "Completa la celda de código que aparece a continuación con las líneas necesarias para\n",
    "\n",
    "* Calcular la transformada de Fourier del vector `y`\n",
    "\n",
    "* Definir un vector frecuencia por medio de la función `fftfreq`\n",
    "\n",
    "* Definir un vector frecuencia por medio del enfoque alternativo proporcionado en los párrafos anteriores.\n",
    "\n",
    "* Representar en dos subfiguras (Recuerda el comando `subplot`) la transformada de Fourier con respecto a ambos vectores frecuencia (recuerda la función `fftshift`)"
   ]
  },
  {
   "cell_type": "code",
   "execution_count": null,
   "metadata": {
    "collapsed": false
   },
   "outputs": [],
   "source": [
    "import numpy as np\n",
    "%matplotlib inline\n",
    "import matplotlib.pyplot as plt\n",
    "from scipy.fftpack import fft,fftfreq,fftshift\n",
    "\n",
    "t = np.linspace(0,50,5000)\n",
    "y = np.cos(2.0*np.pi*0.3*t)*np.exp(-((t-5)/(2.0*3))**2)\n",
    "\n",
    "N = np.shape(y)[0]\n",
    "ht = t[1]-t[0]\n",
    "\n",
    "#Ejercicio: Continuar el código a partir de aquí"
   ]
  },
  {
   "cell_type": "markdown",
   "metadata": {},
   "source": [
    "Esta forma de trabajar es muy utilizada en Matlab, por ejemplo, y permite generar el vector de frecuencias si no se dispone de una función similar a `fftfreq`. Además, al pasar a funciones bidimensionales (imágenes), el módulo Scipy no dispone de una función como `fftfreq` en 2 dimensiones, obligándonos a definir *manualmente* los vectores frecuencia que utilizaremos."
   ]
  },
  {
   "cell_type": "markdown",
   "metadata": {},
   "source": [
    "### Función Bidimensional"
   ]
  },
  {
   "cell_type": "markdown",
   "metadata": {},
   "source": [
    "** Función 2D. Imágenes**\n",
    "\n",
    "Una función $f$ que depende de dos variables $(x,y)$ se puede representar como una superficie en 3 dimensiones, o bien como un mapa en el que cada color representa un valor de la función (como un mapa topográfico). Hemos visto anteriormente que el módulo Matplotlib dispone de funciones como `pcolormesh`, `contour` o `contourf` para representar este tipo de funciones.\n",
    "\n",
    "Una imagen también se puede representar del mismo modo. Si es una imagen en escala de grises, un archivo de imagen es una matriz de valores proporcional a la intensidad en cada punto. Si por el contrario, tenemos una imagen en color, normalmente dispondremos de tres matrices distintas asociadas normalmente a los canales rojo, verde y azul (RGB por sus siglas en inglés). Podemos representar una imagen con la función de Matplotlib`imshow`.\n",
    "\n",
    "Al igual que en las funciones 1D, una imagen o función 2D podrá presentar periodicidades en los valores que toma. En este notebook veremos cómo utilizar la transformada de Fourier para extraerlas y para modificar la imagen, por ejemplo, realizando filtros que realcen los bordes o eliminen el ruido de fondo.\n",
    "\n",
    "**Coseno 2D. Frecuencias espaciales**\n",
    "\n",
    "En el caso 1D la transformada de Fourier nos descompone una función cualquiera en una suma (integral) de senos y cosenos. En 2D, hace lo mismo, solo que en este caso, los senos y cosenos son funciones bidimensionales también. Vamos a ver la representación de un coseno bidimensional como base para las siguientes operaciones de la transformada de Fourier.\n",
    "\n",
    "Un coseno en 2D se escribirá como, \n",
    "\n",
    "$$\\cos\\left(2 \\pi \\nu_x x + 2 \\pi \\nu_y y + \\phi_0\\right)$$\n",
    "\n",
    "En la anterior expresión, $\\nu_x$ y $\\nu_y$ serán las frecuencias (espaciales si se considera una imagen) del coseno."
   ]
  },
  {
   "cell_type": "code",
   "execution_count": 1,
   "metadata": {
    "collapsed": false
   },
   "outputs": [],
   "source": [
    "import numpy as np\n",
    "%matplotlib inline\n",
    "import matplotlib.pyplot as plt"
   ]
  },
  {
   "cell_type": "code",
   "execution_count": 2,
   "metadata": {
    "collapsed": false
   },
   "outputs": [
    {
     "data": {
      "text/plain": [
       "<matplotlib.colorbar.Colorbar at 0x7f97ad58ab38>"
      ]
     },
     "execution_count": 2,
     "metadata": {},
     "output_type": "execute_result"
    },
    {
     "data": {
      "image/png": "[encoded data removed]",
      "text/plain": [
       "<matplotlib.figure.Figure at 0x7f97adb1e630>"
      ]
     },
     "metadata": {},
     "output_type": "display_data"
    }
   ],
   "source": [
    "x,y = np.mgrid[0:25:0.05,0:15:0.05] # esta funcion es análoga a meshgrid\n",
    "nux = 0.1\n",
    "nuy = 0.6\n",
    "phi0 = 0\n",
    "z = np.cos(2.0*np.pi*(nux*x + nuy*y) + phi0)\n",
    "fig = plt.figure(figsize=(9,7))\n",
    "plt.pcolormesh(x,y,z)\n",
    "plt.colorbar()"
   ]
  },
  {
   "cell_type": "markdown",
   "metadata": {},
   "source": [
    "### Ejercicio"
   ]
  },
  {
   "cell_type": "markdown",
   "metadata": {},
   "source": [
    "En la celda que aparece a continuación representar los siguientes casos.\n",
    "\n",
    "* Un coseno que varíe solo a lo largo de la dirección del eje X y cuyo periodo sea de 5 unidades.\n",
    "\n",
    "* Un coseno que varíe solo a lo largo de la dirección del eje Y cuyo periodo sea de 4 unidades.\n",
    "\n",
    "* Un coseno que varíe a 45 grados del eje X.\n",
    "\n",
    "Estudia el efecto de la fase `phi0`"
   ]
  },
  {
   "cell_type": "markdown",
   "metadata": {},
   "source": [
    "## Transformada de Fourier en 2D"
   ]
  },
  {
   "cell_type": "markdown",
   "metadata": {},
   "source": [
    "**Definición**\n",
    "\n",
    "La transformada de Fourier en 2D de una función $f(x,y)$ se define de forma completamente análoga al caso 1D, solo que en esta ocasión tenemos una integral doble en $x$ y en $y$.\n",
    "\n",
    "$$F(\\nu_x, \\nu_y) = \\int_{-\\infty}^{\\infty}\\int_{-\\infty}^{\\infty} f(x,y) e^{-i(2 \\pi \\nu_x x + 2 \\pi \\nu_y y)}dx dy$$\n",
    "\n",
    "La transformada inversa será, \n",
    "\n",
    "$$f(x,y) = \\int_{-\\infty}^{\\infty}\\int_{-\\infty}^{\\infty} F(\\nu_x, \\nu_y) e^{i(2 \\pi \\nu_x x + 2 \\pi \\nu_y y)}d\\nu_x d\\nu_y$$\n",
    "\n",
    "Todo lo estudiado para el caso 1D es completamente aplicable al caso bidimensional, pero ahora la transformada de Fourier será a su vez una función bidimensional que representaremos en los ejes dados por las variables $\\nu_x$ y $\\nu_y$.\n",
    "\n",
    "**FFT2 y definición de los vectores frecuencias en x y en y con fftfreq**\n",
    "\n",
    "En Python, la transformada de Fourier en 2D se realiza con la función `fft2` y la transformada inversa, con la función `ifft2`. Al igual que en el caso 1D, el módulo Numpy y el módulo Scipy.fftpack disponen de estas funciones. Nosotros utilizaremos aquellas del módulo Scipy.fftpack. \n",
    "\n",
    "Para obtener el vector de frecuencias espaciales hay que tener en cuenta que en esta ocasión debemos calcular tanto $\\nu_x$ como $\\nu_y$. Además, **no existe una función `fftfreq` implementada en 2 dimensiones**. Así, para definir $\\nu_x$ tendremos que utilizar la forma alternativa descrita en este mismo notebook.\n",
    "Veamos un ejemplo,"
   ]
  },
  {
   "cell_type": "code",
   "execution_count": 4,
   "metadata": {
    "collapsed": false
   },
   "outputs": [
    {
     "data": {
      "image/png": "[encoded data removed]",
      "text/plain": [
       "<matplotlib.figure.Figure at 0x7f97ad414e10>"
      ]
     },
     "metadata": {},
     "output_type": "display_data"
    }
   ],
   "source": [
    "from scipy.fftpack import fft2,ifft2,fftshift,ifftshift\n",
    "\n",
    "x,y = np.mgrid[0:95:0.5,0:105:0.5]\n",
    "nux = 0.1\n",
    "nuy = 0.8\n",
    "phi0 = 0\n",
    "z = np.cos(2.0*np.pi*(nux*x + nuy*y) + phi0)\n",
    "\n",
    "#Paso espacial y número de puntos en x y en y\n",
    "hx = 0.5\n",
    "hy = 0.5\n",
    "Nx = np.shape(z)[0] #Véase que se necesitan las dos dimensiones y los dos pasos\n",
    "Ny = np.shape(z)[1]\n",
    "tfz = fftshift(fft2(z))\n",
    "\n",
    "fy = np.arange(-0.5,0.5,1.0/Ny)*1/hy #Dimensión Ny y paso hy del eje Y\n",
    "fx = np.arange(-0.5,0.5,1.0/Nx)*1/hx\n",
    "\n",
    "plt.figure(figsize=(6,6))\n",
    "plt.pcolormesh(fx,fy,np.abs(tfz).T) #Se representa la matriz traspuesta para que \n",
    "                                    # el eje X corresponda a fx y el eje Y a fy.\n",
    "plt.title('Ejemplo FT 2D')\n",
    "plt.xlabel(r'$\\nu_x$',fontsize=18)\n",
    "plt.ylabel(r'$\\nu_y$',fontsize=18);"
   ]
  },
  {
   "cell_type": "markdown",
   "metadata": {},
   "source": [
    "Normalmente, y para visualizar mejor los picos de la transformada, se representa el logaritmo de la transformada. "
   ]
  },
  {
   "cell_type": "markdown",
   "metadata": {},
   "source": [
    "### Ejercicio\n",
    "\n",
    "Genera una nueva variable `z` que sea el resultado de aplicar una función Gaussiana a `x` e `y` definidos anteriormente, con centro en el punto `P=(50,50)`, anchura `sigma = 2` y amplitud igual a 1.\n",
    "\n",
    "Calcula transformada de Fourier de esta variable y representa el logaritmo de esta transformada en una figura."
   ]
  },
  {
   "cell_type": "markdown",
   "metadata": {},
   "source": [
    "### Filtros simples"
   ]
  },
  {
   "cell_type": "markdown",
   "metadata": {},
   "source": [
    "Vamos a ver a continuación el efecto que tiene igualar a cero aquellos valores de la transformada de Fourier de una imagen que se corresponden a ciertas frecuencias. Esto nos servirá para entender algo mejor qué quiere puede significar que la transformada de Fourier tome unos valores u otros en ciertos rangos de frecuencias espaciales.\n",
    "\n",
    "Primero cargaremos una imagen."
   ]
  },
  {
   "cell_type": "code",
   "execution_count": null,
   "metadata": {
    "collapsed": false
   },
   "outputs": [],
   "source": [
    "from scipy.ndimage import imread\n",
    "im = imread('airydiskcut.png',flatten=True)\n",
    "fig = plt.figure(frameon=False)\n",
    "fig.set_size_inches(5,5)\n",
    "plt.imshow(im,aspect='auto')\n",
    "plt.axis('off')"
   ]
  },
  {
   "cell_type": "markdown",
   "metadata": {},
   "source": [
    "### Ejercicio"
   ]
  },
  {
   "cell_type": "markdown",
   "metadata": {},
   "source": [
    "Realiza su transformada de Fourier, represéntala e indica las frecuencias espaciales más importantes. "
   ]
  },
  {
   "cell_type": "markdown",
   "metadata": {},
   "source": [
    "Vemos que la imagen tiene variaciones en distintas escalas espaciales. Mientras que los detalles suponen variaciones en la intensidad en muy poco espacio (escala espacial pequeña), el fondo varía suavemente en toda la imagen (escala espacial grande). Estas variaciones se corresponden con periodos espaciales de distinto valor, y por tanto, en frecuencias espaciales distintas. Si la imagen posee una transformada de Fourier no nula en frecuencias espaciales altas, supondrá que la imagen tiene variaciones en escalas pequeñas. Si hay contribuciones en frecuencias espaciales pequeñas, éstas estarán asociadas a variaciones en la imagen con periodos espaciales grandes."
   ]
  },
  {
   "cell_type": "markdown",
   "metadata": {},
   "source": [
    "### Ejercicio\n",
    "\n",
    "Vamos a utilizar lo anteriormente comentado para filtrar de una imagen el ruido de fondo que nos degrada su calidad. El ruido de una imagen está asociado a variaciones aleatorias de la intensidad de un pixel a otro pixel, es decir, en una escala espacial pequeña. Por tanto, si una vez calculada la transformada de Fourier de una imagen con ruido, hacemos nulos los elementos que se correspondan con las frecuencias más altas, y posteriormente realizamos una transformada inversa, recuperaremos la imagen sin ruido. \n",
    "\n",
    "Cambia el valor de la frecuencia de corte `fcut` a partir de la cual la función  `filtro_simple` se hace nula. La imagen filtrada se obtiene multiplicando la transformada de fourier de la imagen original por esta función (1 si la frecuencia es menor que fcut, 0 si es mayor) y realizando la transformada inversa. Observa los cambios en la imagen filtrada.\n",
    "\n",
    "Este filtro ideal normalmente no se utiliza. El problema es que la variación con la frecuencia es muy brusca en la frecuencia de corte. Otros filtros donde se suaviza este cambio se pueden consultar en [la página de ayuda de Scipy.ndimage](http://docs.scipy.org/doc/scipy/reference/ndimage.html)"
   ]
  },
  {
   "cell_type": "code",
   "execution_count": null,
   "metadata": {
    "collapsed": false
   },
   "outputs": [],
   "source": [
    "def filtro_simple(fx,fy,fcut):\n",
    "    ffx, ffy = np.meshgrid(fy,fx)\n",
    "    fmod = np.sqrt(ffx**2 + ffy**2)\n",
    "    return (np.abs(fmod) < fcut)\n",
    "\n",
    "fcut = 0.08\n",
    "imft_filt = imft*filtro_simple(fx,fy,fcut)\n",
    "plt.figure(figsize=(9,7))\n",
    "plt.subplot(121)\n",
    "#plt.pcolormesh(fx,fy,np.log(np.abs(imft_filt)+1).T)\n",
    "plt.imshow(im2)\n",
    "plt.subplot(122)\n",
    "im_filt = np.abs((ifft2(imft_filt)))\n",
    "plt.imshow(im_filt);"
   ]
  },
  {
   "cell_type": "markdown",
   "metadata": {},
   "source": [
    "### Ejercicio"
   ]
  },
  {
   "cell_type": "markdown",
   "metadata": {},
   "source": [
    "* Indica qué cambios se observan en la imagen filtrada con el filtro implementado en la celda de código anterior. Elige un valor que consideres óptimo de `fcut` para eliminar el ruido y aun así, mantener una imagen fiel a la original.\n",
    "\n",
    "* Indica cómo podría ser la función que implementase un filtro *pasa alta*, es decir, qué función habría que utilizar para que, al multiplicarla por la transformada de Fourier de la anterior imagen, sólo nos dejase las contribuciones a frecuencias más altas. Impleméntala para la anterior imagen cargada y discute sus efectos."
   ]
  }
 ],
 "metadata": {
  "kernelspec": {
   "display_name": "Python 3",
   "language": "python",
   "name": "python3"
  },
  "language_info": {
   "codemirror_mode": {
    "name": "ipython",
    "version": 3
   },
   "file_extension": ".py",
   "mimetype": "text/x-python",
   "name": "python",
   "nbconvert_exporter": "python",
   "pygments_lexer": "ipython3",
   "version": "3.4.4"
  },
  "toc": {
   "toc_cell": false,
   "toc_number_sections": true,
   "toc_threshold": 6,
   "toc_window_display": false
  }
 },
 "nbformat": 4,
 "nbformat_minor": 0
}
