{
 "cells": [
  {
   "cell_type": "markdown",
   "metadata": {},
   "source": [
    "# Breve introducción a Python (II)"
   ]
  },
  {
   "cell_type": "markdown",
   "metadata": {},
   "source": [
    "## Primeros pasos. Python como una calculadora"
   ]
  },
  {
   "cell_type": "markdown",
   "metadata": {},
   "source": [
    "Estas notas están basadas en el notebook [Crash Course  in Python for Scientists](http://nbviewer.ipython.org/gist/rpmuller/5920182) realizadas por Rick Muller (Sandia National Laboratories)."
   ]
  },
  {
   "cell_type": "markdown",
   "metadata": {},
   "source": [
    "------------\n",
    "Python puede ser usado como una calculadora"
   ]
  },
  {
   "cell_type": "code",
   "execution_count": 3,
   "metadata": {
    "collapsed": false
   },
   "outputs": [
    {
     "data": {
      "text/plain": [
       "4"
      ]
     },
     "execution_count": 3,
     "metadata": {},
     "output_type": "execute_result"
    }
   ],
   "source": [
    "2+2"
   ]
  },
  {
   "cell_type": "code",
   "execution_count": 4,
   "metadata": {
    "collapsed": false
   },
   "outputs": [
    {
     "data": {
      "text/plain": [
       "15"
      ]
     },
     "execution_count": 4,
     "metadata": {},
     "output_type": "execute_result"
    }
   ],
   "source": [
    "3*5"
   ]
  },
  {
   "cell_type": "code",
   "execution_count": 5,
   "metadata": {
    "collapsed": false
   },
   "outputs": [
    {
     "data": {
      "text/plain": [
       "1"
      ]
     },
     "execution_count": 5,
     "metadata": {},
     "output_type": "execute_result"
    }
   ],
   "source": [
    "7/5"
   ]
  },
  {
   "cell_type": "markdown",
   "metadata": {},
   "source": [
    "La ejecución de la celda anterior nos muestra una característica con la que debemos tener cuidado para no cometer errores: la división de dos números enteros. Tanto el número 7, como el 5 son números enteros en la anterior celda. Al hacer la división, Python asume que es una división entre enteros, y nos da otro entero. Si queremos en cambio que nos dé como resultado un número real, tendremos que definir uno o los dos números 7 y 5 como reales. Es decir, escribir 7.0 ó 5.0. "
   ]
  },
  {
   "cell_type": "code",
   "execution_count": 6,
   "metadata": {
    "collapsed": false
   },
   "outputs": [
    {
     "data": {
      "text/plain": [
       "1.4"
      ]
     },
     "execution_count": 6,
     "metadata": {},
     "output_type": "execute_result"
    }
   ],
   "source": [
    "7.0/5"
   ]
  },
  {
   "cell_type": "markdown",
   "metadata": {},
   "source": [
    "Un cambio con respecto a otros programas de cálculo y lenguajes es cómo se eleva a un exponente en Python. En otros lenguajes se utiliza el símbolo `^`. En Python se utiliza `**` (doble asterisco). Es decir, "
   ]
  },
  {
   "cell_type": "code",
   "execution_count": 42,
   "metadata": {
    "collapsed": false
   },
   "outputs": [
    {
     "data": {
      "text/plain": [
       "8"
      ]
     },
     "execution_count": 42,
     "metadata": {},
     "output_type": "execute_result"
    }
   ],
   "source": [
    "2**3"
   ]
  },
  {
   "cell_type": "markdown",
   "metadata": {},
   "source": [
    "## Variables"
   ]
  },
  {
   "cell_type": "markdown",
   "metadata": {},
   "source": [
    "Python permite no definir las variables antes de asignarles un valor. Así, si queremos usar una variable `edad` por ejemplo, que almacene la edad de una persona, simplemente escribiremos,"
   ]
  },
  {
   "cell_type": "code",
   "execution_count": 7,
   "metadata": {
    "collapsed": false
   },
   "outputs": [],
   "source": [
    "edad = 23"
   ]
  },
  {
   "cell_type": "markdown",
   "metadata": {},
   "source": [
    "Con el signo `=` asignamos el valor a la variable. Si ahora llámamos a la variable `edad` nos dará el valor que hayamos introducido,"
   ]
  },
  {
   "cell_type": "code",
   "execution_count": 8,
   "metadata": {
    "collapsed": false
   },
   "outputs": [
    {
     "data": {
      "text/plain": [
       "23"
      ]
     },
     "execution_count": 8,
     "metadata": {},
     "output_type": "execute_result"
    }
   ],
   "source": [
    "edad"
   ]
  },
  {
   "cell_type": "markdown",
   "metadata": {},
   "source": [
    "Por supuesto, si llamamos a una variable que no hayamos asignado antes su valor, Python devolerá un error, diciéndonos que no está definida."
   ]
  },
  {
   "cell_type": "code",
   "execution_count": 9,
   "metadata": {
    "collapsed": false
   },
   "outputs": [
    {
     "ename": "NameError",
     "evalue": "name 'peso' is not defined",
     "output_type": "error",
     "traceback": [
      "\u001b[1;31m---------------------------------------------------------------------------\u001b[0m\n\u001b[1;31mNameError\u001b[0m                                 Traceback (most recent call last)",
      "\u001b[1;32m<ipython-input-9-9b92745d839c>\u001b[0m in \u001b[0;36m<module>\u001b[1;34m()\u001b[0m\n\u001b[1;32m----> 1\u001b[1;33m \u001b[0mpeso\u001b[0m\u001b[1;33m\u001b[0m\u001b[0m\n\u001b[0m",
      "\u001b[1;31mNameError\u001b[0m: name 'peso' is not defined"
     ]
    }
   ],
   "source": [
    "peso"
   ]
  },
  {
   "cell_type": "markdown",
   "metadata": {},
   "source": [
    "Podemos utilizar casi cualquier nombre para una variable, excepto algunos reservados por Python para variables propias del lenguaje, como son: `and, as, assert, break, class, continue, def, del, elif, else, except, \n",
    "`exec, finally, for, from, global, if, import, in, is, lambda, not, or,\n",
    "`pass, print, raise, return, try, while, with, yield`\n",
    "\n",
    "Un nombre con el que debemos tener cuidado es `lambda` el cual lo utiliza Python para generar funciones. Debido a que los programas que haremos serán de temas de Óptica, si queremos definir la longitud de onda tendremos que usar otro nombre distinto a `lambda`. Afortunadamente Python distingue entre mayúsculas y minúsculas por lo que simplemente podremos utilizar por ejemplo, `Lambda` (o cualquier otro nombre).\n",
    "\n",
    "Resulta recomendable utilizar nombres de variables descriptivos (pero sin ser demasiado largos) para poder facilitar la lectura del programa."
   ]
  },
  {
   "cell_type": "markdown",
   "metadata": {},
   "source": [
    "## Strings (Cadenas de caracteres)"
   ]
  },
  {
   "cell_type": "markdown",
   "metadata": {},
   "source": [
    "Python define las cadenas de caracteres mediante comillas o bien apóstrofes. Da igual usar unos u otros siempre y cuando no se mezclen en una misma cadena. Por ejemplo"
   ]
  },
  {
   "cell_type": "code",
   "execution_count": 10,
   "metadata": {
    "collapsed": false
   },
   "outputs": [
    {
     "data": {
      "text/plain": [
       "'Esto es una cadena'"
      ]
     },
     "execution_count": 10,
     "metadata": {},
     "output_type": "execute_result"
    }
   ],
   "source": [
    "\"Esto es una cadena\""
   ]
  },
  {
   "cell_type": "code",
   "execution_count": 11,
   "metadata": {
    "collapsed": false
   },
   "outputs": [
    {
     "data": {
      "text/plain": [
       "'Y esto es otra cadena'"
      ]
     },
     "execution_count": 11,
     "metadata": {},
     "output_type": "execute_result"
    }
   ],
   "source": [
    "'Y esto es otra cadena'"
   ]
  },
  {
   "cell_type": "markdown",
   "metadata": {},
   "source": [
    "Por supuesto, podemos asignar una cadena a una variable"
   ]
  },
  {
   "cell_type": "code",
   "execution_count": 12,
   "metadata": {
    "collapsed": false
   },
   "outputs": [],
   "source": [
    "cadena = 'Hola'"
   ]
  },
  {
   "cell_type": "markdown",
   "metadata": {},
   "source": [
    "Si queremos visualizar el contenido de una cadena, podemos usar el comando `print`"
   ]
  },
  {
   "cell_type": "code",
   "execution_count": 13,
   "metadata": {
    "collapsed": false
   },
   "outputs": [
    {
     "name": "stdout",
     "output_type": "stream",
     "text": [
      "Hola\n"
     ]
    }
   ],
   "source": [
    "print cadena"
   ]
  },
  {
   "cell_type": "markdown",
   "metadata": {},
   "source": [
    "También podemos visualizar diferentes tipos de variables"
   ]
  },
  {
   "cell_type": "code",
   "execution_count": 14,
   "metadata": {
    "collapsed": false
   },
   "outputs": [
    {
     "name": "stdout",
     "output_type": "stream",
     "text": [
      "tengo 23 años\n"
     ]
    }
   ],
   "source": [
    "parte1 = 'tengo'\n",
    "parte2 = 'años'\n",
    "print parte1, edad, parte2 # la variable edad es un entero"
   ]
  },
  {
   "cell_type": "markdown",
   "metadata": {},
   "source": [
    "En la celda anterior también se ha introducido otro elemento: los comentarios. Un comentario es un texto que no queremos que se ejecute y que sirve para, efectivamente, comentar algo de un programa. Aunque en IPython Notebook podemos usar las celdas de texto para ello, en general, Python utiliza el símbolo `#` para definir un comentario. Lo que vaya detrás de ese símbolo no se ejecuta."
   ]
  },
  {
   "cell_type": "markdown",
   "metadata": {},
   "source": [
    "Otra operación útil con las cadenas de caracteres es unir una o varias cadenas. Esta operación se hace con el símbolo `+`"
   ]
  },
  {
   "cell_type": "code",
   "execution_count": 15,
   "metadata": {
    "collapsed": false
   },
   "outputs": [
    {
     "data": {
      "text/plain": [
       "'Uno esta cadenacon estayluegocon esta otra'"
      ]
     },
     "execution_count": 15,
     "metadata": {},
     "output_type": "execute_result"
    }
   ],
   "source": [
    "'Uno esta cadena'+ 'con esta'+ 'y' + 'luego' + 'con esta otra'"
   ]
  },
  {
   "cell_type": "markdown",
   "metadata": {},
   "source": [
    "Como vemos, no hemos tenido en cuenta los espacios entre las cadenas. Si los añadimos queda, "
   ]
  },
  {
   "cell_type": "code",
   "execution_count": 16,
   "metadata": {
    "collapsed": false
   },
   "outputs": [
    {
     "data": {
      "text/plain": [
       "'Uno esta cadena con esta y luego con esta otra'"
      ]
     },
     "execution_count": 16,
     "metadata": {},
     "output_type": "execute_result"
    }
   ],
   "source": [
    "'Uno esta cadena'+ ' con esta'+ ' y' + ' luego' + ' con esta otra'"
   ]
  },
  {
   "cell_type": "markdown",
   "metadata": {},
   "source": [
    "## Listas"
   ]
  },
  {
   "cell_type": "markdown",
   "metadata": {},
   "source": [
    "Una lista es un conjunto de elementos ordenados entre dos corchetes"
   ]
  },
  {
   "cell_type": "code",
   "execution_count": 2,
   "metadata": {
    "collapsed": false
   },
   "outputs": [
    {
     "name": "stdout",
     "output_type": "stream",
     "text": [
      "['pepe', 'juan', 'mario', 'ana']\n"
     ]
    }
   ],
   "source": [
    "lista = ['pepe',\"juan\",\"mario\",\"ana\"]\n",
    "print lista"
   ]
  },
  {
   "cell_type": "markdown",
   "metadata": {},
   "source": [
    "Los elementos de una lista se pueden llamar individualmente. Como se encuentran ordenadores, podemos llamarles por la posición que ocupan dentro de la lista. Esta posición se llama índice. Python, a diferencia de Matlab/Octave asigna el índice 0 al primer puesto de la lista. Para llamar a ese primer elemento escribiremos, "
   ]
  },
  {
   "cell_type": "code",
   "execution_count": 3,
   "metadata": {
    "collapsed": false
   },
   "outputs": [
    {
     "data": {
      "text/plain": [
       "'pepe'"
      ]
     },
     "execution_count": 3,
     "metadata": {},
     "output_type": "execute_result"
    }
   ],
   "source": [
    "lista[0]\n"
   ]
  },
  {
   "cell_type": "markdown",
   "metadata": {},
   "source": [
    "El último elemento será en nuestro caso aquel con índice 3 (4 elementos: 0,1,2,3). Podemos llamarle con el índice 3, o bien con el índice -1"
   ]
  },
  {
   "cell_type": "code",
   "execution_count": 4,
   "metadata": {
    "collapsed": false
   },
   "outputs": [
    {
     "data": {
      "text/plain": [
       "'ana'"
      ]
     },
     "execution_count": 4,
     "metadata": {},
     "output_type": "execute_result"
    }
   ],
   "source": [
    "lista[3]"
   ]
  },
  {
   "cell_type": "code",
   "execution_count": 5,
   "metadata": {
    "collapsed": false
   },
   "outputs": [
    {
     "data": {
      "text/plain": [
       "'ana'"
      ]
     },
     "execution_count": 5,
     "metadata": {},
     "output_type": "execute_result"
    }
   ],
   "source": [
    "lista[-1]"
   ]
  },
  {
   "cell_type": "markdown",
   "metadata": {},
   "source": [
    "Siguiendo esta numeración, el penúltimo elemento tendría índice -2, el antepenúltimo -3, etc.\n",
    "\n",
    "Podemos cambiar el elemento que queramos de la lista asignándole un nuevo valor"
   ]
  },
  {
   "cell_type": "code",
   "execution_count": 6,
   "metadata": {
    "collapsed": false
   },
   "outputs": [
    {
     "name": "stdout",
     "output_type": "stream",
     "text": [
      "['pepe', 'juan', 'laura', 'ana']\n"
     ]
    }
   ],
   "source": [
    "lista[2] = 'laura'\n",
    "print lista"
   ]
  },
  {
   "cell_type": "markdown",
   "metadata": {},
   "source": [
    "Vemos que ahora el tercer elemento de la lista (con índice 2) es `laura` en vez de `mario` como era inicialmente.\n",
    "\n",
    "Este acceso a los distintos elementos de una lista se puede hacer también con las cadenas de caracteres. El primer elemento (índice 0) sería la primera letra de la cadena"
   ]
  },
  {
   "cell_type": "code",
   "execution_count": 23,
   "metadata": {
    "collapsed": false
   },
   "outputs": [
    {
     "data": {
      "text/plain": [
       "'H'"
      ]
     },
     "execution_count": 23,
     "metadata": {},
     "output_type": "execute_result"
    }
   ],
   "source": [
    "cadena[0] # la variable cadena se encontraba definida anteriormente"
   ]
  },
  {
   "cell_type": "code",
   "execution_count": 24,
   "metadata": {
    "collapsed": false
   },
   "outputs": [
    {
     "data": {
      "text/plain": [
       "'a'"
      ]
     },
     "execution_count": 24,
     "metadata": {},
     "output_type": "execute_result"
    }
   ],
   "source": [
    "cadena[-1]"
   ]
  },
  {
   "cell_type": "markdown",
   "metadata": {},
   "source": [
    "Si queremos saber el número de elementos de una lista, podemos usar la función `len`"
   ]
  },
  {
   "cell_type": "code",
   "execution_count": 21,
   "metadata": {
    "collapsed": false
   },
   "outputs": [
    {
     "data": {
      "text/plain": [
       "4"
      ]
     },
     "execution_count": 21,
     "metadata": {},
     "output_type": "execute_result"
    }
   ],
   "source": [
    "len(lista)"
   ]
  },
  {
   "cell_type": "markdown",
   "metadata": {},
   "source": [
    "¿Qué ocurre si queremos acceder a más de un elemento?. ¿Por ejemplo, a los tres primeros elementos de la variable `lista`?. Para ello, Python dispone de la operación de *slicing*, mediante el uso del símbolo `:`"
   ]
  },
  {
   "cell_type": "code",
   "execution_count": 25,
   "metadata": {
    "collapsed": false
   },
   "outputs": [
    {
     "data": {
      "text/plain": [
       "['pepe', 'juan']"
      ]
     },
     "execution_count": 25,
     "metadata": {},
     "output_type": "execute_result"
    }
   ],
   "source": [
    "lista[0:2]"
   ]
  },
  {
   "cell_type": "markdown",
   "metadata": {},
   "source": [
    "Como se puede ver `lista[0:X]` nos devuelve los elementos de lista hasta `X-1`. También podemos prescindir del 0 y dejar la anterior operación como `lista[:2]`. Si queremos los elementos desde el segundo hasta el cuarto escribiremos,"
   ]
  },
  {
   "cell_type": "code",
   "execution_count": 26,
   "metadata": {
    "collapsed": false
   },
   "outputs": [
    {
     "data": {
      "text/plain": [
       "['juan', 'mario', 'ana']"
      ]
     },
     "execution_count": 26,
     "metadata": {},
     "output_type": "execute_result"
    }
   ],
   "source": [
    "lista[1:4] #recordatorio: el índice 1 corresponde al segundo elemento"
   ]
  },
  {
   "cell_type": "markdown",
   "metadata": {},
   "source": [
    "\n",
    "\n",
    "Aparte de listas de cadenas de caracteres, por supuesto podemos hacer listas de números. Una función muy importante en Python para generar una lista de números es `range`"
   ]
  },
  {
   "cell_type": "code",
   "execution_count": 9,
   "metadata": {
    "collapsed": false
   },
   "outputs": [
    {
     "data": {
      "text/plain": [
       "range(0, 10)"
      ]
     },
     "execution_count": 9,
     "metadata": {},
     "output_type": "execute_result"
    }
   ],
   "source": [
    "list(range(10))"
   ]
  },
  {
   "cell_type": "markdown",
   "metadata": {},
   "source": [
    "Como vemos, range(X) genera números enteros desde 0 hasta X-1. Si queremos empezar en otro número distinto de cero, podemos usar `list(range(inicio,fin))`.\n",
    "\n",
    "Hay muchas operaciones con listas que podemos hacer y que no veremos en estas notas. Por ejemplo, se puede añadir un elemento al final de la lista escribiendo `lista.append('laura')` o bien quitar un elemento de la lista por medio de `list.pop(2)` (en este caso quitaríamos el elemento con índice 2 (el tercer elemento).\n",
    "\n",
    "Las listas no tienen por qué estar constituidas por elementos del mismo tipo. Sin embargo, en todas las operaciones que hagamos ese será nuestro caso. Es por ello que más que listas de números usaremos otro tipo de construcción propia del módulo *Numpy* que se denomina *array*. Este módulo proporciona la posibilidad de operar con arrays o vectores de manera mucho más eficiente. "
   ]
  },
  {
   "cell_type": "markdown",
   "metadata": {},
   "source": [
    "### Ejercicio 1"
   ]
  },
  {
   "cell_type": "markdown",
   "metadata": {},
   "source": [
    "1. Genera una lista de números enteros del 4 al 149 (ambos incluídos) y asígnala a una variable `a`.\n",
    "\n",
    "2. Almacena los valores de esa lista con índices 3, 5, y del 2 al 9 en las variables `a3`, `a5` y `a2_9` respectivamente.\n",
    "\n",
    "3. Almacena la longitud de esa lista en la variable `long_a`"
   ]
  },
  {
   "cell_type": "markdown",
   "metadata": {},
   "source": [
    "## Tuplas y diccionarios"
   ]
  },
  {
   "cell_type": "markdown",
   "metadata": {},
   "source": [
    "Aunque nosotros apenas los utilizaremos, conviene al menos saber que existen otros tipos de secuencias distintas a las listas en Python. \n",
    "\n",
    "**Tuplas**\n",
    "\n",
    "Una tupla es una lista inmutable. Esto quiere decir que una vez creada, no se pueden cambiar. Para distinguirlas de las listas, se generan escribiendo los elementos entre paréntesis en vez de entre corchetes"
   ]
  },
  {
   "cell_type": "code",
   "execution_count": 27,
   "metadata": {
    "collapsed": false
   },
   "outputs": [],
   "source": [
    "tupla_ejemplo = (2,8,'pepe')"
   ]
  },
  {
   "cell_type": "code",
   "execution_count": 28,
   "metadata": {
    "collapsed": false
   },
   "outputs": [
    {
     "data": {
      "text/plain": [
       "'pepe'"
      ]
     },
     "execution_count": 28,
     "metadata": {},
     "output_type": "execute_result"
    }
   ],
   "source": [
    "tupla_ejemplo[2]"
   ]
  },
  {
   "cell_type": "code",
   "execution_count": 29,
   "metadata": {
    "collapsed": false
   },
   "outputs": [
    {
     "ename": "TypeError",
     "evalue": "'tuple' object does not support item assignment",
     "output_type": "error",
     "traceback": [
      "\u001b[1;31m---------------------------------------------------------------------------\u001b[0m\n\u001b[1;31mTypeError\u001b[0m                                 Traceback (most recent call last)",
      "\u001b[1;32m<ipython-input-29-37747978c8a0>\u001b[0m in \u001b[0;36m<module>\u001b[1;34m()\u001b[0m\n\u001b[1;32m----> 1\u001b[1;33m \u001b[0mtupla_ejemplo\u001b[0m\u001b[1;33m[\u001b[0m\u001b[1;36m1\u001b[0m\u001b[1;33m]\u001b[0m \u001b[1;33m=\u001b[0m \u001b[1;36m0\u001b[0m\u001b[1;33m\u001b[0m\u001b[0m\n\u001b[0m",
      "\u001b[1;31mTypeError\u001b[0m: 'tuple' object does not support item assignment"
     ]
    }
   ],
   "source": [
    "tupla_ejemplo[1] = 0"
   ]
  },
  {
   "cell_type": "markdown",
   "metadata": {},
   "source": [
    "Como vemos en el error anterior, al intentar asignar un nuevo valor al elemento con índice 1 de la tupla, Python nos devuelve un error, indicándonos que una tupla no permite asignar nuevos valores a sus elementos.\n",
    "\n",
    "El otro tipo de secuencia (como conjunto de diversos elementos) se denomina\n",
    "\n",
    "**Diccionarios**\n",
    "\n",
    "Un diccionario es una secuencia en donde el papel del índice lo toma lo que se denomina *key*. Permite una mayor flexibilidad a la hora de acceder a los datos. Se escriben entre llaves \"{}\". Vale más un ejemplo, "
   ]
  },
  {
   "cell_type": "code",
   "execution_count": 31,
   "metadata": {
    "collapsed": false
   },
   "outputs": [],
   "source": [
    "dicc_ejemplo ={\"ana\":23, \"juan\":26, \"luis\":28}"
   ]
  },
  {
   "cell_type": "markdown",
   "metadata": {},
   "source": [
    "En este caso lo que se denomina *key* son los diferentes nombres, y los valores del diccionario son los valores numéricos introducidos. Si queremos saber qué valor toma \"ana\" (por ejemplo podría ser su edad), escribiríamos,"
   ]
  },
  {
   "cell_type": "code",
   "execution_count": 32,
   "metadata": {
    "collapsed": false
   },
   "outputs": [
    {
     "data": {
      "text/plain": [
       "23"
      ]
     },
     "execution_count": 32,
     "metadata": {},
     "output_type": "execute_result"
    }
   ],
   "source": [
    "dicc_ejemplo[\"ana\"]"
   ]
  },
  {
   "cell_type": "markdown",
   "metadata": {},
   "source": [
    "### Ejercicio 2"
   ]
  },
  {
   "cell_type": "markdown",
   "metadata": {},
   "source": [
    "1. Generar un diccionario `notas_asignaturas` que contenga como *keys* el nombre de 3 asignaturas de la carrera que ya se hayan cursado (sin tildes ni ñ), y como valores, las notas obtenidas en ellas. Posteriormente, almacena en la variable `media_notas` la media de dichas notas."
   ]
  },
  {
   "cell_type": "markdown",
   "metadata": {},
   "source": [
    "## Bucles for, if-else"
   ]
  },
  {
   "cell_type": "markdown",
   "metadata": {},
   "source": [
    "En muchas ocasiones queremos repetir una operación varias veces, o bien necesitamos decirle al programa que haga algo *si* se da una condición, y haga otra cosa *si* no se cumple. Estos casos son cubiertos por los bucles for y los condicionales if-else\n",
    "\n",
    "**Bucles for**\n",
    "\n",
    "La idea es que con un bucle for le estamos diciendo al programa: *haz que una cierta variable recorra los valores de una lista, y para cada valor que tome, haz algo*. Veamos un ejemplo,"
   ]
  },
  {
   "cell_type": "code",
   "execution_count": 33,
   "metadata": {
    "collapsed": false
   },
   "outputs": [
    {
     "name": "stdout",
     "output_type": "stream",
     "text": [
      "0\n",
      "1\n",
      "2\n",
      "3\n",
      "4\n"
     ]
    }
   ],
   "source": [
    "for i in range(5):\n",
    "    print i"
   ]
  },
  {
   "cell_type": "markdown",
   "metadata": {},
   "source": [
    "Hay varias cosas que se han introducido en el anterior código. Primero veamos qué hace: la variable `i` (que no hace falta definirla anteriormente), recorre los valores de la lista generada por `range(5)` que sabemos que es `[0,1,2,3,4]`. Para cada uno de esos valores, le decimos al programa que muestre la variable i.\n",
    "\n",
    "Otro ejemplo, "
   ]
  },
  {
   "cell_type": "code",
   "execution_count": 34,
   "metadata": {
    "collapsed": false
   },
   "outputs": [
    {
     "name": "stdout",
     "output_type": "stream",
     "text": [
      "pepe tiene un 10\n",
      "juan tiene un 10\n",
      "mario tiene un 10\n",
      "ana tiene un 10\n"
     ]
    }
   ],
   "source": [
    "for i in lista: #aquí suponemos que la variable lista ya está definida\n",
    "    print i, \"tiene un 10\""
   ]
  },
  {
   "cell_type": "markdown",
   "metadata": {},
   "source": [
    "Como vemos, la lista que recorre `i` no tiene por qué estar compuesta por valores numéricos.\n",
    "\n",
    "Veamos alguna característica más de lo que hemos escrito. La forma en la que se escriben los bucles, los condicionales if-else, así como las funciones (que veremos posteriormente) es la misma. En su primera línea acabamos con dos puntos \":\" y lo que queremos que vaya dentro del bucle/condición/función va *indentado* o sangrado hacia la derecha (aunque menos correcto en castellano, utilizaremos aquí el término indentado por ser más similar a lo que se utiliza en inglés). El fin de esa indentación nos marca el fin del bucle. "
   ]
  },
  {
   "cell_type": "code",
   "execution_count": 35,
   "metadata": {
    "collapsed": false
   },
   "outputs": [
    {
     "name": "stdout",
     "output_type": "stream",
     "text": [
      "0\n",
      "1\n",
      "2\n",
      "3\n",
      "4\n",
      "esta línea ya no es parte del bucle por lo que solo aparece una vez\n"
     ]
    }
   ],
   "source": [
    "for i in range(5):\n",
    "    print i\n",
    "print \"esta línea ya no es parte del bucle por lo que solo aparece una vez\"    "
   ]
  },
  {
   "cell_type": "code",
   "execution_count": 37,
   "metadata": {
    "collapsed": false
   },
   "outputs": [
    {
     "name": "stdout",
     "output_type": "stream",
     "text": [
      "pepe\n",
      "0\n",
      "1\n",
      "juan\n",
      "0\n",
      "1\n",
      "mario\n",
      "0\n",
      "1\n",
      "ana\n",
      "0\n",
      "1\n"
     ]
    }
   ],
   "source": [
    "for i in lista:\n",
    "    print i\n",
    "    for j in range(2):\n",
    "        print j"
   ]
  },
  {
   "cell_type": "markdown",
   "metadata": {},
   "source": [
    "El ejemplo anterior lo hemos complicado un poquito. Para introducir un bucle for dentro de otro bucle for añadimos más indentación. Este modo de trabajar facilita la lectura del programa, y es diferente a como Matlab/Octave u otros lenguajes como C gestionan los bucles. En Matlab se acaba el bucle con la instrucción `end`, mientras que en C lo que vaya dentro del bucle for va entre llaves `{}`, sin importar en ninguno de estos dos casos el indentado."
   ]
  },
  {
   "cell_type": "markdown",
   "metadata": {},
   "source": [
    "-----\n",
    "Otra función muy útil cuando trabajamos con bucles y listas es la función `enumerate`, la cual devuelve el índice y valor de cada elemento del vector. Podemos usar esta función en bucles for de la siguiente forma."
   ]
  },
  {
   "cell_type": "code",
   "execution_count": 2,
   "metadata": {
    "collapsed": false,
    "scrolled": true
   },
   "outputs": [
    {
     "name": "stdout",
     "output_type": "stream",
     "text": [
      "Para el índice  0  el valor es  0\n",
      "Para el índice  1  el valor es  3\n",
      "Para el índice  2  el valor es  5\n",
      "Para el índice  3  el valor es  7\n"
     ]
    }
   ],
   "source": [
    "lista = [0,3,5,7]\n",
    "for indice,valor in enumerate(lista):\n",
    "    print(\"Para el índice \", indice, \" el valor es \", valor)"
   ]
  },
  {
   "cell_type": "markdown",
   "metadata": {},
   "source": [
    "### Ejercicio 3"
   ]
  },
  {
   "cell_type": "markdown",
   "metadata": {},
   "source": [
    "* Genera una lista `x` que contenga 5 números en el rango [2,4] y una lista `y` que contenga 5 ceros. A continuación, usa un bucle `for` para modificar cada elemento de `y` (`y[i]`), asignándole un nuevo valor, igual al valor que tiene el correspondiente elemento de `x` (`x[i]`), multiplicado por 3. Muestra a continuación la variable `y` con el comando print"
   ]
  },
  {
   "cell_type": "markdown",
   "metadata": {},
   "source": [
    "**If-else**\n",
    "\n",
    "La estructura sería la siguiente, \n",
    "\n",
    "`if *condicion*:\n",
    "    hacer algo`\n",
    "    \n",
    "`else:\n",
    "    hacer otra cosa`\n",
    "    \n",
    "Cuando se cumple la condición se ejecuta `hacer algo`. Cuando no, se ejecuta `hacer otra cosa`. Que se cumpla la condición significa que *condicion* es verdadera (True) mientras que si no se cumple es falsa (False). Normalmente se realizan comparaciones o igualdades. Veamos un ejemplo,     "
   ]
  },
  {
   "cell_type": "code",
   "execution_count": 38,
   "metadata": {
    "collapsed": false
   },
   "outputs": [
    {
     "name": "stdout",
     "output_type": "stream",
     "text": [
      "1 no es mayor que 2\n"
     ]
    }
   ],
   "source": [
    "if 1>2:\n",
    "    print('1 es mayor que 2')\n",
    "else:\n",
    "    print('1 no es mayor que 2')"
   ]
  },
  {
   "cell_type": "code",
   "execution_count": 39,
   "metadata": {
    "collapsed": false
   },
   "outputs": [
    {
     "name": "stdout",
     "output_type": "stream",
     "text": [
      "2 es igual a 2\n"
     ]
    }
   ],
   "source": [
    "if 2==2:\n",
    "    print('2 es igual a 2')\n",
    "else:\n",
    "    print('2 no es igual a 2')"
   ]
  },
  {
   "cell_type": "markdown",
   "metadata": {},
   "source": [
    "Como vemos, la igualdad se maneja en las condiciones con el símbolo `==`(doble igual) para distinguirlo de la asignación de valores a una variable que se realiza con un único símbolo `=`. Veamos un ejemplo con un bucle for y condicionales,"
   ]
  },
  {
   "cell_type": "code",
   "execution_count": 40,
   "metadata": {
    "collapsed": false
   },
   "outputs": [
    {
     "name": "stdout",
     "output_type": "stream",
     "text": [
      "el índice de ana es  3\n",
      "aquí ya se ha acabado el bucle\n"
     ]
    }
   ],
   "source": [
    "for i in range(len(lista)):\n",
    "    if lista[i] == 'ana':\n",
    "        print(\"el índice de ana es \",i)\n",
    "print(\"aquí ya se ha acabado el bucle\")"
   ]
  },
  {
   "cell_type": "markdown",
   "metadata": {},
   "source": [
    "En la primera línea hemos creado una lista de números con `range` que va desde 0 hasta la longitud de lista `len(lista)`. De este modo nos aseguramos de barrer todos los índices y por tanto todos los elementos de la variable lista."
   ]
  },
  {
   "cell_type": "markdown",
   "metadata": {},
   "source": [
    "--------\n",
    "\n",
    "Podríamos simplificar este último ejemplo a costa de introducir una nueva función que nos resultará muy útil en un futuro. Esta función se llama `enumerate` y devuelve tanto los índices como los valores de una lista. El código anterior se escribiría de la siguiente forma"
   ]
  },
  {
   "cell_type": "code",
   "execution_count": 4,
   "metadata": {
    "collapsed": false
   },
   "outputs": [
    {
     "name": "stdout",
     "output_type": "stream",
     "text": [
      "el índice de ana es  3\n",
      "aquí ya se ha acabado el bucle\n"
     ]
    }
   ],
   "source": [
    "for i,valor in enumerate(lista):\n",
    "    if valor == 'ana':\n",
    "        print(\"el índice de ana es \",i)\n",
    "print(\"aquí ya se ha acabado el bucle\")       "
   ]
  },
  {
   "cell_type": "markdown",
   "metadata": {},
   "source": [
    "### Ejercicio 4"
   ]
  },
  {
   "cell_type": "markdown",
   "metadata": {},
   "source": [
    "* Genera una lista `notas` de 5 valores entre el 1 y el 10 con paso de 2 y una lista de nombres `nombres` que contengan los nombres `ana`, `luis`, `juan`, `alicia` y `sonia` en el orden presentado. Generar también dos listas vacías, `nombres_aprobados` y `notas_aprobados`.  A continuación usa un bucle for para recorrer los índices y los valores que contiene `notas`. Dentro del bucle, escribe el siguiente código: Si la nota del elemento es mayor o igual que 5, añade la nota en la lista `notas_aprobados` y el nombre correspondiente (de la lista `nombres` con el mismo índice) a la lista `nombres_aprobados`. Si no es mayor que 5, no hacer nada. \n",
    "\n",
    "Nota: Buscar cómo añadir un elemento a una lista mediante el comando .append"
   ]
  },
  {
   "cell_type": "markdown",
   "metadata": {},
   "source": [
    "## Funciones"
   ]
  },
  {
   "cell_type": "markdown",
   "metadata": {},
   "source": [
    "Habitualmente querremos que una parte del programa se pueda aplicar varias veces a distintos objetos. Para ello, en vez de copiar y pegar esa parte en distintas partes del programa, podemos definir una función que nos haga esas operaciones, y llamarla cuando queramos. Por ejemplo, queremos aplicar la función (0.5\\*t + 3) a diferentes tiempos. Podemos escribir una función del siguiente modo, "
   ]
  },
  {
   "cell_type": "code",
   "execution_count": 43,
   "metadata": {
    "collapsed": false
   },
   "outputs": [],
   "source": [
    "def fun_ejemplo(t):\n",
    "    return (0.5*t + 3)"
   ]
  },
  {
   "cell_type": "code",
   "execution_count": 44,
   "metadata": {
    "collapsed": false
   },
   "outputs": [
    {
     "data": {
      "text/plain": [
       "4.0"
      ]
     },
     "execution_count": 44,
     "metadata": {},
     "output_type": "execute_result"
    }
   ],
   "source": [
    "fun_ejemplo(2)"
   ]
  },
  {
   "cell_type": "markdown",
   "metadata": {},
   "source": [
    "Como vemos, la definición de una función comienza por la palabra `def`. A continuación escribimos el nombre de la función y entre paréntesis los argumentos que queramos. Al final, se ha de incluir qué se quiere que devuelva la función con la palabra `return`. Otro ejemplo, "
   ]
  },
  {
   "cell_type": "code",
   "execution_count": null,
   "metadata": {
    "collapsed": false
   },
   "outputs": [],
   "source": [
    "def fun_ejemplo2(t):\n",
    "    t2 = t - 0.5\n",
    "    return t2*0.5 + 3"
   ]
  },
  {
   "cell_type": "markdown",
   "metadata": {},
   "source": [
    "Al igual que con los bucles y los condicionales, lo que vaya dentro de la función ha de escribirse indentado. "
   ]
  },
  {
   "cell_type": "markdown",
   "metadata": {},
   "source": [
    "### Ejercicio 5"
   ]
  },
  {
   "cell_type": "markdown",
   "metadata": {},
   "source": [
    "* Define una función que se llame `calc` que tenga como argumentos 3 variables `x`, `y` y `z` y devuelva `x^2 - 3y + z"
   ]
  },
  {
   "cell_type": "markdown",
   "metadata": {},
   "source": [
    "### Ejercicio 6"
   ]
  },
  {
   "cell_type": "markdown",
   "metadata": {},
   "source": [
    "* Define una función de nombre `elemento` que tenga como argumentos una lista `x` y una posición `index` y que haga lo siguiente:\n",
    "\n",
    "    * Compruebe primero que `index` es mayor o igual que 0 y menor que la longitud de la variable `x` y si no se cumple, devuelva el mensaje `index no valido`.\n",
    "    \n",
    "    * Si `index` es válido, devuelva el valor de la lista `x` asociado a ese índice."
   ]
  },
  {
   "cell_type": "markdown",
   "metadata": {},
   "source": [
    "## Scripts y módulos"
   ]
  },
  {
   "cell_type": "markdown",
   "metadata": {},
   "source": [
    "**Scripts**\n",
    "\n",
    "El lenguaje Python es interactivo, pudiendo escribir y ejecutar las operaciones desde el intérprete sea el que sea (en nuestro caso IPython Notebook). Sin embargo es común guardar los programas en archivos para después ser ejecutados. Los archivos de Python tienen extensión .py salvo los notebooks que tienen extensión .ipynb. Si queremos generar un archivo o *script* de Python con nuestras operaciones escritas en el notebook, podemos exportarlo mediante *File-> Download as > Python (.py)*. Las celdas de texto se convertirán en comentarios. Estos scripts son análogos a los archivos con extensión .m de Matlab/Octave. \n",
    "\n",
    "En IPython Notebook podemos cargar directamente un archivo escribiendo en una celda de código, \n",
    "\n",
    "`%load nombrearchivo.py`\n",
    "\n",
    "También podemos ver un script de Python en cualquier editor, fuera de IPython Notebook.\n",
    "\n",
    "**Módulos**\n",
    "\n",
    "Los módulos en Python son simplemente scripts (archivos) en donde se definen un conjunto de funciones. En otros lenguajes se denominan librerías de funciones. Para hacer uso de esas funciones, tenemos que importar el módulo. Nosotros utilizaremos los módulos de cálculo ciéntifico de Python que nos permitan operar con conjuntos de datos, dibujarlos y hacer operaciones con ellos como por ejemplo un ajuste lineal, la transformada de Fourier para extraer sus periodicidades, etc.\n",
    "\n",
    "\n",
    "Para importar un módulo se utiliza el comando `import`. Este comando se puede utilizar de varias maneras. Por ejemplo, "
   ]
  },
  {
   "cell_type": "code",
   "execution_count": 1,
   "metadata": {
    "collapsed": false
   },
   "outputs": [],
   "source": [
    "import numpy as np"
   ]
  },
  {
   "cell_type": "markdown",
   "metadata": {},
   "source": [
    "En la celda anterior hemos importado el módulo *Numpy* que nos permite trabajar eficientemente con listas de datos. El efecto de la anterior celda es: *importa el módulo numpy y llámalo np dentro de este programa*. Así, si queremos usar las funciones definidas dentro de numpy, tendremos que escribir np.nombredelafunción. Es decir, si queremos la función seno dentro del módulo numpy escribiremos,\n",
    "\n",
    "np.sin (Nota: los nombres hay que escribirlos en inglés). Veámoslo"
   ]
  },
  {
   "cell_type": "code",
   "execution_count": 2,
   "metadata": {
    "collapsed": false
   },
   "outputs": [
    {
     "data": {
      "text/plain": [
       "0.47942553860420301"
      ]
     },
     "execution_count": 2,
     "metadata": {},
     "output_type": "execute_result"
    }
   ],
   "source": [
    "np.sin(0.5)"
   ]
  },
  {
   "cell_type": "markdown",
   "metadata": {},
   "source": [
    "Si no queremos escribir *np.* antes de cada función, podemos importar directamente una función o varias dentro del módulo, o bien todas las funciones del módulo. Para ello escribimos, "
   ]
  },
  {
   "cell_type": "code",
   "execution_count": 8,
   "metadata": {
    "collapsed": false
   },
   "outputs": [],
   "source": [
    "from numpy import cos,tan"
   ]
  },
  {
   "cell_type": "markdown",
   "metadata": {},
   "source": [
    "Esta celda importa la función `cos` del módulo numpy. Así la podemos usar directamente, "
   ]
  },
  {
   "cell_type": "code",
   "execution_count": 9,
   "metadata": {
    "collapsed": false
   },
   "outputs": [
    {
     "name": "stdout",
     "output_type": "stream",
     "text": [
      "coseno de 0.5 rad =  0.87758256189\n",
      "tangente de 0.5 rad = 0.546302489844\n"
     ]
    }
   ],
   "source": [
    "print 'coseno de 0.5 rad = ', cos(0.5)\n",
    "print 'tangente de 0.5 rad =', tan(0.5)"
   ]
  },
  {
   "cell_type": "markdown",
   "metadata": {},
   "source": [
    "O bien podemos importar todas las funciones del módulo mediante,"
   ]
  },
  {
   "cell_type": "code",
   "execution_count": 5,
   "metadata": {
    "collapsed": false
   },
   "outputs": [],
   "source": [
    "from numpy import *"
   ]
  },
  {
   "cell_type": "code",
   "execution_count": 6,
   "metadata": {
    "collapsed": false
   },
   "outputs": [
    {
     "data": {
      "text/plain": [
       "0.47942553860420301"
      ]
     },
     "execution_count": 6,
     "metadata": {},
     "output_type": "execute_result"
    }
   ],
   "source": [
    "sin(0.5)"
   ]
  },
  {
   "cell_type": "markdown",
   "metadata": {},
   "source": [
    "Nótese que ya no es necesario el uso de np. antes de la función `sin`.\n",
    "\n",
    "Los módulos científicos que vamos a usar en este curso son, \n",
    "\n",
    "* Numpy : permite trabajar eficientemente con conjuntos de datos.\n",
    "\n",
    "* Scipy: Es en realidad un conjunto de submódulos cada uno de los cuales está dedicado a un tema concreto como puede ser procesado de imágenes, tratamiento de señales, optimización, etc. Sería algo equivalente a las toolboxes de Matlab.\n",
    "\n",
    "* Matplotlib: Es el módulo que nos permitirá dibujar nuestros resultados: curvas, contornos, superficies, etc."
   ]
  },
  {
   "cell_type": "markdown",
   "metadata": {},
   "source": [
    "### Ejercicio 7"
   ]
  },
  {
   "cell_type": "markdown",
   "metadata": {},
   "source": [
    "1.a En la siguiente celda generar una lista `ej1a`de los números enteros desde el 1 al 65. A continuación, cambiar el tercer elemento de la lista y asígnarle el valor 100."
   ]
  },
  {
   "cell_type": "markdown",
   "metadata": {},
   "source": [
    "1.b En la siguiente celda generar un bucle for que recorra los primeros 5 elementos de la lista anteriormente generada. Dentro del bucle asignar a cada elemento de la lista un nuevo valor, igual al cuadrado de 2.567."
   ]
  },
  {
   "cell_type": "markdown",
   "metadata": {},
   "source": [
    "### Ejercicio 8\n",
    "\n",
    "Definir una función `ej2` que tenga como argumento una lista de números `num`y tenga las siguientes operaciones en su interior:\n",
    "\n",
    "   1.a Tenga un bucle for que recorra los índices y elementos de la lista (recordar la función `enumerate`)\n",
    "\n",
    "   1.b Para cada elemento de la lista, sumarle 3.\n",
    "\n",
    "   1.c Devuelva como salida de nuevo la lista modificada (Nota: recordar la palabra clave `return`)\n"
   ]
  },
  {
   "cell_type": "markdown",
   "metadata": {},
   "source": [
    "### Ejercicio 9\n",
    "\n",
    "Crea una nueva celda en donde se realicen las siguientes operaciones,\n",
    "\n",
    "   1.a  Importar las funciones `exp` y `log` del módulo Numpy.\n",
    "\n",
    "   1.b Crear una función `ej3` que tome un argumento que llamaremos `a`. Dentro de la función, se han de realizar las siguientes operaciones,\n",
    "    * Crear un bucle if-else en donde: Si a es menor o igual que 0, entonces se asigna a la variable y el valor exp(a). Si no, se asigna a la variable y el valor log(a).\n",
    "    * Devolver el valor de y\n",
    "    "
   ]
  }
 ],
 "metadata": {
  "kernelspec": {
   "display_name": "Python 3",
   "language": "python",
   "name": "python3"
  },
  "language_info": {
   "codemirror_mode": {
    "name": "ipython",
    "version": 3
   },
   "file_extension": ".py",
   "mimetype": "text/x-python",
   "name": "python",
   "nbconvert_exporter": "python",
   "pygments_lexer": "ipython3",
   "version": "3.4.4"
  },
  "toc": {
   "toc_cell": false,
   "toc_number_sections": true,
   "toc_threshold": 6,
   "toc_window_display": false
  }
 },
 "nbformat": 4,
 "nbformat_minor": 0
}
