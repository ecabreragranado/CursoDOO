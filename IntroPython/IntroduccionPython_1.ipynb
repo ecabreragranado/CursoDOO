{
 "cells": [
  {
   "cell_type": "markdown",
   "metadata": {},
   "source": [
    "# Breve introducción a Python (I)"
   ]
  },
  {
   "cell_type": "markdown",
   "metadata": {},
   "source": [
    "Python se ha convertido en uno de los lenguajes más populares y por tanto usados en muy diferentes áreas. También ha ganado cada vez más terreno en el ámbito científico, gracias a una gran cantidad de módulos científicos de calidad gratuitos y a una sintaxis limpia y fácil de aprender.\n",
    "\n",
    "En este notebook vamos a ver varios conceptos que nos servirán de base para realizar programas que nos ayuden a representar datos, ajustarlos a un módelo (ya sea un modelo lineal o una función más complicada) y a analizar los resultados. Será por tanto una muy breve introducción, fijándonos únicamente en lo que nos sea útil para poder trabajar con Python. Para una explicación más detallada, es muy recomendable consultar alguno de los siguientes enlaces:\n",
    "\n",
    "* [Tutorial de Python](http://docs.python.org/2/tutorial/)\n",
    "* [Dive into Python](http://www.diveintopython.net/toc/index.html)\n",
    "* [Tutorial de Python en español, con libro en pdf](http://mundogeek.net/tutorial-python)\n",
    "* [Tutorial sobre las herramientas científicas en Python](http://scipy-lectures.github.com/index.html)\n",
    "* [Diversas lecciones sobre computación científica con Python](https://github.com/jrjohansson/scientific-python-lectures#online-read-only-versions)\n"
   ]
  },
  {
   "cell_type": "markdown",
   "metadata": {},
   "source": [
    "## Algunas características de Python"
   ]
  },
  {
   "cell_type": "markdown",
   "metadata": {},
   "source": [
    "* Lenguaje Interpretado\n",
    "\n",
    "Python, a diferencia de otros lenguajes de programación como C y Fortran es un *lenguaje interpretado*. Esto quiere decir que cuando escribimos un programa o algo de código en Python, necesitamos un intérprete instalado en nuestro sistema para poder ejecutarlo. \n",
    "\n",
    "* Lenguaje dinámico\n",
    "\n",
    "En Python, como en Octave/Matlab, no necesitamos definir una variable antes de asignarle un valor. Esto ocurre en otros lenguajes como C y Fortran. De este modo nos permite trabajar de una manera mucho más ágil y centrarnos en lo que queremos obtener más que en el código.\n",
    "\n",
    "* Lenguaje orientado a objetos\n",
    "\n",
    "La programación orientada a objetos necesitaría un curso entero para ser cubierta. Nosotros intentaremos verlo de forma natural, explicando cómo hacer las operaciones que nos interesan y dejando de lado cómo Python gestiona los entresijos de esas operaciones."
   ]
  },
  {
   "cell_type": "markdown",
   "metadata": {},
   "source": [
    "## Instalar Python"
   ]
  },
  {
   "cell_type": "markdown",
   "metadata": {},
   "source": [
    "La instalación de Python puede realizarse de muchas maneras. Sin embargo, como nosotros estamos centrados en su uso como herramienta de cálculo científico, vamos a servirnos de ciertas distribuciones gratuitas que engloban Python más una gran cantidad de módulos científicos. Hay varias distribuciones:\n",
    "\n",
    "* Anaconda (Continuum Analytics)\n",
    "* Enthought Canopy (Enthought)\n",
    "* PythonXY\n",
    "\n",
    "La distribución que vamos a usar durante el curso es Anaconda. Para instalarla hay que seguir los siguientes pasos:\n",
    "\n",
    "1. Navegar hasta la [página de descarga de Anaconda](http://continuum.io/downloads)\n",
    "\n",
    "2. Descargar el archivo apropiado para nuestro sistema operativo de la lista proporcionada.\n",
    "\n",
    "3. Ejecutar el archivo en nuestro sistema. En este punto se recomienda aceptar las opciones por defecto que se ofrecen durante el proceso de instalación.\n",
    "\n",
    "Aunque las versiones descargables de Anaconda son actualizadas cada cierto tiempo, conviene actualizar a mano los módulos que se han instalado. Para hacer esto, es necesario escribir dos líneas en una terminal o ventana de comandos. Vamos a especificarlo para el sistema operativo Windows. Los pasos serían:\n",
    "\n",
    "1. En Inicio, hacer click en \"Ejecutar...\"\n",
    "2. En el cuadro de diálogo que aparece, escribir `cmd` y presionar `Enter`\n",
    "3. Se abrirá la ventana de comandos. En ella escribir: \n",
    "    `conda update conda`\n",
    "    \n",
    "    y a continuación:\n",
    "    \n",
    "    `conda update anaconda`\n",
    "    \n",
    "En estas dos líneas hemos hecho uso del comando `conda`. Conda es el gestor de *paquetes* o módulos de Python en Anaconda. Si queremos instalar un cierto módulo que no tengamos, o actualizar otro, lo podemos hacer con este comando. Concretamente, lo que hemos hecho en las anteriores líneas es actualizar el gestor `conda` primero, y después actualizar todos los paquetes de Anaconda. Así nos aseguramos de tener la súltimas versiones de todos los módulos."
   ]
  },
  {
   "cell_type": "markdown",
   "metadata": {},
   "source": [
    "### Jupyter Notebook"
   ]
  },
  {
   "cell_type": "markdown",
   "metadata": {},
   "source": [
    "Durante el curso utilizaremos el programa Jupyter Notebook, el cual en su interior ejecuta IPython. Anaconda lo instala por defecto. IPython es un intérprete *mejorado* de Python. En su uso se parece mucho a la ventana de comandos de Matlab/Octave. Dispone de autocompletado, historial de los comandos ejecutados anteriormente y lo más importante, una interfaz que se sirve del navegador web para visualizar los resultados. Esa interfaz se llama Jupyter Notebook y permite combinar texto con fórmulas matemáticas, código, imágenes e incluso vídeos en un mismo documento por lo que resulta muy útil para trabajar en un proyecto científico o para documentar código. Este documento está escrito en Jupyter Notebook, por ejemplo. \n",
    "\n",
    "Al ejecutar Jupyter Notebook por defecto se abre el navegador en la dirección http://127.0.0.1:8888 Esta dirección se compone de dos elementos. El primero la dirección IP 127.0.0.1 la cual no es otra que nuestro propio ordenador. Es decir, el navegador se conecta a nuestro ordenador, no llama a ningún sitio externo. El segundo elemento es :8888 que indica el puerto específico al que se conecta. Si ejecutamos otra llamada adicional a IPython Notebook, se conectará a otro puerto. Esta configuración es muy flexible y permite por ejemplo, conectarse en remoto a nuestro ordenador para ejecutar algún programa de Python  a través del navegador. Para saber más detalles se puede consultar [la página de documentación del proyecto Jupyter](http://jupyter.readthedocs.org/en/latest/index.html)\n",
    "\n"
   ]
  },
  {
   "cell_type": "markdown",
   "metadata": {},
   "source": [
    "--------------\n",
    "\n",
    "El documento se divide en **celdas** que pueden ser de **texto** o de **código** de programación (estas últimas se etiquetan con el simbolo **In [ ]:** a su izquierda. Cuando se ejecutan, aparece un número entre los corchetes que identifica a esa celda). \n",
    "\n",
    " **¿Cómo modifico una celda de texto?**\n",
    "\n",
    "Para modificar un texto se ha de hacer doble-click con el ratón sobre él. Una vez terminada la modificación, y para salir del modo de escritura, se ha de pinchar con el ratón fuera de esa celda o bien _ejecutarla_ (al no haber código, la ejecución solo permite mostrar el texto de una forma más legible). Para ejecutar una celda, veáse un poco más abajo. \n",
    "\n",
    " **¿Cómo modifico una celda de código?**\n",
    "\n",
    "Para modificar el código y ver el resultado, se procede de la misma forma: doble-click con el ratón sobre el código, se procede a modificar los valores de los parámetros y posteriormente se ejecuta la celda. A continuación se describe cómo se realiza dicha ejecución.\n",
    "\n",
    "\n",
    "**¿Cómo ejecuto una celda?**\n",
    "\n",
    "Para ejecutar una celda y por ejemplo, ver el resultado del código que en ella se ha escrito, se ha de presionar a la vez _Mayúsculas + Enter_ o bien, pinchar con el ratón en el triángulo (símbolo de _Play_) que se encuentra en la barra superior (justo debajo de la opción en el menú indicada por la palabra _Kernel_).\n",
    "\n",
    "\n",
    "**¿Cómo creo una celda nueva?**\n",
    "\n",
    "Para generar una nueva celda se puede hacer con el menú superior, \n",
    "pinchando en *Insert* y eligiendo insertar una celda encima o debajo de la celda actual o bien con el comando _Ctrl-m b_ para insertar una celda \n",
    "\n",
    "\n",
    "**¿Cómo salvo mi documento?**\n",
    "\n",
    "El documento se autosalva automáticamente cada 2 minutos. Aun así, se puede pinchar en **File** en la barra superior y después en **Save and Checkpoint**. Esto obligará a salvar el documento pero además creará una imagen del documento a la que se puede volver más adelante, por si se hace un cambio que no se desee y se haya autosalvado. Por último, para cerrar el documento limpiamente se ha de pinchar de nuevo en **File** y después en **Close and halt**."
   ]
  },
  {
   "cell_type": "markdown",
   "metadata": {},
   "source": [
    "### Python para usuarios de Matlab"
   ]
  },
  {
   "cell_type": "markdown",
   "metadata": {},
   "source": [
    "Si se dispone de algún conocimiento del programa de cálculo numérico Matlab, escribir nuevos programas no resulta nada complicado. La gran mayor parte de comandos válidos para Matlab se pueden utilizar pero para ello hay que importar una serie de módulos que permiten obtener la misma funcionalidad que Matlab. Para una lectura más profunda, se puede consultar el siguiente enlace:\n",
    "\n",
    "[Equivalencia de comandos para usuarios de MATLAB](http://www.scipy.org/NumPy_for_Matlab_Users)"
   ]
  },
  {
   "cell_type": "markdown",
   "metadata": {},
   "source": [
    "### Servicios que permiten ejecutar y guardar IPython Notebooks en la red"
   ]
  },
  {
   "cell_type": "markdown",
   "metadata": {},
   "source": [
    "Dos son los servicios más completos que permiten editar, ejecutar, salvar y gestionar una biblioteca de notebooks en la red.\n",
    "\n",
    "* [Wakari](http://wakari.io). De la misma compañía que pone a disposición la suite de software científico basada en Python Anaconda (y que usaremos a lo largo del curso). Su uso es muy sencillo y permite también visualizar y ejecutar documentos de ejemplo para ver las posibilidades de IPython Notebook.\n",
    "\n",
    "* [SageMathCloud](http://cloud.sagemath.org). El enfoque de este servicio propocionado por la Universidad de Washington es diferente. Creado por el desarrollador principal del programa Sage, también de cálculo y basado en Python, permite tener un espacio personal en donde correr programas de distintos tipos, incluso editar un documento en LaTeX. También, por supuesto, permite crear, subir, editar y ejecutar notebooks."
   ]
  }
 ],
 "metadata": {
  "kernelspec": {
   "display_name": "Python 3",
   "language": "python",
   "name": "python3"
  },
  "language_info": {
   "codemirror_mode": {
    "name": "ipython",
    "version": 3
   },
   "file_extension": ".py",
   "mimetype": "text/x-python",
   "name": "python",
   "nbconvert_exporter": "python",
   "pygments_lexer": "ipython3",
   "version": "3.4.4"
  },
  "toc": {
   "toc_cell": false,
   "toc_number_sections": true,
   "toc_threshold": 6,
   "toc_window_display": false
  }
 },
 "nbformat": 4,
 "nbformat_minor": 0
}
