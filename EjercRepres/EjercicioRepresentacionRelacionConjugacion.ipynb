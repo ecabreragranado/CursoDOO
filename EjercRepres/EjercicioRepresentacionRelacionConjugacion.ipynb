{
 "cells": [
  {
   "cell_type": "markdown",
   "metadata": {},
   "source": [
    "## Ejercicio"
   ]
  },
  {
   "cell_type": "markdown",
   "metadata": {},
   "source": [
    "Ejecutar la siguiente celda antes de realizar el ejercicio para cargar los módulos necesarios"
   ]
  },
  {
   "cell_type": "code",
   "execution_count": 3,
   "metadata": {
    "collapsed": true
   },
   "outputs": [],
   "source": [
    "import numpy as np\n",
    "import matplotlib.pyplot as plt\n",
    "%matplotlib inline"
   ]
  },
  {
   "cell_type": "markdown",
   "metadata": {},
   "source": [
    "1.1 Definir una variable `f` igual a 50.0. Genera un array de números desde el -100 hasta 100 con un paso de 0.3 y asigna este array a una variable `s`. Definir a continuación una nueva variable `ss` que contenga los valores de realizar la siguiente operación:\n",
    "   \n",
    "   $$ ss = \\frac{s f}{s + f}$$"
   ]
  },
  {
   "cell_type": "markdown",
   "metadata": {},
   "source": [
    "1.2 Dibujar `ss` frente a `s` con una anchura de línea igual a 2, y fijando el rango de representación del eje vertical entre -300 y 300. Indica con etiquetas en los ejes qué variables se representan en cada uno de ellos. "
   ]
  },
  {
   "cell_type": "markdown",
   "metadata": {},
   "source": [
    "1.3 Definir la variable `beta` igual al cociente entre `ss` y `s` (aumento del sistema) y a continuación representar esta variable frente a `s` junto a una línea horizontal que marque el nivel de `beta` = 1. Establecer el rango de representación en el eje Y entre -5 y 5. Añadir etiquetas en los ejes.\n",
    "\n",
    "Nota: Para dibujar la línea horizontal en el valor igual a 1 generar un array de unos con un tamaño igual al de la variable `s` y representar este array frente a s en la misma figura."
   ]
  },
  {
   "cell_type": "markdown",
   "metadata": {},
   "source": [
    "1.4 Por inspección de la figura anterior, y considerando que `beta` significa el aumento lateral dado por una lente convergente, almacenar en las variables `smin` y  `smax` los valores mínimo y máximo respectivamente de `s` (distancia objeto) que nos permiten obtener un aumento lateral mayor o igual que 1 (positivo)."
   ]
  }
 ],
 "metadata": {
  "kernelspec": {
   "display_name": "Python 3",
   "language": "python",
   "name": "python3"
  },
  "language_info": {
   "codemirror_mode": {
    "name": "ipython",
    "version": 3
   },
   "file_extension": ".py",
   "mimetype": "text/x-python",
   "name": "python",
   "nbconvert_exporter": "python",
   "pygments_lexer": "ipython3",
   "version": "3.4.4"
  },
  "toc": {
   "toc_cell": false,
   "toc_number_sections": true,
   "toc_threshold": 6,
   "toc_window_display": false
  }
 },
 "nbformat": 4,
 "nbformat_minor": 0
}
