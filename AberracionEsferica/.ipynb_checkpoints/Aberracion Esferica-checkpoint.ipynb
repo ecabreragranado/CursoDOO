{
 "cells": [
  {
   "cell_type": "markdown",
   "metadata": {},
   "source": [
    "## Introducción\n",
    "\n",
    "La óptica paraxial asume que los rayos incidentes en el sistema óptico se encuentran próximos al eje del sistema. Rayos procedentes de un mismo punto objeto que inciden más alejados no convergen en el punto imagen dada por la óptica paraxial. El punto imagen obtenido cuando se trata la marcha real del rayo depende de la altura a la que incide el rayo. En el presente ejercicio vamos a calcular la marcha real de un rayo procedente de un objeto (aplicando la Ley de Snell sin tener en cuenta la aproximación paraxial) al incidir sobre un dioptrio esférico y calculando la distancia imagen obtenida.\n",
    "\n",
    "El objetivo del ejercicio es familiarizarse con el manejo de vectores en Numpy y la representación de datos con Matplotlib."
   ]
  },
  {
   "cell_type": "code",
   "execution_count": 2,
   "metadata": {
    "collapsed": false
   },
   "outputs": [],
   "source": [
    "import numpy as np\n",
    "import matplotlib.pyplot as plt\n",
    "%matplotlib inline"
   ]
  },
  {
   "cell_type": "markdown",
   "metadata": {},
   "source": [
    "## Marcha real de un rayo. Dioptrio esférico"
   ]
  },
  {
   "cell_type": "markdown",
   "metadata": {},
   "source": [
    "Para calcular la marcha real de un rayo procedente de un punto objeto O en el eje óptico del dioptrio y que subtiende un ángulo *u* con el eje, son necesarias aplicar consecutivamente las siguientes ecuaciones:\n",
    "\n",
    "$$\\sin(\\theta) = \\frac{s -r}{r} \\sin(u) \\;\\; (1)$$\n",
    "\n",
    "\n",
    "$$ n \\sin(\\theta) = n' \\sin(\\theta') \\;\\; (2)$$\n",
    "\n",
    "\n",
    "$$ u' = u + \\theta - \\theta' \\;\\; (3)$$\n",
    "\n",
    "\n",
    "$$ s' = r + r \\frac{\\sin(\\theta')}{\\sin(u')} \\;\\; (4)$$\n",
    "\n",
    "En estas ecuaciones, *r* es el radio del dioptrio esférico, $\\theta$ el ángulo de incidencia del rayo con la normal en el punto en el que intersecta con la superficie esférica, $\\theta'$ el ángulo del rayo refractado, *u'* el ángulo con el eje del rayo de salida y finalmente, $s'$ es la distancia del punto *O'* de intersección del rayo de salida con el eje.\n",
    "\n",
    "Para clarificar estas variables se puede observar la siguiente figura. \n",
    "\n",
    "\n",
    "La derivación de estas ecuaciones puede consultarse en numerosos libros de Óptica Geométrica. Entre ellos, *Miguel Antón et al. \"Optica Geométrica\"*."
   ]
  },
  {
   "cell_type": "markdown",
   "metadata": {},
   "source": [
    "### Ejercicio"
   ]
  },
  {
   "cell_type": "markdown",
   "metadata": {},
   "source": [
    "(a) Calcular la distancia $s'$ y el ángulo del rayo de salida con el eje $u'$ para 40 rayos procedentes de un punto *O* que dista 3.8 cm del vértice de un dioptrio esférico convexo de radio 6.9 cm. El dioptrio separa dos medios con índices $n = 1$ y $n' = 1.33$. Los rayos subtenderán con respecto al eje óptico ángulos desde 2 grados a 40 grados. Almacenar en una variable `u` estos ángulos, en una variable `sprima` las distancias $s'$ para cada rayo y en una variable `uprima` los ángulos con el eje de los rayos tras pasar por el dioptrio."
   ]
  },
  {
   "cell_type": "markdown",
   "metadata": {},
   "source": [
    "(b) A partir de los resultados obtenidos en el apartado (a), calcular la aberración esférica longitudinal (AEL) así como la aberración esférica transversal (AET) de cada uno de los rayos. Almacenar estos resultados en las variables `ael` y `aet` respectivamente."
   ]
  },
  {
   "cell_type": "markdown",
   "metadata": {},
   "source": [
    "(c) Representar en dos subfiguras diferentes las variables `ael`y `aet` en función del ángulo `u`."
   ]
  }
 ],
 "metadata": {
  "kernelspec": {
   "display_name": "Python 3",
   "language": "python",
   "name": "python3"
  },
  "language_info": {
   "codemirror_mode": {
    "name": "ipython",
    "version": 3
   },
   "file_extension": ".py",
   "mimetype": "text/x-python",
   "name": "python",
   "nbconvert_exporter": "python",
   "pygments_lexer": "ipython3",
   "version": "3.4.4"
  },
  "toc": {
   "toc_cell": false,
   "toc_number_sections": true,
   "toc_threshold": 6,
   "toc_window_display": false
  }
 },
 "nbformat": 4,
 "nbformat_minor": 0
}
