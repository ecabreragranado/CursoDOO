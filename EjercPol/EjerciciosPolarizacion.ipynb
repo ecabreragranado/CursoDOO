{
 "cells": [
  {
   "cell_type": "code",
   "execution_count": null,
   "metadata": {
    "collapsed": false
   },
   "outputs": [],
   "source": [
    "import numpy as np\n",
    "import matplotlib.pyplot as plt\n",
    "plt.style.use('bmh')\n",
    "%matplotlib inline"
   ]
  },
  {
   "cell_type": "markdown",
   "metadata": {},
   "source": [
    "## Ley de Malus\n",
    "\n",
    "1.1 Crear un array de 50 valores equiespaciados de ángulos entre 0 y $\\pi$ radianes. Almacenarlo en la variable `theta`. A continuación, crear un vector de Jones que describa un estado de polarización lineal con ángulo `theta` e intensidad unidad y almacenarlo en la variable `ini`."
   ]
  },
  {
   "cell_type": "markdown",
   "metadata": {},
   "source": [
    "1.2 Crear una matriz 2x2 que represente un polarizador con eje de transmisión vertical. Denominar a la variable que la contiene `polarizador`."
   ]
  },
  {
   "cell_type": "markdown",
   "metadata": {},
   "source": [
    "1.3 Almacenar en la variable `final` el resultado de hacer pasar un haz polarizado linealmente a lo largo de la dirección determinada por `theta` a través de un polarizador con eje de transmisión vertical. A continuación, calcular la intensidad para cada uno de los valores de `theta` (la intensidad será a su vez un array) y almacenarla en la variable `intensidad`."
   ]
  },
  {
   "cell_type": "markdown",
   "metadata": {},
   "source": [
    "1.4 Crear una figura denominada `fig1` con tamaño `(8,5)`.Dibujar en dicha figura la variación de la intensidad con el ángulo `theta`. Añadir etiquetas en los ejes."
   ]
  },
  {
   "cell_type": "markdown",
   "metadata": {},
   "source": [
    "1.5 Dibujar en una figura denominada `fig2` la variación de la intensidad con el coseno al cuadrado de `theta`. Añadir etiquetas en los ejes."
   ]
  },
  {
   "cell_type": "markdown",
   "metadata": {},
   "source": [
    "## Paso a través de varios elementos ópticos\n",
    "\n",
    "2.1 Crear un vector de Jones que describa un estado de polarización lineal con ángulo 15$^o$ e intensidad unidad y almacenarlo en la variable `polini`."
   ]
  },
  {
   "cell_type": "markdown",
   "metadata": {},
   "source": [
    "2.2 Calcular la polarización final del haz de luz con polarización inicial la descrita en el apartado 1 de este ejercicio tras pasar por un polarizador con eje a 45$^o$ con respecto a la horizontal y a continuación por una lámina $\\lambda/4$ en donde el eje horizontal sea el eje *lento*. Denominar a estas matrices `pol45` y `r4` respectivamente. Almacenar este estado final en la variable `polfin`. Crear una variable `estadofinal` que contenga el texto `'circular'` para el caso en el que se considere que este estado se corresponde con luz circularmente polarizada, `'lineal'` si se considera que es linealmente polarizada o `'eliptica'` (sin tilde) si se considera elípticamente polarizada."
   ]
  }
 ],
 "metadata": {
  "kernelspec": {
   "display_name": "Python 3",
   "language": "python",
   "name": "python3"
  },
  "language_info": {
   "codemirror_mode": {
    "name": "ipython",
    "version": 3
   },
   "file_extension": ".py",
   "mimetype": "text/x-python",
   "name": "python",
   "nbconvert_exporter": "python",
   "pygments_lexer": "ipython3",
   "version": "3.4.4"
  },
  "toc": {
   "toc_cell": false,
   "toc_number_sections": true,
   "toc_threshold": 6,
   "toc_window_display": false
  }
 },
 "nbformat": 4,
 "nbformat_minor": 0
}
