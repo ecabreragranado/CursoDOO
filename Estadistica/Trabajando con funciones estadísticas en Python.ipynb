{
 "cells": [
  {
   "cell_type": "markdown",
   "metadata": {
    "collapsed": true
   },
   "source": [
    "### Introducción\n",
    "\n",
    "Cuando analizamos un conjunto de datos, sean del tipo que sean, es necesario extraer algunos parámetros que los caracterizan, como pueden ser la media de dichos datos, el valor más probable o la dispersión. También muchas veces resulta necesario analizar si una hipótesis estadística es adecuada o no realizando un cierto test. \n",
    "\n",
    "Todas estas operaciones pueden realizarse con Python. Aunque hay diversos módulos que se pueden utilizar (en concreto, el módulo [Pandas](http://pandas.pydata.org/) posee funciones muy útiles y con grandes posibilidades) nosotros nos centraremos en el submódulo *stats* del paquete de funciones Scipy. En el presente notebook veremos algunas funciones interesantes y exploraremos algunas de sus aplicaciones.\n",
    "\n",
    "Nota: Este notebook no pretende ser una lección de estadística, sino presentar de forma básica las posibilidades de Python en este ámbito."
   ]
  },
  {
   "cell_type": "markdown",
   "metadata": {},
   "source": [
    "----------\n",
    "\n",
    "Lo primero que vamos a hacer es importar los módulos con las funciones que vamos a tratar"
   ]
  },
  {
   "cell_type": "code",
   "execution_count": null,
   "metadata": {
    "collapsed": false
   },
   "outputs": [],
   "source": [
    "import numpy as np\n",
    "import scipy as sp\n",
    "import matplotlib.pyplot as plt\n",
    "%matplotlib inline\n",
    "\n",
    "import matplotlib\n",
    "matplotlib.rcParams.update({\"font.size\":16})"
   ]
  },
  {
   "cell_type": "markdown",
   "metadata": {},
   "source": [
    "## Estadística Descriptiva"
   ]
  },
  {
   "cell_type": "markdown",
   "metadata": {
    "collapsed": true
   },
   "source": [
    "Estadística descriptiva se refiere a los métodos y herramientas para organizar los datos y extraer información de ellos. Para ilustrar las funciones que podemos utilizar, tenemos que actuar sobre un conjunto de datos. Estos datos podemos cargarlos de algún ejemplo, o generarlos nosotros con alguna función conocida. \n",
    "\n",
    "Vamos a ver como ejemplo algunas de las funciones que pueden generar datos aleatorios en Numpy. Estas se encuentran en el submódulo random y son:\n",
    "\n",
    "* rand(N) : Genera un array de N números aleatorios entre 0 y 1 distribuidos uniformemente.\n",
    "\n",
    "* randn(N): Genera un array de N números aleatorios con media 0 y varianza 1 siguiendo una distribución normal o Gaussiana.\n",
    "\n",
    "* random_integers(lim_inf, lim_sup, tamaño): Genera un array de números enteros aleatorios entre `lim_inf` y `lim_sup` de tamaño igual a `tamaño`\n"
   ]
  },
  {
   "cell_type": "markdown",
   "metadata": {},
   "source": [
    "Importamos el módulo numpy.random y lo llamamos con un nombre más corto, por ejemplo rnd. A continuación, generamos un array de 100 números aleatorios entre 0 y 10."
   ]
  },
  {
   "cell_type": "code",
   "execution_count": null,
   "metadata": {
    "collapsed": false
   },
   "outputs": [],
   "source": [
    "import numpy.random as rnd\n",
    "\n",
    "sample = rnd.rand(100)*10\n",
    "print(sample)"
   ]
  },
  {
   "cell_type": "markdown",
   "metadata": {},
   "source": [
    "### Histogramas"
   ]
  },
  {
   "cell_type": "markdown",
   "metadata": {},
   "source": [
    "Una de las primeras tareas cuando nos encontramos con un conjunto de datos es visualizarlo. Esta visualización puede realizarse mediante un histograma, que no es más que un diagrama de barras en donde en el eje X se indican diferentes rangos o \"cajas\" de valores y en el eje Y se visualiza el  número de veces que los valores dentro de cada \"caja\" aparecen en los datos. Matplotlib posee la función `hist` para dibujarlo. La forma de utilizarla es:\n",
    "\n",
    "* plt.hist(datos) donde `datos` es nuestra variable que contiene los datos.\n",
    "\n",
    "Esta forma de utilizar `hist` establece por defecto 10 \"cajas\" equiespaciadas, pero también se puede dar otro número entero para hacer más o menos fina la división. También se puede dar una lista de valores para indicar los extremos de cada \"caja\"."
   ]
  },
  {
   "cell_type": "code",
   "execution_count": null,
   "metadata": {
    "collapsed": false
   },
   "outputs": [],
   "source": [
    "fig = plt.figure(figsize=(7,7))\n",
    "h = plt.hist(sample)\n",
    "plt.xlabel('cajas')\n",
    "plt.ylabel('numero de veces que aparece en los datos');"
   ]
  },
  {
   "cell_type": "code",
   "execution_count": null,
   "metadata": {
    "collapsed": false
   },
   "outputs": [],
   "source": [
    "# Cambiando las divisiones\n",
    "fig = plt.figure(figsize=(7,7))\n",
    "h = plt.hist(sample, bins = 50)\n",
    "plt.xlabel('cajas')\n",
    "plt.ylabel('numero de veces que aparece en los datos');"
   ]
  },
  {
   "cell_type": "markdown",
   "metadata": {},
   "source": [
    "### Diagramas de cajas o de \"bigotes\""
   ]
  },
  {
   "cell_type": "markdown",
   "metadata": {},
   "source": [
    "Los diagramas de cajas o bigotes(en inglés boxplots, o bien box-whisker plot) permiten visualizar de forma sencilla distintos aspectos como el grado de dispersión de los datos, si la distribución es simétrica o no, etc.\n",
    "\n",
    "En Matplotlib, un diagrama de este tipo se genera con la función `boxplot`\n"
   ]
  },
  {
   "cell_type": "code",
   "execution_count": null,
   "metadata": {
    "collapsed": false
   },
   "outputs": [],
   "source": [
    "fig = plt.figure(figsize=(7,7))\n",
    "b = plt.boxplot(sample)"
   ]
  },
  {
   "cell_type": "markdown",
   "metadata": {},
   "source": [
    "En esta figura la línea central roja indica la mediana de los resultados, esto es, el valor central de los datos. La caja se extiende desde el cuartil inferior (25%) al cuartil superior (75%) mientras que los \"bigotes\" se extienden hasta los valores más extremos de los datos. Las opciones de la función `boxplot`son múltiples. Se pueden visualizar mediante la ayuda ejecutando en una celda `plt.boxplot?`"
   ]
  },
  {
   "cell_type": "markdown",
   "metadata": {},
   "source": [
    "### Media, desviación estadística, y otras medidas"
   ]
  },
  {
   "cell_type": "markdown",
   "metadata": {},
   "source": [
    "Algunas funciones útiles de estadística descriptiva pueden calcularse tanto con Numpy como con Scipy.stats."
   ]
  },
  {
   "cell_type": "markdown",
   "metadata": {},
   "source": [
    "La media, moda, desviación típica y varianza se obtienen mediante las siguientes funciones de Numpy"
   ]
  },
  {
   "cell_type": "code",
   "execution_count": null,
   "metadata": {
    "collapsed": false
   },
   "outputs": [],
   "source": [
    "print(np.mean(sample)) # media \n",
    "print(np.median(sample)) # mediana\n",
    "print(np.std(sample)) # desviación estadística\n",
    "print(np.var(sample)) # varianza\n",
    "print(np.min(sample))\n",
    "print(np.max(sample))"
   ]
  },
  {
   "cell_type": "markdown",
   "metadata": {},
   "source": [
    "Otra información relevante pueden ser los percentiles. El percentil 25% es el valor de los datos para el cual el 25% de todos los valores caen por debajo de él. Esta información se puede extraer de la función `percentile` de Numpy que toma dos argumentos. El primero es la variable que contiene los datos. El segundo una lista con los distintos percentiles que queremos calcular."
   ]
  },
  {
   "cell_type": "code",
   "execution_count": null,
   "metadata": {
    "collapsed": false,
    "scrolled": true
   },
   "outputs": [],
   "source": [
    "np.percentile(sample,[25,50,75])"
   ]
  },
  {
   "cell_type": "markdown",
   "metadata": {},
   "source": [
    "### Ejercicio 1\n",
    "\n",
    "(a) Genera un vector de 350 valores aleatorios entre 3 y 20 con una distribución uniforme y almacénalo en la variable `ej1`"
   ]
  },
  {
   "cell_type": "markdown",
   "metadata": {},
   "source": [
    "(b) Almacena en la variable `ej1mean` la media de los valores, en la variable `ej1var` la varianza y en la variable `ej1percentiles` los percentiles 30,60 y 90."
   ]
  },
  {
   "cell_type": "markdown",
   "metadata": {},
   "source": [
    "(c) Representa un histograma de `ej1` con 6 cajas y con etiquetas en los ejes."
   ]
  },
  {
   "cell_type": "markdown",
   "metadata": {},
   "source": [
    "### Ejercicio 2"
   ]
  },
  {
   "cell_type": "markdown",
   "metadata": {},
   "source": [
    "La *función de distribución acumulada* asocia a cada valor x, la probabilidad del evento: \"la variable X toma valores menores o iguales a x\". Para hallar el valor de esta función para un cierto valor de x, debemos calcular la fracción de datos que se encuentran por debajo de x.\n",
    "\n",
    "1) Escribe una función que realice esta operación. La función deberá llamarse `fda` y tendrá dos argumentos `data` (vector de datos) y `x` (valor para el cual se calcula la función). Esta función deberá devolver el valor de la función de distribución acumulada para `x`. Para ello, dentro de la función:\n",
    "\n",
    "a) Define una variable auxiliar `cuentas` e inicializala a cero.\n",
    "\n",
    "b) Genera un bucle for en el que una variable `valor` recorra los valores de `data`. Dentro del bucle, escribe una condición if para que si `valor` es menor o igual que x, la variable `cuentas` aumente una unidad. \n",
    "\n",
    "c) Finalmente, calcula la probabilidad de encontrar valores menores o iguales que `x` utilizando la variable `cuentas` y el tamaño total de la variable `data`. La función debe devolver esta probabilidad.\n",
    "\n",
    "2) Aplicar la función generada al vector `ej1` creado en el anterior ejercicio para valores de x igual a 2, 10 y 19.5."
   ]
  },
  {
   "cell_type": "markdown",
   "metadata": {},
   "source": [
    "El módulo scipy.stats posee la función `describe` que aglutina varias de estas medidas"
   ]
  },
  {
   "cell_type": "code",
   "execution_count": null,
   "metadata": {
    "collapsed": false
   },
   "outputs": [],
   "source": [
    "from scipy import stats\n",
    "n, min_max, mean, var, skew, kurt = stats.describe(sample)\n",
    "print(n)\n",
    "print(min_max)\n",
    "print(mean)\n",
    "print(var)\n",
    "print(skew)\n",
    "print(kurt)"
   ]
  },
  {
   "cell_type": "markdown",
   "metadata": {
    "collapsed": true
   },
   "source": [
    "En la salida de la función `describe` aparecen nuevas medidas interesantes para caracterizar un conjunto de datos:\n",
    "\n",
    "* skew (asimetría)Un valor positivo de este parámetro indica que en la distribución de valores hay un mayor número de ellos (mayor peso) a la izquierda de la distribución. También puede calcularse mediante la función `stats.skew`\n",
    "\n",
    "* kurtosis: Normalizada a cero cuando la distribución es normal.  Un valor alto de la kurtosis indica que la distribución presenta un pico más agudo y colas más anchas, mientras que un valor bajo indica un pico más redondeado y colas más finas. También puede calcularse mediante la función `stats.kurtosis`"
   ]
  },
  {
   "cell_type": "markdown",
   "metadata": {},
   "source": [
    "### Distribuciones contínuas"
   ]
  },
  {
   "cell_type": "markdown",
   "metadata": {},
   "source": [
    "El módulo Scipy.stats dispone de [múltiples funciones](http://docs.scipy.org/doc/scipy/reference/stats.html) para generar así como analizar distribuciones de datos contínuas. Algún ejemplo sería:\n",
    "\n",
    "* norm(loc, scale): Distribución normal o Gaussiana. El parámetro `loc` permite especificar la media mientras que `scale` especifica la desviación estandar.\n",
    "\n",
    "* maxwell(loc, scale): Distribución de Maxwell que nos da, por ejemplo, la distribución de velocidades de las moléculas de un gas en equilibrio térmico.\n",
    "\n",
    "* uniform(loc,scale): Distribución constante entre `loc` y `loc` + `scale`.\n",
    "\n",
    "* expon(loc,scale): Distribución exponencial\n",
    "\n",
    "------\n",
    "\n",
    "Definida una distribución, podemos calcular la **Función de Densidad de Probabilidad (PDF)** que es la derivada de la función de distribución acumulada. La integral de la PDF entre dos valores nos da la probabilidad de que nuestra variable aleatoria caiga entre esos dos valores."
   ]
  },
  {
   "cell_type": "code",
   "execution_count": null,
   "metadata": {
    "collapsed": false
   },
   "outputs": [],
   "source": [
    "import scipy.stats as scs\n",
    "distnorm = scs.norm(loc=0,scale=2)\n",
    "x = np.linspace(-10,10,100)\n",
    "plt.plot(x,distnorm.pdf(x),lw=2)\n",
    "plt.xlabel('X')\n",
    "plt.ylabel('Dist Normal');"
   ]
  },
  {
   "cell_type": "markdown",
   "metadata": {},
   "source": [
    "Podemos también generar valores aleatorios que sigan una distribución determinada mediante el método `rvs`. Por ejemplo, si queremos una muestra de 100 valores siguiendo la distribución normal mostrada en la celda anterior escribiríamos"
   ]
  },
  {
   "cell_type": "code",
   "execution_count": null,
   "metadata": {
    "collapsed": true
   },
   "outputs": [],
   "source": [
    "xaleatnorm = distnorm.rvs(100)"
   ]
  },
  {
   "cell_type": "markdown",
   "metadata": {},
   "source": [
    "### Ejercicio 3\n",
    "\n",
    "(a) Dibuja la función de densidad de probabilidad de una distribución de Maxwell sin especificar los valores de `loc`y `scale`. Añade etiquetas a los ejes\n",
    "\n",
    "(b) En la misma celda, genera un vector `xaleatmaxwell`de 1000 valores aleatorios que sigan la distribución del apartado (a).\n",
    "\n",
    "(c) Dibuja el histograma de dichos valores poniendo etiquetas a los ejes y dividiendo el conjunto de datos en 20 cajas."
   ]
  },
  {
   "cell_type": "code",
   "execution_count": null,
   "metadata": {
    "collapsed": false,
    "nbgrader": {
     "grade": true,
     "grade_id": "a5",
     "locked": false,
     "points": 1,
     "solution": true
    }
   },
   "outputs": [],
   "source": [
    "x = np.linspace(0,10,100)\n",
    "plt.plot(x,scs.maxwell().pdf(x))\n",
    "xaleatmaxwell = scs.maxwell().rvs(1000)\n",
    "fig = plt.figure(figsize=(6,5))\n",
    "plt.hist(xaleatmaxwell,bins=20)\n",
    "plt.xlabel('Data')\n",
    "plt.ylabel('Frecuencia')"
   ]
  },
  {
   "cell_type": "markdown",
   "metadata": {},
   "source": [
    "## Inferencia estadística"
   ]
  },
  {
   "cell_type": "markdown",
   "metadata": {
    "collapsed": true
   },
   "source": [
    "La estadística inferencial se ocupa de, mediante la inducción, extraer de una muestra características y parámetros de una población estadística, así como de decidir si dos muestras son estadísticamente independientes o por el contrario tienen alguna correlación.\n",
    "\n",
    "El módulo scipy.stats dispone de distintas funciones que nos permiten realizar estadística inferencial. En esta sección vamos a centrarnos en el **Contraste de Hipótesis**"
   ]
  },
  {
   "cell_type": "markdown",
   "metadata": {},
   "source": [
    "El procedimiento estadístico para contrastar una cierta hipótesis es en cierta forma análogo al empleado en muchas demostraciones matemáticas. Si queremos demostrar un cierto enunciado matemático, muchas veces podemos hacerlo *suponiendo que ese enunciado es falso*. De este modo, llegando a una contradicción, demostramos que es verdadero.\n",
    "\n",
    "En estadística se hace de forma parecida. Supongamos por ejemplo que hemos observado que unas ciertas medidas en el laboratorio parecen tener una relación lineal unas con otras.  Elaboraremos entonces una hipótesis, denominada **Hipótesis nula** que sería que esa aparente relación lineal es producto únicamente del azar. Si, analizando alguna función estadística de los datos observamos que no puede ser compatible con que sea debido al azar (esa relación lineal es *significativa*), rechazaremos la hipótesis nula y aceptaremos la relación lineal entre ambas magnitudes.\n",
    "\n",
    "En este procedimiento se denomina **valor-p** (o también valor de p, o p-valor) a la probabilidad de que el efecto que estamos analizando sea debido a la hipótesis nula. Fijando un umbral del valor-p (normalmente 0.05 ó 0.01) decidiremos si la hipótesis nula es cierta o no"
   ]
  },
  {
   "cell_type": "markdown",
   "metadata": {},
   "source": [
    "### Inferencia estadística en ajuste lineal"
   ]
  },
  {
   "cell_type": "markdown",
   "metadata": {},
   "source": [
    "Cuando estudiamos el ajuste lineal a un conjunto de datos experimentales, utilizamos la función `linregress` del módulo scipy.stats. Esta función nos devuelve, además de la pendiente, de la ordenada en el origen y del coeficiente de correlación, el valor-p del análisis estadístico de los datos. En esta ocasión, la hipótesis nula es que la pendiente sea nula, es decir, que no haya variación de los datos en Y frente a los datos en X."
   ]
  },
  {
   "cell_type": "markdown",
   "metadata": {},
   "source": [
    "### Ejercicio 4"
   ]
  },
  {
   "cell_type": "markdown",
   "metadata": {},
   "source": [
    "Realiza un ajuste lineal al conjunto de valores almacenados en el fichero `datosajuste_estadistica.dat`. Para ello, separa las dos columnas almacenadas en una variable `xdata` para la primera columna y otra variable `ydata`para la segunda columna. Utiliza la función `linregress` para obtener los valores de la pendiente y de la ordenada en el origen. Salva en la variable `valorp` el valor-p obtenido y discute en la celda indicada para ello si el ajuste lineal es estadísticamente significativo."
   ]
  },
  {
   "cell_type": "markdown",
   "metadata": {
    "nbgrader": {
     "grade": true,
     "grade_id": "a6b",
     "locked": false,
     "points": 1,
     "solution": true
    }
   },
   "source": [
    "** Modifica esta celda para discutir si el ajuste lineal es estadísticamente significativo **\n"
   ]
  },
  {
   "cell_type": "markdown",
   "metadata": {},
   "source": [
    "### Test t de Student\n",
    "\n",
    "El test t de Student o T-test se puede implementar en Python mediante la función de scipy.stats `ttest_ind` (hay más funciones para implementar este test en distintos casos, aunque nosotros nos centraremos en el caso más sencillo). Según su ayuda, \n",
    "\n",
    "`This is a two-sided test for the null hypothesis that 2 independent samples\n",
    "    have identical average (expected) values. This test assumes that the\n",
    "    populations have identical variances by default.`\n",
    "    \n",
    "`Notes\n",
    "We can use this test, if we observe two independent samples from\n",
    "    the same or different population, e.g. exam scores of boys and\n",
    "    girls or of two ethnic groups. The test measures whether the\n",
    "    average (expected) value differs significantly across samples. If\n",
    "    we observe a large p-value, for example larger than 0.05 or 0.1,\n",
    "    then we cannot reject the null hypothesis of identical average scores.\n",
    "    If the p-value is smaller than the threshold, e.g. 1%, 5% or 10%,\n",
    "    then we reject the null hypothesis of equal averages.`\n",
    "    \n",
    "Vamos a ver un ejemplo de aplicación generando dos vectores de datos bajo una distribución normal. Veremos el valor-p para dos casos con igual y distinta media.\n",
    " "
   ]
  },
  {
   "cell_type": "code",
   "execution_count": null,
   "metadata": {
    "collapsed": false
   },
   "outputs": [],
   "source": [
    "x1 = scs.norm.rvs(loc=6,scale=2,size=1000)\n",
    "x2 = scs.norm.rvs(loc=6.3,scale=2,size=1000)\n",
    "\n",
    "scs.ttest_ind(x1,x2)"
   ]
  },
  {
   "cell_type": "markdown",
   "metadata": {},
   "source": [
    "Según el resultado del test, y considerando un umbral de 0.05, el valor-p muestra que se puede rechazar la hipótesis de que los dos conjuntos de datos tengan la misma media."
   ]
  },
  {
   "cell_type": "markdown",
   "metadata": {},
   "source": [
    "### Ejercicio 5"
   ]
  },
  {
   "cell_type": "markdown",
   "metadata": {},
   "source": [
    "En el fichero `datosttest.dat` se almacenan los valores de la agudeza visual de 16 pacientes antes y después de un tratamiento destinado a corregir parcialmente la miopía. \n",
    "\n",
    "(a) Cargar los datos del fichero en la variable `data` y almacenar en las variables `antes` y `despues` los valores de la AV antes y después del tratamiento (primera y segunda columna). A continuación representar estos datos mediante dos histogramas superpuestos. (Nota: mediante la ayuda de la función `plt.hist` hallar el modo de que los histogramas se representen con una cierta transparencia para poder visualizar ambos en una misma figura).\n",
    "\n",
    "(b) Realizar un test de student sobre los datos y responder a las siguientes preguntas:\n",
    "\n",
    "(b.1) ¿Indica el resultado del test que hay cambios estadísticos significativos antes y después del tratamiento?. \n",
    "\n",
    "(b.2) ¿Indica el resultado del test que el tratamiento ha mejorado la visión de los pacientes?."
   ]
  },
  {
   "cell_type": "markdown",
   "metadata": {},
   "source": [
    "### Test sobre la distribución normal\n",
    "\n",
    "La función `normaltest` nos permite realizar un test sobre la asimetría y kurtosis de un conjunto de datos para distinguir si siguen una distribución normal."
   ]
  },
  {
   "cell_type": "code",
   "execution_count": null,
   "metadata": {
    "collapsed": false
   },
   "outputs": [],
   "source": [
    "x3 = scs.expon.rvs(loc=0,scale=1,size=1250)\n",
    "plt.hist(x3,bins=20)\n",
    "scs.normaltest(x3)"
   ]
  },
  {
   "cell_type": "markdown",
   "metadata": {},
   "source": [
    "### Ejercicio 6"
   ]
  },
  {
   "cell_type": "markdown",
   "metadata": {},
   "source": [
    "Genera una serie de datos que posean una distribución normal con media igual a 6, desviación estándar igual a 3 y tamaño igual a 1000. Suma a estos datos un vector de números aleatorios distribuidos uniformemente entre 0 y 1, multiplicado por un coeficiente `a`, definido anteriormente. \n",
    "\n",
    "a) Representar el histograma de estos datos para 4 valores diferentes valores de `a` en 4 subfiguras. En cada subfigura, añadir un título que contenga el valor de `a` utilizado.\n",
    "\n",
    "b) Hallar aproximadamente el valor de `a` que haga que la serie de datos no siga una distribución normal (aplicar el test sobre la distribución normal visto anteriormente)."
   ]
  }
 ],
 "metadata": {
  "kernelspec": {
   "display_name": "Python 3",
   "language": "python",
   "name": "python3"
  },
  "language_info": {
   "codemirror_mode": {
    "name": "ipython",
    "version": 3
   },
   "file_extension": ".py",
   "mimetype": "text/x-python",
   "name": "python",
   "nbconvert_exporter": "python",
   "pygments_lexer": "ipython3",
   "version": "3.4.4"
  },
  "toc": {
   "toc_cell": false,
   "toc_number_sections": true,
   "toc_threshold": 6,
   "toc_window_display": false
  }
 },
 "nbformat": 4,
 "nbformat_minor": 0
}
