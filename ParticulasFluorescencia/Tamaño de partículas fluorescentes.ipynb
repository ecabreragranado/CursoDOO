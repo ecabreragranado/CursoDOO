{
 "cells": [
  {
   "cell_type": "markdown",
   "metadata": {},
   "source": [
    "Carga antes de empezar el ejercicio los módulos básicos de cálculo y representación"
   ]
  },
  {
   "cell_type": "code",
   "execution_count": 1,
   "metadata": {
    "collapsed": true
   },
   "outputs": [],
   "source": [
    "import numpy as np\n",
    "import matplotlib.pyplot as plt\n",
    "%matplotlib inline"
   ]
  },
  {
   "cell_type": "markdown",
   "metadata": {},
   "source": [
    "### Ejercicio\n",
    "\n",
    "En este ejercicio vamos a medir el tamaño de partículas fluorescentes denominadas *Nile Red* observadas con un microscopio de fluorescencia en el laboratorio de la asignatura de Óptica Biomédica.\n",
    "\n",
    "Para ello primero vamos a cargar en una variable una imagen de las nanopartículas. Esta operación se realiza con el comando *imread* Como únicamente queremos calcular el tamaño y no los distintos canales rojo-verde-azul, vamos a cargarla en modo de escala de grises. Esta opción se especifica añadiendo *flatten=True* en el comando *imread*. \n",
    "\n",
    "1.1 Carga en una variable `nilered` la imagen de las nanopartículas que se encuentra en el fichero `nanopart1.jpg`. Para ello utilizar la función `imread` del módulo scipy.ndimage pero añadiendo su sintaxis la opción `flatten=True`. De este modo cargamos una imagen en RGB (tres matrices por tanto) en escala de grises (una única matriz). Almacena su tamaño en la variable `tam_nilered` y muéstralo en el notebook con la función `print`. A continuación dibuja la imagen con la función `imshow`."
   ]
  },
  {
   "cell_type": "markdown",
   "metadata": {},
   "source": [
    "1.2 Selecciona un área de la imagen que contenga únicamente una partícula fluorescente. Una vez hecho eso, localiza las coordenadas del centro de dicha partícula, almacenándolas en las variables `xcentro` e `ycentro`.\n",
    "\n",
    "Nota1: Para seleccionar un área apropiada de la imagen, representar sucesivamente partes de la imagen en donde se vea que hay una partícula, hasta aislarla por completo y poder extraer de la imagen por inspección directa los valores de `xcentro`e `ycentro`.\n",
    "\n",
    "Nota2: De entre todas las partículas, seleccionar una de aquellas que se encuentren mejor enfocadas. Para ello observar que tengan un punto rojo en el centro. Esto indicará que toman un valor alto en ese punto central, mientras que las partículas únicamente con tonos azules tomarán valores más bajos debido al desenfoque."
   ]
  },
  {
   "cell_type": "markdown",
   "metadata": {},
   "source": [
    "1.3 Almacena un corte de la imagen a lo largo de la dirección `x` y pasando por `ycentro` en la variable `corte_x` y un corte a lo largo de la dirección `y` y pasando por `xcentro`en la variable `corte_y`. Dibuja en una única figura ambos cortes superpuestos, `corte_x` en azul y `corte_y` en rojo. Añade una leyenda para identificar las curvas."
   ]
  },
  {
   "cell_type": "markdown",
   "metadata": {},
   "source": [
    "-------------\n",
    "\n",
    "Vamos a realizar en los siguientes apartados un ajuste no lineal a una función gaussiana para determinar el tamaño de las partículas. \n",
    "\n",
    "1.4 Define una función modelo `fungauss` que sea una gaussiana y tome como variable independiente `x`. Denominar a los parámetros de la siguiente forma: amplitud `A`, centro de la gaussiana `xc`, anchura `c` y valor de la base de la gaussiana `b` e introducirlos en este orden (primer parámetro `A`, segundo parámetro `xc`, etc)."
   ]
  },
  {
   "cell_type": "markdown",
   "metadata": {},
   "source": [
    "1.5 Inspeccionando la figura realizada en el apartado 1.3, dar valores iniciales adecuados de los parámetros de la gaussiana para el corte en `x` (`corte_x`). Almacenar estos parámetros iniciales en las variables `Aini_x`, `xcini_x`, `cini_x`, `bini_x`."
   ]
  },
  {
   "cell_type": "markdown",
   "metadata": {},
   "source": [
    "1.6 Realizar un ajuste no lineal del corte en `x` a la función modelo gaussiana utilizando los parámetros definidos anteriormente. Para ello, antes de llamar a la función `curve_fit` debemos definir un array de valores de la variable independiente (`xdata` en la notación de la ayuda de la función `curve_fit`). Definir una variable `xarray` que contenga los enteros desde 0 hasta el tamaño de la variable `corte_x`.\n",
    "\n",
    "A continuación, almacenar los valores de los parámetros óptimos en las variables `Aopt_x`, `xcopt_x`, `copt_x` y `bopt_x`."
   ]
  },
  {
   "cell_type": "markdown",
   "metadata": {},
   "source": [
    "1.7 Dibujar en una gráfica la variable `corte_x` frente a la variable `xarray` y el resultado de su ajuste. Añadir una leyenda para identificar las curvas y establecer un rango de representación en el eje X apropiado para mostrar la gaussiana."
   ]
  },
  {
   "cell_type": "markdown",
   "metadata": {},
   "source": [
    "1.8 Almacenar en la variable `tam_particulas` el valor estimado del tamaño de la partícula escogida en micras considerando que cada píxel mide 0.5 $\\mu$m. Mostrar el resultado en el notebook"
   ]
  }
 ],
 "metadata": {
  "kernelspec": {
   "display_name": "Python 3",
   "language": "python",
   "name": "python3"
  },
  "language_info": {
   "codemirror_mode": {
    "name": "ipython",
    "version": 3
   },
   "file_extension": ".py",
   "mimetype": "text/x-python",
   "name": "python",
   "nbconvert_exporter": "python",
   "pygments_lexer": "ipython3",
   "version": "3.4.4"
  },
  "toc": {
   "toc_cell": false,
   "toc_number_sections": true,
   "toc_threshold": 6,
   "toc_window_display": false
  }
 },
 "nbformat": 4,
 "nbformat_minor": 0
}
