{
 "cells": [
  {
   "cell_type": "markdown",
   "metadata": {
    "nbgrader": {
     "grade": false,
     "locked": false,
     "solution": false
    }
   },
   "source": [
    "**Introducción previa**\n",
    "\n",
    "Para hacer un ajuste a unos datos vamos a usar el módulo Scipy. Hay múltiples posibilidades en Scipy a la hora de abordar el ajuste de un conjunto de datos a un cierto modelo, sea este lineal (una recta), polinómico o una función arbitraria. En este notebook no vamos a cubrir todas las posibilidades. Nos centraremos en cómo hacer una regresión lineal básica con Scipy y en cómo hacer un ajuste a un modelo arbitrario. En ambos casos, lo que subyace en los algoritmos utilizados es minimizar la suma de las distancias de nuestra curva ajuste a nuestros datos en cada punto. Es decir, un ajuste por mínimos cuadrados."
   ]
  },
  {
   "cell_type": "markdown",
   "metadata": {
    "nbgrader": {
     "grade": false,
     "locked": false,
     "solution": false
    }
   },
   "source": [
    "## Regresión lineal"
   ]
  },
  {
   "cell_type": "markdown",
   "metadata": {
    "nbgrader": {
     "grade": false,
     "locked": false,
     "solution": false
    }
   },
   "source": [
    "Supongamos que tenemos un conjunto de pares de datos $(X,Y)$, que sabemos (o sospechamos) que siguen una relación lineal. Es decir, \n",
    "\n",
    "$$Y = m X + b$$\n",
    "\n",
    "¿Cómo podemos con Python obtener $m$ y $b$?. Vamos a usar la función `linregress` del submódulo de Scipy dedicado a estadística *Scipy.stats*. Así pues lo primero que debemos hacer es importar esta función. También importaremos los módulos *Numpy* para trabajar con vectores de datos y *Matplotlib.pyplot* para dibujar nuestros resultados."
   ]
  },
  {
   "cell_type": "code",
   "execution_count": null,
   "metadata": {
    "collapsed": false,
    "nbgrader": {
     "grade": false,
     "locked": false,
     "solution": false
    }
   },
   "outputs": [],
   "source": [
    "%matplotlib inline\n",
    "import numpy as np\n",
    "import matplotlib.pyplot as plt\n",
    "from scipy.stats import linregress"
   ]
  },
  {
   "cell_type": "markdown",
   "metadata": {
    "nbgrader": {
     "grade": false,
     "locked": false,
     "solution": false
    }
   },
   "source": [
    "Ahora veamos la ayuda de IPython Notebook para ver cómo tenemos que introducir los datos en nuestra función `linregress` y qué salida tiene,"
   ]
  },
  {
   "cell_type": "code",
   "execution_count": null,
   "metadata": {
    "collapsed": false,
    "nbgrader": {
     "grade": false,
     "locked": false,
     "solution": false
    }
   },
   "outputs": [],
   "source": [
    "print help(linregress)"
   ]
  },
  {
   "cell_type": "markdown",
   "metadata": {},
   "source": [
    "Como vemos, la función `linregress` toma como argumentos dos vectores `x` e `y`, que toma como dos conjuntos de medidas que deben tener la misma longitud. Por otro lado, devuelve,\n",
    "\n",
    "* `slope`, es decir, la pendiente que hemos llamado $m$ anteriormente,\n",
    "* `intercept`, que es la ordenada en el origen $b$,\n",
    "* `r_value` que es el coeficiente de correlación para estimar la bondad de nuestro ajuste.\n",
    "* `p_value` el cual es un parámetro que nos da la probabilidad de que nuestra resultado se pudiera obtener con un modelo distinto. En este caso, que la pendiente sea nula. Si es menor que un 5% aproximadamente, es que nuestra hipótesis inicial es correcta.\n",
    "* `stderr` nos da una medida de cuánto se aleja nuestra curva de los puntos *experimentales*\n",
    "\n",
    "\n",
    "Vamos a aplicarlo a un ejemplo. Primero cargaremos los datos de un fichero que tiene dos columnas y asignaremos cada columna a una variable `x` e `y`. "
   ]
  },
  {
   "cell_type": "code",
   "execution_count": null,
   "metadata": {
    "collapsed": false
   },
   "outputs": [],
   "source": [
    "prueba = np.loadtxt('prueba_reglin.dat')\n",
    "x = prueba[:,0]\n",
    "y = prueba[:,1]"
   ]
  },
  {
   "cell_type": "markdown",
   "metadata": {},
   "source": [
    "Vamos a dibujar nuestros datos antes de realizar el ajuste lineal."
   ]
  },
  {
   "cell_type": "code",
   "execution_count": null,
   "metadata": {
    "collapsed": false
   },
   "outputs": [],
   "source": [
    "plt.plot(x,y,'o')"
   ]
  },
  {
   "cell_type": "markdown",
   "metadata": {},
   "source": [
    "Ahora realizamos el ajuste siguiendo la ayuda de la función `linregress` que nos indica cómo introducir los datos"
   ]
  },
  {
   "cell_type": "code",
   "execution_count": null,
   "metadata": {
    "collapsed": false
   },
   "outputs": [],
   "source": [
    "pendiente, ordenada_origen,r,p,stderr = linregress(x,y)\n",
    "print('pendiente = ', pendiente)\n",
    "print('ordenada_origen = ' , ordenada_origen)\n",
    "print('coef. correlacion r = ', r)"
   ]
  },
  {
   "cell_type": "markdown",
   "metadata": {},
   "source": [
    "Ahora vamos a dibujar superpuestos nuestro modelo y nuestros datos experimentales"
   ]
  },
  {
   "cell_type": "code",
   "execution_count": null,
   "metadata": {
    "collapsed": false
   },
   "outputs": [],
   "source": [
    "y_modelo = pendiente*x + ordenada_origen\n",
    "\n",
    "plt.plot(x,y,'o',x,y_modelo,'r')\n",
    "plt.legend(('Datos','Modelo'),loc=0)"
   ]
  },
  {
   "cell_type": "markdown",
   "metadata": {},
   "source": [
    "Uno de los problemas que podemos tener al usar la función `linregress` es obtener el error en la pendiente y la ordenada en el origen. Estos errores no son devueltos por esta función, por lo que deberíamos calcularlos a mano. Sin embargo, también podemos usar otras funciones más completas en Python para obtenerlos. Una de ellas es la función `curve_fit` la cual la veremos a continuación."
   ]
  },
  {
   "cell_type": "markdown",
   "metadata": {},
   "source": [
    "### Ejercicio 1"
   ]
  },
  {
   "cell_type": "markdown",
   "metadata": {},
   "source": [
    "Carga los datos (2 columnas) del fichero `ejerc_reglin.dat` en una variable `data`, y realiza un ajuste lineal a dichos datos. Muestra el valor de la pendiente y de la ordenada en el origen, dibuja los datos del fichero junto al resultado del ajuste (sin olvidar las etiquetas y leyenda correspondientes). Además, justifica si consideras que el ajuste da la tendencia de los datos (realizar esta justificación en la celda habilitada para ello).\n",
    "\n",
    "Nota: Llamar a la variable que almacena el valor de la pendiente como `pend`, a la ordenada en el origen como `ordorig` y al coefficiente de correlación como `r`."
   ]
  },
  {
   "cell_type": "markdown",
   "metadata": {},
   "source": [
    "#### Comentar la justificación de la bondad del ajuste e incluir los comentarios en la siguiente celda, editando donde pone \"your answer here\""
   ]
  },
  {
   "cell_type": "markdown",
   "metadata": {
    "nbgrader": {
     "grade": true,
     "grade_id": "lineal1just",
     "locked": false,
     "points": 0.3,
     "solution": true
    }
   },
   "source": [
    "*Editar esta línea para responder este apartado del Ejercicio 1*"
   ]
  },
  {
   "cell_type": "markdown",
   "metadata": {},
   "source": [
    "### Ejercicio 2"
   ]
  },
  {
   "cell_type": "markdown",
   "metadata": {},
   "source": [
    "Carga los datos (2 columnas) del fichero ejerc_reglinb.dat en la variable `data`. Antes de realizar un ajuste lineal, representa la segunda columna frente a la primera. Deduce la tendencia de los datos (Ayuda: siguen una función polinómica) y realiza un ajuste **lineal** que dé los parámetros del modelo deducido. \n",
    "\n",
    "Por último justifique la bondad del ajuste y comente (si ha habido) los problemas de usar un ajuste lineal a datos experimentales relacionados por una función no lineal. Realizar este apartado en la celda habilitada para ello.\n",
    "\n",
    "Nota: Para realizar el ajuste lineal, se deberá definir una nueva variable `xnew` adecuadamente."
   ]
  },
  {
   "cell_type": "markdown",
   "metadata": {},
   "source": [
    "#### Comentar la justificación de la bondad del ajuste e incluir los comentarios en la siguiente celda, editando donde pone \"your answer here\""
   ]
  },
  {
   "cell_type": "markdown",
   "metadata": {
    "nbgrader": {
     "grade": true,
     "grade_id": "lineal1bjust",
     "locked": false,
     "points": 0.3,
     "solution": true
    }
   },
   "source": [
    "*Editar esta línea para responder este apartado del Ejercicio 2*"
   ]
  },
  {
   "cell_type": "markdown",
   "metadata": {},
   "source": [
    "## Ajuste a un modelo arbitrario"
   ]
  },
  {
   "cell_type": "markdown",
   "metadata": {},
   "source": [
    "Aunque en ocasiones podemos ajustar nuestras medidas para obtener información de un ajuste lineal, en la mayoría de los casos nuestro modelo será algo distinto a una recta. ¿Podemos obtener los parámetros de un modelo con una dependencia arbitraria mediante un ajuste a nuestras medidas experimentales?. La respuesta es, por supuesto, sí, y como se ha comentado anteriormente, Python proporciona múltiples funciones para hacer este tipo de análisis. \n",
    "\n",
    "Nosotros vamos a centrarnos en la función `curve_fit`, la cual es parte del submódulo `optimize` de Scipy. Vamos a importarla y ver la ayuda de Python."
   ]
  },
  {
   "cell_type": "code",
   "execution_count": null,
   "metadata": {
    "collapsed": false
   },
   "outputs": [],
   "source": [
    "from scipy.optimize import curve_fit\n",
    "help(curve_fit)"
   ]
  },
  {
   "cell_type": "markdown",
   "metadata": {},
   "source": [
    "Vemos que la función es un poco más compleja, pero es el precio que pagamos por tener una herramienta más flexible. Vamos a describir los distintos argumentos de la función y cómo se emplea.\n",
    "\n",
    "\n",
    "* Argumentos\n",
    "\n",
    "    * `f` la cual es la función modelo a la que queremos ajustar nuestras medidas. Como dice al principio de la ayuda, la función `curve_fit` asume que nuestros datos (`x_data`, `ydata`) siguen esta función, es decir, `ydata = f(x_data, *params) + eps`. Aquí `eps` es un cierto error que el programa intentará minimizar, mientras que `*params` son los parámetros de nuestra función. \n",
    "    \n",
    "    Por ejemplo, si nuestros datos siguen una función gaussiana, $f(x) = a e^{-b(x-x_0)^2}$, los parámetros que variaremos para encontrar aquella que se ajuste a nuestros datos serán $a$ y $b$.\n",
    "    \n",
    "    * `xdata`,`ydata` son nuestras medidas que queremos ajustar.\n",
    "    \n",
    "    * `p0` son los parámetros iniciales a partir de los cuales `curve_fit` intenta ajustar la función. Este argumento se puede no dar, en cuyo caso `curve_fit` comienza con los parámetros igual a 1. En nuestro ejemplo de la función gaussiana, los parámetros son [$a$,$b$] (escritos como una lista). Si sabemos que, por ejemplo, el valor de $a$ se encuentra próximo a 0.6 y $b$ próximo a 5.8, daríamos como sugerencia al programa `p0 = [0.6,5.8]`. Dar una sugerencia inicial correcta al programa de ajuste permite que el ajuste se realice más rápidamente. Incluso podría ser que sin ella la función `curve_fit` no sea capaz de encontrar los parámetros adecuados.\n",
    "    \n",
    "    * `sigma` es un vector que nos da el error de cada una de las medidas de `ydata`. Si no se especifica, se considera que los errores son nulos.\n",
    "     \n",
    "* Salida de `curve_fit`\n",
    "    \n",
    "    * `popt` . Como salida de la función `curve_fit` obtenemos primero una lista de los parámetros óptimos que se han encontrado. En nuestro caso, si nuestros parámetros son [$a$,$b$], obtendríamos los parámetros óptimos del ajuste [$a_{opt}$, $b_{opt}$].\n",
    "    \n",
    "    * `pcov` es la matriz de covarianza de los parámetros. La raíz cuadrada de su diagonal nos proporciona el error (desviación estándar) de cada uno de los parámetros.\n",
    "    \n",
    "    \n",
    "Veamos un ejemplo de su uso."
   ]
  },
  {
   "cell_type": "code",
   "execution_count": null,
   "metadata": {
    "collapsed": false
   },
   "outputs": [],
   "source": [
    "%matplotlib inline\n",
    "import numpy as np\n",
    "import matplotlib.pyplot as plt\n",
    "\n",
    "y = np.loadtxt('TumorMalignoCaida.dat')\n",
    "tiempo = y[:,0]\n",
    "fluorescencia = y[:,1]\n",
    "plt.plot(tiempo,fluorescencia,'o')"
   ]
  },
  {
   "cell_type": "markdown",
   "metadata": {},
   "source": [
    "Esta caída sabemos por nuestro modelo teórico que debería seguir una suma de dos exponenciales. Es decir, la función a la que debería ajustarse es, \n",
    "\n",
    "$$f(t) = c_1 e^{-t/t_1} + c_2 e^{-t/t_2}$$\n",
    "\n",
    "Aquí los parámetros del modelo serán $c_1$, $c_2$, $t_1$ y $t_2$. Escritos en una lista serán $[c_1,t_1,c_2,t_2]$. Vamos a definir por tanto nuestra función modelo según esta expresión,"
   ]
  },
  {
   "cell_type": "code",
   "execution_count": null,
   "metadata": {
    "collapsed": false
   },
   "outputs": [],
   "source": [
    "def fun_modelo(t,c1,t1,c2,t2): #c1,t1,c2,t2 son los parámetros de nuestro modelo.\n",
    "    return c1*np.exp(-t/t1) + c2*np.exp(-t/t2)"
   ]
  },
  {
   "cell_type": "markdown",
   "metadata": {},
   "source": [
    "Ahora vamos a dar una sugerencia inicial a nuestros parámetros para que a `curve_fit` le sea más sencillo ajustar los datos experimentales"
   ]
  },
  {
   "cell_type": "code",
   "execution_count": null,
   "metadata": {
    "collapsed": false
   },
   "outputs": [],
   "source": [
    "c1_ini = 20.0\n",
    "c2_ini = 20.0\n",
    "t1_ini = 100.0\n",
    "t2_ini = 500.0\n",
    "params_ini = [c1_ini,t1_ini,c2_ini,t2_ini] # ordenados según los requiere la función modelo."
   ]
  },
  {
   "cell_type": "markdown",
   "metadata": {},
   "source": [
    "Ya solo nos falta llamar a la función `curve_fit` para que realice el ajuste"
   ]
  },
  {
   "cell_type": "code",
   "execution_count": null,
   "metadata": {
    "collapsed": false
   },
   "outputs": [],
   "source": [
    "params_opt, pcov = curve_fit(fun_modelo,tiempo,fluorescencia,p0 = params_ini)\n",
    "print(params_opt)"
   ]
  },
  {
   "cell_type": "markdown",
   "metadata": {},
   "source": [
    "Como vemos, `curve_fit` nos da los parámetros óptimos, ordenados según se los hemos dado y requiere la función modelo. Así,"
   ]
  },
  {
   "cell_type": "code",
   "execution_count": null,
   "metadata": {
    "collapsed": false
   },
   "outputs": [],
   "source": [
    "c1_opt = params_opt[0]\n",
    "t1_opt = params_opt[1]\n",
    "c2_opt = params_opt[2]\n",
    "t2_opt = params_opt[3]"
   ]
  },
  {
   "cell_type": "markdown",
   "metadata": {},
   "source": [
    "Vamos a ver ahora el resultado de nuestro ajuste, dibujando en una gráfica los puntos experimentales y nuestro modelo."
   ]
  },
  {
   "cell_type": "code",
   "execution_count": null,
   "metadata": {
    "collapsed": false
   },
   "outputs": [],
   "source": [
    "fig = plt.figure(figsize=(7,4))\n",
    "plt.plot(tiempo,fluorescencia,'o',tiempo,fun_modelo(tiempo,c1_opt,t1_opt,c2_opt,t2_opt),'r')\n",
    "plt.xlabel('Tiempo (ps)',fontsize=14)\n",
    "plt.ylabel('Flourescencia ',fontsize=14)"
   ]
  },
  {
   "cell_type": "markdown",
   "metadata": {},
   "source": [
    "Como vemos se ajusta perfectamente. Pero, ¿y si queremos saber los errores asociados a nuestros parámetros?. Esta información nos la da `pcov`, que también es devuelta por `curve_fit` y no hemos usado hasta ahora. El error de nuestros parámetros viene dado por la diagonal de esta matriz"
   ]
  },
  {
   "cell_type": "code",
   "execution_count": null,
   "metadata": {
    "collapsed": false
   },
   "outputs": [],
   "source": [
    "print pcov"
   ]
  },
  {
   "cell_type": "code",
   "execution_count": null,
   "metadata": {
    "collapsed": false
   },
   "outputs": [],
   "source": [
    "c1_opt_error = np.sqrt(pcov[0,0])\n",
    "t1_opt_error = np.sqrt(pcov[1,1])\n",
    "c2_opt_error = np.sqrt(pcov[2,2])\n",
    "t2_opt_error = np.sqrt(pcov[3,3])\n",
    "\n",
    "print(\"Parámetros con su error\")\n",
    "print(\"c1 = \", c1_opt , 'Error c1 = ', c1_opt_error)\n",
    "print(\"t1 = \", t1_opt , 'ps', 'Error t1 = ', t1_opt_error, 'ps')\n",
    "print(\"c2 = \", c2_opt , 'Error c2 = ', c2_opt_error)\n",
    "print(\"t2 = \", t2_opt , 'ps', 'Error t2 = ', t2_opt_error, 'ps')"
   ]
  },
  {
   "cell_type": "markdown",
   "metadata": {},
   "source": [
    "### Ejercicio 3"
   ]
  },
  {
   "cell_type": "markdown",
   "metadata": {
    "nbgrader": {
     "grade": false,
     "grade_id": "ejerc3enun",
     "locked": true,
     "solution": false
    }
   },
   "source": [
    "Carga los datos del fichero `ejerc_curvefit.dat` en la variable `data` . Este fichero representa el número de veces que una nota se repite en una clase determinada. Separa los datos de cada una de las dos columnas del fichero en dos variables `x` e `y`. Estos datos se deberían ajustar al siguiente modelo, \n",
    "\n",
    "$$y = a e^{-\\frac{\\left(x -b\\right)^2}{2 c^2}} + d$$\n",
    "\n",
    "(Nota: esta es la función modelo a usar). \n",
    "\n",
    "1. Representar los datos del fichero en una figura. Utilizar etiquetas en los ejes y una leyenda en la figura."
   ]
  },
  {
   "cell_type": "markdown",
   "metadata": {},
   "source": [
    "2. Escribir la función modelo, tomando como parámetros: a,b,c,d. LLamar a la función modelo gauss"
   ]
  },
  {
   "cell_type": "markdown",
   "metadata": {},
   "source": [
    "3.- Escribir una sugerencia inicial para dichos parámetros, almacenando en las variables `aini, bini, cini, dini` el valor inicial de los parámetros `a, b, c, d`"
   ]
  },
  {
   "cell_type": "markdown",
   "metadata": {},
   "source": [
    "4.- Llamar a la función `curve_fit` para realizar un ajuste de los datos cargados al modelo generado. Almacenar los valores de los parámetros óptimos en las variables `asol, bsol, csol, dsol` y la matriz de covarianza en la variable `matrizcov`."
   ]
  },
  {
   "cell_type": "markdown",
   "metadata": {},
   "source": [
    "5.- Representar en una figura los datos junto al resultado del modelo, almacenar el error de cada uno de ellos en las variables `aerror, berror, cerror, derror`. Mostrar etiquetas en los ejes de la figura, así como una leyenda para indicar qué son los distintos elementos representados."
   ]
  }
 ],
 "metadata": {
  "kernelspec": {
   "display_name": "Python 3",
   "language": "python",
   "name": "python3"
  },
  "language_info": {
   "codemirror_mode": {
    "name": "ipython",
    "version": 3
   },
   "file_extension": ".py",
   "mimetype": "text/x-python",
   "name": "python",
   "nbconvert_exporter": "python",
   "pygments_lexer": "ipython3",
   "version": "3.4.4"
  },
  "latex_envs": {
   "bibliofile": "biblio.bib",
   "cite_by": "apalike",
   "current_citInitial": 1,
   "eqLabelWithNumbers": true,
   "eqNumInitial": 0
  },
  "toc": {
   "toc_cell": false,
   "toc_number_sections": true,
   "toc_threshold": 6,
   "toc_window_display": false
  }
 },
 "nbformat": 4,
 "nbformat_minor": 0
}
