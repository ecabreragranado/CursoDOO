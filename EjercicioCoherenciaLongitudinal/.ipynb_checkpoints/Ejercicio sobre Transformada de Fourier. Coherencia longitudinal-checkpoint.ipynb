{
 "cells": [
  {
   "cell_type": "markdown",
   "metadata": {},
   "source": [
    "## Introducción\n",
    "\n",
    "La longitud de coherencia define la máxima diferencia de caminos entre dos haces para poder observar interferencia entre ellos. Si la radiación sigue una forma temporal de un pulso, esta longitud de coherencia está relacioanda con la anchura espacial de dicho pulso. En el presente ejercicio trabajaremos con la transformada de Fourier para representar el espectro de una señal temporal que asumiremos es la evolución temporal del campo eléctrico de la luz. Además, calcularemos la longitud de coherencia y la compararemos con la dimensión espacial del pulso."
   ]
  },
  {
   "cell_type": "markdown",
   "metadata": {},
   "source": [
    "En la celda de código que se muestra se importan los módulos y funciones necesarios para la realización del ejercicio. Además, se define una función que nos da el campo eléctrico de un pulso de luz, con frecuencia centrada en la correspondiente a una longitud de onda de 800 nm. Como argumentos toma un vector de tiempos, y los parámetros $tp$ (anchura temporal del pulso) y $E0$ (amplitud del pulso). "
   ]
  },
  {
   "cell_type": "code",
   "execution_count": null,
   "metadata": {
    "collapsed": false
   },
   "outputs": [],
   "source": [
    "import numpy as np\n",
    "import matplotlib.pyplot as plt\n",
    "from scipy.fftpack import fft, fftfreq\n",
    "%matplotlib inline\n",
    "plt.style.use('bmh')\n",
    "def funpulso(t,tp,E0):\n",
    "    w= 2*np.pi*3e8/8e-7\n",
    "    return E0*np.exp(-((t-5*tp)**2/(2*tp**2)))*np.cos(w*t)"
   ]
  },
  {
   "cell_type": "markdown",
   "metadata": {},
   "source": [
    "1) Definir un vector de tiempos que llamaremos `tvec`entre 0 y 1 $\\times 10^{-12}$ s con un paso temporal $\\Delta t = 1.1 \\times 10^{-16}$."
   ]
  },
  {
   "cell_type": "markdown",
   "metadata": {},
   "source": [
    "2) Asignar a una variable `pulso` el resultado de aplicar la función definida a ese vector de tiempos con una anchura temporal igual a $3 \\times 10^{-14}$ s y una amplitud igual a $5$ kV/m"
   ]
  },
  {
   "cell_type": "markdown",
   "metadata": {},
   "source": [
    "3.- El espectro en frecuencias de dicho pulso lo podemos obtener mediante el módulo al cuadrado de su transformada de Fourier.\n",
    "\n",
    "   3.1 Calcular el módulo al cuadrado de la transformada de Fourier de la variable `pulso` y almacenarla en la variable `tfpulso`\n",
    "    "
   ]
  },
  {
   "cell_type": "markdown",
   "metadata": {},
   "source": [
    "3.2 Calcular el vector de frecuencias $\\nu$ y almacenarlo en la variable `freq`"
   ]
  },
  {
   "cell_type": "markdown",
   "metadata": {},
   "source": [
    "3.3 Representar el módulo al cuadrado de la transformada de Fourier frente a las frecuencias calculadas en el anterior apartado. Limitar el rango representado para que se muestre únicamente la parte positiva del espectro y poner etiquetas a los ejes."
   ]
  },
  {
   "cell_type": "markdown",
   "metadata": {},
   "source": [
    "    \n",
    "4)\n",
    "\n",
    "4.1 Calcular un vector de longitudes de onda `Lambda` (Nota: Recordar que $\\lambda = \\frac{c}{\\nu}$) y representar de nuevo el espectro frente a este vector (Nota: Si aparece un mensaje de error diciendo `divide by zero encountered in divide` ignorarlo). Poner etiquetas en los ejes."
   ]
  },
  {
   "cell_type": "markdown",
   "metadata": {},
   "source": [
    "4.2 Estimar la anchura espectral en longitudes de onda aproximada del pulso mediante la anchura a media altura del espectro inspeccionando la gráfica anterior y almacenarla en la variable `DeltaLambda` (El valor de esta anchura ha de ser proporcionado en metros)."
   ]
  },
  {
   "cell_type": "markdown",
   "metadata": {},
   "source": [
    "4.3. La longitud de coherencia es una propiedad de los pulsos de luz importante en los fenómenos de interferencia. Su definición es, $l_c = \\frac{\\lambda_0^2}{\\Delta \\lambda}$, donde $\\lambda_0$ es la longitud de onda central del espectro y $\\Delta \\lambda$ es la anchura espectral en longitudes de onda. Calcular el valor de la longitud de coherencia del pulso en metros y almacenarlo en la variable `lc`. "
   ]
  },
  {
   "cell_type": "markdown",
   "metadata": {},
   "source": [
    "4.4 Comparar el valor de `lc` con el valor de la extensión del pulso en el espacio $\\Delta x \\simeq c \\times tp * 2.4$"
   ]
  },
  {
   "cell_type": "markdown",
   "metadata": {
    "nbgrader": {
     "grade": true,
     "grade_id": "ej44_a",
     "locked": false,
     "points": 1,
     "solution": true
    }
   },
   "source": []
  }
 ],
 "metadata": {
  "kernelspec": {
   "display_name": "Python 3",
   "language": "python",
   "name": "python3"
  },
  "language_info": {
   "codemirror_mode": {
    "name": "ipython",
    "version": 3
   },
   "file_extension": ".py",
   "mimetype": "text/x-python",
   "name": "python",
   "nbconvert_exporter": "python",
   "pygments_lexer": "ipython3",
   "version": "3.4.4"
  },
  "name": "EjercicioCasa2.ipynb",
  "toc": {
   "toc_cell": false,
   "toc_number_sections": true,
   "toc_threshold": 6,
   "toc_window_display": false
  }
 },
 "nbformat": 4,
 "nbformat_minor": 0
}
