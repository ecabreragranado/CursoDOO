{
 "cells": [
  {
   "cell_type": "markdown",
   "metadata": {},
   "source": [
    "## Introducción\n",
    "\n",
    "En el presente ejercicio se va utilizar un modelo para ajustar los datos medidos del coeficiente de scattering de la piel. Concretamente se utilizará la predicción obtenida al considerar el scattering Rayleigh y el scattering Mie, calculando las constantes del modelo que provocan una mejor coincidencia con los datos experimentales.\n",
    "\n",
    "El objetivo es profundizar en las funciones de Scipy útiles para ajustar datos experimentales a modelos arbitrarios. También será necesario por tanto definir funciones, representar datos y trabajar con vectores."
   ]
  },
  {
   "cell_type": "markdown",
   "metadata": {
    "collapsed": true
   },
   "source": [
    "## Ejercicio"
   ]
  },
  {
   "cell_type": "markdown",
   "metadata": {},
   "source": [
    "1.- Importar el módulo numpy y denominarlo `np` para su uso en el notebook. Importar a continuación el módulo matplotlib.pyplot denominándolo `plt`. Finalmente, establecer que las figuras generadas se encuentren incrustadas en el notebook."
   ]
  },
  {
   "cell_type": "markdown",
   "metadata": {
    "collapsed": true
   },
   "source": [
    "2.- El fichero `scatteringpiel.dat` contiene dos columnas. La primera de ellas es la longitud de onda en nm, mientras que la segunda es el coeficiente de scattering de la piel. Almacenar en la variable `Lambda` la longitud de onda y en la variable `scatt` el coeficiente de scattering. Representar este coeficiente en función de la longitud de onda junto a la variación de la predicción obtenida por el scattering Rayleigh, cuya dependencia con la longitud de onda viene dada por, \n",
    "\n",
    "$$\\mu_s(\\lambda) = \\frac{2.17 \\cdot 10^{12}}{(\\lambda (nm))^4} \\; \\text{cm}^{-1}$$\n",
    "\n",
    "Para ello almacenar este coeficiente de scattering Rayleigh en la variable `scattrayleigh`.\n",
    "Añadir etiquetas a los ejes."
   ]
  },
  {
   "cell_type": "markdown",
   "metadata": {},
   "source": [
    "3.- Realiza un bucle for que recorra los índices de la variable `scatt`. Dentro del bucle generar una condición `if` tal que si la diferencia entre el valor de `scatt` y el de `scattrayleigh` para ese índice es mayor que 0.3 veces el valor de `scatt` también para ese índice, almacene en la variable `Lambda_valido` el valor de la longitud de onda que se corresponde a ese índice. A continuación, y dentro de la condición `if`, salirse del bucle.\n",
    "\n",
    "Nota: Para salirse del bucle utilizar la función `break`."
   ]
  },
  {
   "cell_type": "markdown",
   "metadata": {},
   "source": [
    "4.- Vamos a introducir en el modelo que explica el scattering de la piel otra contribución además del scattering Rayleigh. Se trata del scattering Mie, que se produce por partículas más grandes que las que dan lugar al scattering Rayleigh. Para ver la proporción entre ambos tipos de scattering, vamos a ajustar el coeficiente de scattering experimental de la piel al siguiente modelo:\n",
    "\n",
    "$$ \\mu_{modelo} = \\frac{b}{(\\lambda(nm))^{0.913}} + \\frac{c}{(\\lambda(nm))^4}$$\n",
    "\n",
    "En esta expresión el primer término se corresponde con el scattering Mie y el segundo con el scattering Rayleigh.\n",
    "\n",
    "Definir la función `scattmodelo` que tenga como variable $\\lambda$ (en nm) y como parámetros $b$ y $c$."
   ]
  },
  {
   "cell_type": "markdown",
   "metadata": {},
   "source": [
    "5.- Vamos a realizar un ajuste no lineal de los datos experimentales a este modelo por medio de la función `curve_fit` de Scipy. Definir unos parámetros iniciales `bini`y `cini` adecuados y generar la lista `paramsini` que los almacene en el orden correcto para ser introducidos en la función."
   ]
  },
  {
   "cell_type": "markdown",
   "metadata": {},
   "source": [
    "6.- Importar la función `curve_fit` del módulo scipy.optimize y ejecutarla para ajustar los datos experimentales del fichero anteriormente visualizado al modelo generado con los parámetros iniciales definidos. Almacenar los valores óptimos de los parámetros en las variables `bopt` y `copt`. Mostrar el resultado."
   ]
  },
  {
   "cell_type": "markdown",
   "metadata": {},
   "source": [
    "7.- Representar los datos experimentales con puntos y el resultado del ajuste (con línea contínua). Añadir etiquetas a los ejes y una leyenda. A continuación, calcular el valor máximo de la desviación relativa del modelo con respecto a los valores del experimento y almacenarla en la variable `desvmax`."
   ]
  }
 ],
 "metadata": {
  "kernelspec": {
   "display_name": "Python 3",
   "language": "python",
   "name": "python3"
  },
  "language_info": {
   "codemirror_mode": {
    "name": "ipython",
    "version": 3
   },
   "file_extension": ".py",
   "mimetype": "text/x-python",
   "name": "python",
   "nbconvert_exporter": "python",
   "pygments_lexer": "ipython3",
   "version": "3.4.4"
  },
  "toc": {
   "toc_cell": false,
   "toc_number_sections": true,
   "toc_threshold": 6,
   "toc_window_display": false
  }
 },
 "nbformat": 4,
 "nbformat_minor": 0
}
