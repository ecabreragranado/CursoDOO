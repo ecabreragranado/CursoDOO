{
 "cells": [
  {
   "cell_type": "markdown",
   "metadata": {},
   "source": [
    "**Ejecutar la siguiente celda antes de realizar ningún cálculo para importar los módulos que se van a utilizar en el ejercicio**"
   ]
  },
  {
   "cell_type": "code",
   "execution_count": 25,
   "metadata": {
    "collapsed": false
   },
   "outputs": [],
   "source": [
    "import numpy as np\n",
    "import matplotlib.pyplot as plt\n",
    "%matplotlib inline"
   ]
  },
  {
   "cell_type": "markdown",
   "metadata": {},
   "source": [
    "1. Crea la función `funosc` en la siguiente celda que tenga como argumentos `w` y devuelva:\n",
    "\n",
    "    $$f(\\omega) = \\frac{\\gamma}{2 m} \\frac{\\omega^2}{(\\omega^2 - \\omega_0^2)^2 + \\gamma^2 \\omega^2}$$\n",
    "\n",
    "    introduciendo $\\gamma$, $\\omega_0$  y $m$ como parámetros `gamma`, `w0` y `m` (si se tienen dudas, revisar la función utilizada en el ejercicio de ajuste no lineal)."
   ]
  },
  {
   "cell_type": "markdown",
   "metadata": {},
   "source": [
    "La función anterior representa la potencia media transmitida en un periodo por una fuerza externa a un oscilador armónico forzado. Esta función es importante en Óptica al representar la absorción de la luz en un medio. Vamos a representarla en el siguiente ejercicio\n",
    "\n",
    "2) Definimos las variables w0 = 10, gamma = 0.5 y m = 1,\n",
    "\n",
    "  a. Crear una variable `wplot` de 500 valores entre 0 y $2 \\omega_0$.\n",
    "    \n",
    "  b. Aplicar la función anteriormente generada a esta variable, con parámetros w0, gamma y m, y almacenando el resultado en otra variable que llamaremos `Pmedia`\n",
    "    \n",
    "  c. Representar `Pmedia` frente a `wplot`. Dar etiquetas a los ejes.\n",
    "       "
   ]
  },
  {
   "cell_type": "markdown",
   "metadata": {},
   "source": [
    "3) \n",
    "\n",
    "  a. Variar $\\gamma$ (parámetro `gamma` en al función) a un valor 10 veces mayor, repetir el apartado 2 y representar este nuevo caso junto al anterior **en una misma gráfica**\n",
    "\n",
    "    "
   ]
  },
  {
   "cell_type": "markdown",
   "metadata": {},
   "source": [
    " b. ¿En qué cambia la curva al aumentar $\\gamma$? "
   ]
  },
  {
   "cell_type": "markdown",
   "metadata": {
    "nbgrader": {
     "grade": true,
     "grade_id": "ej3_a",
     "locked": false,
     "points": 1,
     "solution": true
    }
   },
   "source": []
  },
  {
   "cell_type": "markdown",
   "metadata": {
    "nbgrader": {
     "grade": false,
     "locked": false,
     "solution": false
    }
   },
   "source": [
    "    \n",
    "4) Encontrar el valor máximo de la variable `Pmedia` definida en el apartado 2, y asignarlo a la variable `maxPmedia`. Encontrar también a qué valor de `w` se corresponde y asignar este valor a la variable `wmax` (Nota: Recordar la función en Python que nos devuelve el índice de un array que se corresponde al valor máximo de ese array)."
   ]
  }
 ],
 "metadata": {
  "kernelspec": {
   "display_name": "Python 3",
   "language": "python",
   "name": "python3"
  },
  "language_info": {
   "codemirror_mode": {
    "name": "ipython",
    "version": 3
   },
   "file_extension": ".py",
   "mimetype": "text/x-python",
   "name": "python",
   "nbconvert_exporter": "python",
   "pygments_lexer": "ipython3",
   "version": "3.4.4"
  },
  "name": "EjercicioCasa.ipynb",
  "toc": {
   "toc_cell": false,
   "toc_number_sections": true,
   "toc_threshold": 6,
   "toc_window_display": false
  }
 },
 "nbformat": 4,
 "nbformat_minor": 0
}
